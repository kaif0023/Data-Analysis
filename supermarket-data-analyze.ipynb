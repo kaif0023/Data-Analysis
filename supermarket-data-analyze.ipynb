{
 "cells": [
  {
   "cell_type": "code",
   "execution_count": null,
   "metadata": {
    "_cell_guid": "b1076dfc-b9ad-4769-8c92-a6c4dae69d19",
    "_uuid": "8f2839f25d086af736a60e9eeb907d3b93b6e0e5",
    "execution": {
     "iopub.execute_input": "2022-12-07T04:57:47.014440Z",
     "iopub.status.busy": "2022-12-07T04:57:47.014109Z",
     "iopub.status.idle": "2022-12-07T04:57:47.025388Z",
     "shell.execute_reply": "2022-12-07T04:57:47.024040Z",
     "shell.execute_reply.started": "2022-12-07T04:57:47.014415Z"
    }
   },
   "outputs": [],
   "source": []
  },
  {
   "cell_type": "code",
   "execution_count": 1,
   "metadata": {
    "execution": {
     "iopub.execute_input": "2022-12-07T04:57:47.027903Z",
     "iopub.status.busy": "2022-12-07T04:57:47.027548Z",
     "iopub.status.idle": "2022-12-07T04:57:47.032981Z",
     "shell.execute_reply": "2022-12-07T04:57:47.032064Z",
     "shell.execute_reply.started": "2022-12-07T04:57:47.027871Z"
    }
   },
   "outputs": [],
   "source": [
    "import pandas as pd\n",
    "import numpy as np\n",
    "import matplotlib.pyplot as plt\n",
    "import seaborn as sns"
   ]
  },
  {
   "cell_type": "markdown",
   "metadata": {},
   "source": [
    "# loading dataset of supermarket data"
   ]
  },
  {
   "cell_type": "code",
   "execution_count": 2,
   "metadata": {
    "execution": {
     "iopub.execute_input": "2022-12-07T04:57:47.034641Z",
     "iopub.status.busy": "2022-12-07T04:57:47.034329Z",
     "iopub.status.idle": "2022-12-07T04:57:47.072938Z",
     "shell.execute_reply": "2022-12-07T04:57:47.072175Z",
     "shell.execute_reply.started": "2022-12-07T04:57:47.034614Z"
    }
   },
   "outputs": [
    {
     "data": {
      "text/html": [
       "<div>\n",
       "<style scoped>\n",
       "    .dataframe tbody tr th:only-of-type {\n",
       "        vertical-align: middle;\n",
       "    }\n",
       "\n",
       "    .dataframe tbody tr th {\n",
       "        vertical-align: top;\n",
       "    }\n",
       "\n",
       "    .dataframe thead th {\n",
       "        text-align: right;\n",
       "    }\n",
       "</style>\n",
       "<table border=\"1\" class=\"dataframe\">\n",
       "  <thead>\n",
       "    <tr style=\"text-align: right;\">\n",
       "      <th></th>\n",
       "      <th>Invoice ID</th>\n",
       "      <th>Branch</th>\n",
       "      <th>City</th>\n",
       "      <th>Customer type</th>\n",
       "      <th>Gender</th>\n",
       "      <th>Product line</th>\n",
       "      <th>Unit price</th>\n",
       "      <th>Quantity</th>\n",
       "      <th>Tax 5%</th>\n",
       "      <th>Total</th>\n",
       "      <th>Date</th>\n",
       "      <th>Time</th>\n",
       "      <th>Payment</th>\n",
       "      <th>cogs</th>\n",
       "      <th>gross margin percentage</th>\n",
       "      <th>gross income</th>\n",
       "      <th>Rating</th>\n",
       "    </tr>\n",
       "  </thead>\n",
       "  <tbody>\n",
       "    <tr>\n",
       "      <th>0</th>\n",
       "      <td>750-67-8428</td>\n",
       "      <td>A</td>\n",
       "      <td>Yangon</td>\n",
       "      <td>Member</td>\n",
       "      <td>Female</td>\n",
       "      <td>Health and beauty</td>\n",
       "      <td>74.69</td>\n",
       "      <td>7</td>\n",
       "      <td>26.1415</td>\n",
       "      <td>548.9715</td>\n",
       "      <td>1/5/2019</td>\n",
       "      <td>13:08</td>\n",
       "      <td>Ewallet</td>\n",
       "      <td>522.83</td>\n",
       "      <td>4.761905</td>\n",
       "      <td>26.1415</td>\n",
       "      <td>9.1</td>\n",
       "    </tr>\n",
       "    <tr>\n",
       "      <th>1</th>\n",
       "      <td>226-31-3081</td>\n",
       "      <td>C</td>\n",
       "      <td>Naypyitaw</td>\n",
       "      <td>Normal</td>\n",
       "      <td>Female</td>\n",
       "      <td>Electronic accessories</td>\n",
       "      <td>15.28</td>\n",
       "      <td>5</td>\n",
       "      <td>3.8200</td>\n",
       "      <td>80.2200</td>\n",
       "      <td>3/8/2019</td>\n",
       "      <td>10:29</td>\n",
       "      <td>Cash</td>\n",
       "      <td>76.40</td>\n",
       "      <td>4.761905</td>\n",
       "      <td>3.8200</td>\n",
       "      <td>9.6</td>\n",
       "    </tr>\n",
       "    <tr>\n",
       "      <th>2</th>\n",
       "      <td>631-41-3108</td>\n",
       "      <td>A</td>\n",
       "      <td>Yangon</td>\n",
       "      <td>Normal</td>\n",
       "      <td>Male</td>\n",
       "      <td>Home and lifestyle</td>\n",
       "      <td>46.33</td>\n",
       "      <td>7</td>\n",
       "      <td>16.2155</td>\n",
       "      <td>340.5255</td>\n",
       "      <td>3/3/2019</td>\n",
       "      <td>13:23</td>\n",
       "      <td>Credit card</td>\n",
       "      <td>324.31</td>\n",
       "      <td>4.761905</td>\n",
       "      <td>16.2155</td>\n",
       "      <td>7.4</td>\n",
       "    </tr>\n",
       "    <tr>\n",
       "      <th>3</th>\n",
       "      <td>123-19-1176</td>\n",
       "      <td>A</td>\n",
       "      <td>Yangon</td>\n",
       "      <td>Member</td>\n",
       "      <td>Male</td>\n",
       "      <td>Health and beauty</td>\n",
       "      <td>58.22</td>\n",
       "      <td>8</td>\n",
       "      <td>23.2880</td>\n",
       "      <td>489.0480</td>\n",
       "      <td>1/27/2019</td>\n",
       "      <td>20:33</td>\n",
       "      <td>Ewallet</td>\n",
       "      <td>465.76</td>\n",
       "      <td>4.761905</td>\n",
       "      <td>23.2880</td>\n",
       "      <td>8.4</td>\n",
       "    </tr>\n",
       "    <tr>\n",
       "      <th>4</th>\n",
       "      <td>373-73-7910</td>\n",
       "      <td>A</td>\n",
       "      <td>Yangon</td>\n",
       "      <td>Normal</td>\n",
       "      <td>Male</td>\n",
       "      <td>Sports and travel</td>\n",
       "      <td>86.31</td>\n",
       "      <td>7</td>\n",
       "      <td>30.2085</td>\n",
       "      <td>634.3785</td>\n",
       "      <td>2/8/2019</td>\n",
       "      <td>10:37</td>\n",
       "      <td>Ewallet</td>\n",
       "      <td>604.17</td>\n",
       "      <td>4.761905</td>\n",
       "      <td>30.2085</td>\n",
       "      <td>5.3</td>\n",
       "    </tr>\n",
       "    <tr>\n",
       "      <th>...</th>\n",
       "      <td>...</td>\n",
       "      <td>...</td>\n",
       "      <td>...</td>\n",
       "      <td>...</td>\n",
       "      <td>...</td>\n",
       "      <td>...</td>\n",
       "      <td>...</td>\n",
       "      <td>...</td>\n",
       "      <td>...</td>\n",
       "      <td>...</td>\n",
       "      <td>...</td>\n",
       "      <td>...</td>\n",
       "      <td>...</td>\n",
       "      <td>...</td>\n",
       "      <td>...</td>\n",
       "      <td>...</td>\n",
       "      <td>...</td>\n",
       "    </tr>\n",
       "    <tr>\n",
       "      <th>995</th>\n",
       "      <td>233-67-5758</td>\n",
       "      <td>C</td>\n",
       "      <td>Naypyitaw</td>\n",
       "      <td>Normal</td>\n",
       "      <td>Male</td>\n",
       "      <td>Health and beauty</td>\n",
       "      <td>40.35</td>\n",
       "      <td>1</td>\n",
       "      <td>2.0175</td>\n",
       "      <td>42.3675</td>\n",
       "      <td>1/29/2019</td>\n",
       "      <td>13:46</td>\n",
       "      <td>Ewallet</td>\n",
       "      <td>40.35</td>\n",
       "      <td>4.761905</td>\n",
       "      <td>2.0175</td>\n",
       "      <td>6.2</td>\n",
       "    </tr>\n",
       "    <tr>\n",
       "      <th>996</th>\n",
       "      <td>303-96-2227</td>\n",
       "      <td>B</td>\n",
       "      <td>Mandalay</td>\n",
       "      <td>Normal</td>\n",
       "      <td>Female</td>\n",
       "      <td>Home and lifestyle</td>\n",
       "      <td>97.38</td>\n",
       "      <td>10</td>\n",
       "      <td>48.6900</td>\n",
       "      <td>1022.4900</td>\n",
       "      <td>3/2/2019</td>\n",
       "      <td>17:16</td>\n",
       "      <td>Ewallet</td>\n",
       "      <td>973.80</td>\n",
       "      <td>4.761905</td>\n",
       "      <td>48.6900</td>\n",
       "      <td>4.4</td>\n",
       "    </tr>\n",
       "    <tr>\n",
       "      <th>997</th>\n",
       "      <td>727-02-1313</td>\n",
       "      <td>A</td>\n",
       "      <td>Yangon</td>\n",
       "      <td>Member</td>\n",
       "      <td>Male</td>\n",
       "      <td>Food and beverages</td>\n",
       "      <td>31.84</td>\n",
       "      <td>1</td>\n",
       "      <td>1.5920</td>\n",
       "      <td>33.4320</td>\n",
       "      <td>2/9/2019</td>\n",
       "      <td>13:22</td>\n",
       "      <td>Cash</td>\n",
       "      <td>31.84</td>\n",
       "      <td>4.761905</td>\n",
       "      <td>1.5920</td>\n",
       "      <td>7.7</td>\n",
       "    </tr>\n",
       "    <tr>\n",
       "      <th>998</th>\n",
       "      <td>347-56-2442</td>\n",
       "      <td>A</td>\n",
       "      <td>Yangon</td>\n",
       "      <td>Normal</td>\n",
       "      <td>Male</td>\n",
       "      <td>Home and lifestyle</td>\n",
       "      <td>65.82</td>\n",
       "      <td>1</td>\n",
       "      <td>3.2910</td>\n",
       "      <td>69.1110</td>\n",
       "      <td>2/22/2019</td>\n",
       "      <td>15:33</td>\n",
       "      <td>Cash</td>\n",
       "      <td>65.82</td>\n",
       "      <td>4.761905</td>\n",
       "      <td>3.2910</td>\n",
       "      <td>4.1</td>\n",
       "    </tr>\n",
       "    <tr>\n",
       "      <th>999</th>\n",
       "      <td>849-09-3807</td>\n",
       "      <td>A</td>\n",
       "      <td>Yangon</td>\n",
       "      <td>Member</td>\n",
       "      <td>Female</td>\n",
       "      <td>Fashion accessories</td>\n",
       "      <td>88.34</td>\n",
       "      <td>7</td>\n",
       "      <td>30.9190</td>\n",
       "      <td>649.2990</td>\n",
       "      <td>2/18/2019</td>\n",
       "      <td>13:28</td>\n",
       "      <td>Cash</td>\n",
       "      <td>618.38</td>\n",
       "      <td>4.761905</td>\n",
       "      <td>30.9190</td>\n",
       "      <td>6.6</td>\n",
       "    </tr>\n",
       "  </tbody>\n",
       "</table>\n",
       "<p>1000 rows × 17 columns</p>\n",
       "</div>"
      ],
      "text/plain": [
       "      Invoice ID Branch       City Customer type  Gender  \\\n",
       "0    750-67-8428      A     Yangon        Member  Female   \n",
       "1    226-31-3081      C  Naypyitaw        Normal  Female   \n",
       "2    631-41-3108      A     Yangon        Normal    Male   \n",
       "3    123-19-1176      A     Yangon        Member    Male   \n",
       "4    373-73-7910      A     Yangon        Normal    Male   \n",
       "..           ...    ...        ...           ...     ...   \n",
       "995  233-67-5758      C  Naypyitaw        Normal    Male   \n",
       "996  303-96-2227      B   Mandalay        Normal  Female   \n",
       "997  727-02-1313      A     Yangon        Member    Male   \n",
       "998  347-56-2442      A     Yangon        Normal    Male   \n",
       "999  849-09-3807      A     Yangon        Member  Female   \n",
       "\n",
       "               Product line  Unit price  Quantity   Tax 5%      Total  \\\n",
       "0         Health and beauty       74.69         7  26.1415   548.9715   \n",
       "1    Electronic accessories       15.28         5   3.8200    80.2200   \n",
       "2        Home and lifestyle       46.33         7  16.2155   340.5255   \n",
       "3         Health and beauty       58.22         8  23.2880   489.0480   \n",
       "4         Sports and travel       86.31         7  30.2085   634.3785   \n",
       "..                      ...         ...       ...      ...        ...   \n",
       "995       Health and beauty       40.35         1   2.0175    42.3675   \n",
       "996      Home and lifestyle       97.38        10  48.6900  1022.4900   \n",
       "997      Food and beverages       31.84         1   1.5920    33.4320   \n",
       "998      Home and lifestyle       65.82         1   3.2910    69.1110   \n",
       "999     Fashion accessories       88.34         7  30.9190   649.2990   \n",
       "\n",
       "          Date   Time      Payment    cogs  gross margin percentage  \\\n",
       "0     1/5/2019  13:08      Ewallet  522.83                 4.761905   \n",
       "1     3/8/2019  10:29         Cash   76.40                 4.761905   \n",
       "2     3/3/2019  13:23  Credit card  324.31                 4.761905   \n",
       "3    1/27/2019  20:33      Ewallet  465.76                 4.761905   \n",
       "4     2/8/2019  10:37      Ewallet  604.17                 4.761905   \n",
       "..         ...    ...          ...     ...                      ...   \n",
       "995  1/29/2019  13:46      Ewallet   40.35                 4.761905   \n",
       "996   3/2/2019  17:16      Ewallet  973.80                 4.761905   \n",
       "997   2/9/2019  13:22         Cash   31.84                 4.761905   \n",
       "998  2/22/2019  15:33         Cash   65.82                 4.761905   \n",
       "999  2/18/2019  13:28         Cash  618.38                 4.761905   \n",
       "\n",
       "     gross income  Rating  \n",
       "0         26.1415     9.1  \n",
       "1          3.8200     9.6  \n",
       "2         16.2155     7.4  \n",
       "3         23.2880     8.4  \n",
       "4         30.2085     5.3  \n",
       "..            ...     ...  \n",
       "995        2.0175     6.2  \n",
       "996       48.6900     4.4  \n",
       "997        1.5920     7.7  \n",
       "998        3.2910     4.1  \n",
       "999       30.9190     6.6  \n",
       "\n",
       "[1000 rows x 17 columns]"
      ]
     },
     "execution_count": 2,
     "metadata": {},
     "output_type": "execute_result"
    }
   ],
   "source": [
    "df=pd.read_csv(\"C:\\\\Users\\\\md kaif\\\\Downloads\\\\data sets-20221130T050826Z-001\\\\data sets\\\\supermarket_sales - Sheet1.csv\")\n",
    "df"
   ]
  },
  {
   "cell_type": "markdown",
   "metadata": {},
   "source": [
    "# Checking shape of data"
   ]
  },
  {
   "cell_type": "code",
   "execution_count": 3,
   "metadata": {
    "execution": {
     "iopub.execute_input": "2022-12-07T04:57:47.074790Z",
     "iopub.status.busy": "2022-12-07T04:57:47.074494Z",
     "iopub.status.idle": "2022-12-07T04:57:47.080993Z",
     "shell.execute_reply": "2022-12-07T04:57:47.080319Z",
     "shell.execute_reply.started": "2022-12-07T04:57:47.074763Z"
    }
   },
   "outputs": [
    {
     "data": {
      "text/plain": [
       "(1000, 17)"
      ]
     },
     "execution_count": 3,
     "metadata": {},
     "output_type": "execute_result"
    }
   ],
   "source": [
    "df.shape"
   ]
  },
  {
   "cell_type": "markdown",
   "metadata": {},
   "source": [
    "# view of data column"
   ]
  },
  {
   "cell_type": "code",
   "execution_count": 4,
   "metadata": {
    "execution": {
     "iopub.execute_input": "2022-12-07T04:57:47.082233Z",
     "iopub.status.busy": "2022-12-07T04:57:47.081994Z",
     "iopub.status.idle": "2022-12-07T04:57:47.110079Z",
     "shell.execute_reply": "2022-12-07T04:57:47.108973Z",
     "shell.execute_reply.started": "2022-12-07T04:57:47.082211Z"
    }
   },
   "outputs": [
    {
     "data": {
      "text/html": [
       "<div>\n",
       "<style scoped>\n",
       "    .dataframe tbody tr th:only-of-type {\n",
       "        vertical-align: middle;\n",
       "    }\n",
       "\n",
       "    .dataframe tbody tr th {\n",
       "        vertical-align: top;\n",
       "    }\n",
       "\n",
       "    .dataframe thead th {\n",
       "        text-align: right;\n",
       "    }\n",
       "</style>\n",
       "<table border=\"1\" class=\"dataframe\">\n",
       "  <thead>\n",
       "    <tr style=\"text-align: right;\">\n",
       "      <th></th>\n",
       "      <th>Invoice ID</th>\n",
       "      <th>Branch</th>\n",
       "      <th>City</th>\n",
       "      <th>Customer type</th>\n",
       "      <th>Gender</th>\n",
       "      <th>Product line</th>\n",
       "      <th>Unit price</th>\n",
       "      <th>Quantity</th>\n",
       "      <th>Tax 5%</th>\n",
       "      <th>Total</th>\n",
       "      <th>Date</th>\n",
       "      <th>Time</th>\n",
       "      <th>Payment</th>\n",
       "      <th>cogs</th>\n",
       "      <th>gross margin percentage</th>\n",
       "      <th>gross income</th>\n",
       "      <th>Rating</th>\n",
       "    </tr>\n",
       "  </thead>\n",
       "  <tbody>\n",
       "    <tr>\n",
       "      <th>0</th>\n",
       "      <td>750-67-8428</td>\n",
       "      <td>A</td>\n",
       "      <td>Yangon</td>\n",
       "      <td>Member</td>\n",
       "      <td>Female</td>\n",
       "      <td>Health and beauty</td>\n",
       "      <td>74.69</td>\n",
       "      <td>7</td>\n",
       "      <td>26.1415</td>\n",
       "      <td>548.9715</td>\n",
       "      <td>1/5/2019</td>\n",
       "      <td>13:08</td>\n",
       "      <td>Ewallet</td>\n",
       "      <td>522.83</td>\n",
       "      <td>4.761905</td>\n",
       "      <td>26.1415</td>\n",
       "      <td>9.1</td>\n",
       "    </tr>\n",
       "    <tr>\n",
       "      <th>1</th>\n",
       "      <td>226-31-3081</td>\n",
       "      <td>C</td>\n",
       "      <td>Naypyitaw</td>\n",
       "      <td>Normal</td>\n",
       "      <td>Female</td>\n",
       "      <td>Electronic accessories</td>\n",
       "      <td>15.28</td>\n",
       "      <td>5</td>\n",
       "      <td>3.8200</td>\n",
       "      <td>80.2200</td>\n",
       "      <td>3/8/2019</td>\n",
       "      <td>10:29</td>\n",
       "      <td>Cash</td>\n",
       "      <td>76.40</td>\n",
       "      <td>4.761905</td>\n",
       "      <td>3.8200</td>\n",
       "      <td>9.6</td>\n",
       "    </tr>\n",
       "    <tr>\n",
       "      <th>2</th>\n",
       "      <td>631-41-3108</td>\n",
       "      <td>A</td>\n",
       "      <td>Yangon</td>\n",
       "      <td>Normal</td>\n",
       "      <td>Male</td>\n",
       "      <td>Home and lifestyle</td>\n",
       "      <td>46.33</td>\n",
       "      <td>7</td>\n",
       "      <td>16.2155</td>\n",
       "      <td>340.5255</td>\n",
       "      <td>3/3/2019</td>\n",
       "      <td>13:23</td>\n",
       "      <td>Credit card</td>\n",
       "      <td>324.31</td>\n",
       "      <td>4.761905</td>\n",
       "      <td>16.2155</td>\n",
       "      <td>7.4</td>\n",
       "    </tr>\n",
       "    <tr>\n",
       "      <th>3</th>\n",
       "      <td>123-19-1176</td>\n",
       "      <td>A</td>\n",
       "      <td>Yangon</td>\n",
       "      <td>Member</td>\n",
       "      <td>Male</td>\n",
       "      <td>Health and beauty</td>\n",
       "      <td>58.22</td>\n",
       "      <td>8</td>\n",
       "      <td>23.2880</td>\n",
       "      <td>489.0480</td>\n",
       "      <td>1/27/2019</td>\n",
       "      <td>20:33</td>\n",
       "      <td>Ewallet</td>\n",
       "      <td>465.76</td>\n",
       "      <td>4.761905</td>\n",
       "      <td>23.2880</td>\n",
       "      <td>8.4</td>\n",
       "    </tr>\n",
       "    <tr>\n",
       "      <th>4</th>\n",
       "      <td>373-73-7910</td>\n",
       "      <td>A</td>\n",
       "      <td>Yangon</td>\n",
       "      <td>Normal</td>\n",
       "      <td>Male</td>\n",
       "      <td>Sports and travel</td>\n",
       "      <td>86.31</td>\n",
       "      <td>7</td>\n",
       "      <td>30.2085</td>\n",
       "      <td>634.3785</td>\n",
       "      <td>2/8/2019</td>\n",
       "      <td>10:37</td>\n",
       "      <td>Ewallet</td>\n",
       "      <td>604.17</td>\n",
       "      <td>4.761905</td>\n",
       "      <td>30.2085</td>\n",
       "      <td>5.3</td>\n",
       "    </tr>\n",
       "  </tbody>\n",
       "</table>\n",
       "</div>"
      ],
      "text/plain": [
       "    Invoice ID Branch       City Customer type  Gender  \\\n",
       "0  750-67-8428      A     Yangon        Member  Female   \n",
       "1  226-31-3081      C  Naypyitaw        Normal  Female   \n",
       "2  631-41-3108      A     Yangon        Normal    Male   \n",
       "3  123-19-1176      A     Yangon        Member    Male   \n",
       "4  373-73-7910      A     Yangon        Normal    Male   \n",
       "\n",
       "             Product line  Unit price  Quantity   Tax 5%     Total       Date  \\\n",
       "0       Health and beauty       74.69         7  26.1415  548.9715   1/5/2019   \n",
       "1  Electronic accessories       15.28         5   3.8200   80.2200   3/8/2019   \n",
       "2      Home and lifestyle       46.33         7  16.2155  340.5255   3/3/2019   \n",
       "3       Health and beauty       58.22         8  23.2880  489.0480  1/27/2019   \n",
       "4       Sports and travel       86.31         7  30.2085  634.3785   2/8/2019   \n",
       "\n",
       "    Time      Payment    cogs  gross margin percentage  gross income  Rating  \n",
       "0  13:08      Ewallet  522.83                 4.761905       26.1415     9.1  \n",
       "1  10:29         Cash   76.40                 4.761905        3.8200     9.6  \n",
       "2  13:23  Credit card  324.31                 4.761905       16.2155     7.4  \n",
       "3  20:33      Ewallet  465.76                 4.761905       23.2880     8.4  \n",
       "4  10:37      Ewallet  604.17                 4.761905       30.2085     5.3  "
      ]
     },
     "execution_count": 4,
     "metadata": {},
     "output_type": "execute_result"
    }
   ],
   "source": [
    "df.head()"
   ]
  },
  {
   "cell_type": "code",
   "execution_count": 5,
   "metadata": {
    "execution": {
     "iopub.execute_input": "2022-12-07T04:57:47.111635Z",
     "iopub.status.busy": "2022-12-07T04:57:47.111361Z",
     "iopub.status.idle": "2022-12-07T04:57:47.123341Z",
     "shell.execute_reply": "2022-12-07T04:57:47.121562Z",
     "shell.execute_reply.started": "2022-12-07T04:57:47.111609Z"
    }
   },
   "outputs": [],
   "source": [
    "##### - Attributes Information\n",
    "\n",
    "##- Invoice id: Computer generated sales slip invoice identification number\n",
    "\n",
    "#- Branch: Branch of supercenter (3 branches are available identified by A, B and C).\n",
    "\n",
    "#- City: Location of supercenters\n",
    "\n",
    "####- Customer type: Type of customers, recorded by Members for customers using member card and Normal for without member card.\n",
    "\n",
    "###- Gender: Gender type of customer\n",
    "\n",
    "##- Product line: General item categorization groups - Electronic accessories, Fashion accessories, Food and beverages, Health and beauty, Home and lifestyle, Sports and travel\n",
    "#- Unit price: Price of each product in $\n",
    "\n",
    "#- Quantity: Number of products purchased by customer\n",
    "\n",
    "#- Tax: 5% tax fee for customer buying\n",
    "\n",
    "#- Total: Total price including tax\n",
    "\n",
    "#- Date: Date of purchase (Record available from January 2019 to March 2019)\n",
    "\n",
    "#- Time: Purchase time (10am to 9pm)\n",
    "\n",
    "#- Payment: Payment used by customer for purchase (3 methods are available – Cash, Credit card and Ewallet)\n",
    "\n",
    "#- COGS: Cost of goods sold\n",
    "\n",
    "#- Gross margin percentage: Gross margin percentage\n",
    "#- Gross income: Gross income\n",
    "\n",
    "#- Rating: Customer stratification rating on their overall shopping experience (On a scale of 1 to 10)\n",
    "\n",
    "\n"
   ]
  },
  {
   "cell_type": "markdown",
   "metadata": {
    "execution": {
     "iopub.execute_input": "2022-12-06T05:25:18.622988Z",
     "iopub.status.busy": "2022-12-06T05:25:18.622517Z",
     "iopub.status.idle": "2022-12-06T05:25:18.627518Z",
     "shell.execute_reply": "2022-12-06T05:25:18.626687Z",
     "shell.execute_reply.started": "2022-12-06T05:25:18.622953Z"
    }
   },
   "source": [
    "# Basic information about data"
   ]
  },
  {
   "cell_type": "code",
   "execution_count": 6,
   "metadata": {
    "execution": {
     "iopub.status.busy": "2022-12-07T04:57:47.124337Z",
     "iopub.status.idle": "2022-12-07T04:57:47.124908Z",
     "shell.execute_reply": "2022-12-07T04:57:47.124577Z",
     "shell.execute_reply.started": "2022-12-07T04:57:47.124558Z"
    }
   },
   "outputs": [
    {
     "name": "stdout",
     "output_type": "stream",
     "text": [
      "<class 'pandas.core.frame.DataFrame'>\n",
      "RangeIndex: 1000 entries, 0 to 999\n",
      "Data columns (total 17 columns):\n",
      " #   Column                   Non-Null Count  Dtype  \n",
      "---  ------                   --------------  -----  \n",
      " 0   Invoice ID               1000 non-null   object \n",
      " 1   Branch                   1000 non-null   object \n",
      " 2   City                     1000 non-null   object \n",
      " 3   Customer type            1000 non-null   object \n",
      " 4   Gender                   1000 non-null   object \n",
      " 5   Product line             1000 non-null   object \n",
      " 6   Unit price               1000 non-null   float64\n",
      " 7   Quantity                 1000 non-null   int64  \n",
      " 8   Tax 5%                   1000 non-null   float64\n",
      " 9   Total                    1000 non-null   float64\n",
      " 10  Date                     1000 non-null   object \n",
      " 11  Time                     1000 non-null   object \n",
      " 12  Payment                  1000 non-null   object \n",
      " 13  cogs                     1000 non-null   float64\n",
      " 14  gross margin percentage  1000 non-null   float64\n",
      " 15  gross income             1000 non-null   float64\n",
      " 16  Rating                   1000 non-null   float64\n",
      "dtypes: float64(7), int64(1), object(9)\n",
      "memory usage: 132.9+ KB\n"
     ]
    }
   ],
   "source": [
    "df.info()"
   ]
  },
  {
   "cell_type": "code",
   "execution_count": 7,
   "metadata": {
    "execution": {
     "iopub.status.busy": "2022-12-07T04:57:47.129966Z",
     "iopub.status.idle": "2022-12-07T04:57:47.130871Z",
     "shell.execute_reply": "2022-12-07T04:57:47.130513Z",
     "shell.execute_reply.started": "2022-12-07T04:57:47.130478Z"
    }
   },
   "outputs": [
    {
     "data": {
      "text/plain": [
       "0       548.9715\n",
       "1        80.2200\n",
       "2       340.5255\n",
       "3       489.0480\n",
       "4       634.3785\n",
       "         ...    \n",
       "995      42.3675\n",
       "996    1022.4900\n",
       "997      33.4320\n",
       "998      69.1110\n",
       "999     649.2990\n",
       "Length: 1000, dtype: float64"
      ]
     },
     "execution_count": 7,
     "metadata": {},
     "output_type": "execute_result"
    }
   ],
   "source": [
    "total=(df['Unit price']*df['Quantity'])+df['Tax 5%']\n",
    "total\n"
   ]
  },
  {
   "cell_type": "code",
   "execution_count": 8,
   "metadata": {
    "execution": {
     "iopub.execute_input": "2022-12-07T04:57:47.282680Z",
     "iopub.status.busy": "2022-12-07T04:57:47.281641Z",
     "iopub.status.idle": "2022-12-07T04:57:47.293805Z",
     "shell.execute_reply": "2022-12-07T04:57:47.292971Z",
     "shell.execute_reply.started": "2022-12-07T04:57:47.282640Z"
    }
   },
   "outputs": [
    {
     "data": {
      "text/plain": [
       "0      4.761905\n",
       "1      4.761905\n",
       "2      4.761905\n",
       "3      4.761905\n",
       "4      4.761905\n",
       "         ...   \n",
       "995    4.761905\n",
       "996    4.761905\n",
       "997    4.761905\n",
       "998    4.761905\n",
       "999    4.761905\n",
       "Length: 1000, dtype: float64"
      ]
     },
     "execution_count": 8,
     "metadata": {},
     "output_type": "execute_result"
    }
   ],
   "source": [
    "# Gross margin  % in profit\n",
    "gross_Margin=(df['Total']- df['cogs'])/df['Total']*(100)\n",
    "gross_Margin  \n",
    "\n",
    "\n"
   ]
  },
  {
   "cell_type": "markdown",
   "metadata": {},
   "source": [
    "# checking the missing value"
   ]
  },
  {
   "cell_type": "code",
   "execution_count": 9,
   "metadata": {
    "execution": {
     "iopub.execute_input": "2022-12-07T04:57:47.296089Z",
     "iopub.status.busy": "2022-12-07T04:57:47.295560Z",
     "iopub.status.idle": "2022-12-07T04:57:47.311140Z",
     "shell.execute_reply": "2022-12-07T04:57:47.310195Z",
     "shell.execute_reply.started": "2022-12-07T04:57:47.296057Z"
    }
   },
   "outputs": [
    {
     "data": {
      "text/plain": [
       "Invoice ID                 0\n",
       "Branch                     0\n",
       "City                       0\n",
       "Customer type              0\n",
       "Gender                     0\n",
       "Product line               0\n",
       "Unit price                 0\n",
       "Quantity                   0\n",
       "Tax 5%                     0\n",
       "Total                      0\n",
       "Date                       0\n",
       "Time                       0\n",
       "Payment                    0\n",
       "cogs                       0\n",
       "gross margin percentage    0\n",
       "gross income               0\n",
       "Rating                     0\n",
       "dtype: int64"
      ]
     },
     "execution_count": 9,
     "metadata": {},
     "output_type": "execute_result"
    }
   ],
   "source": [
    "df.isnull().sum()\n",
    "### from the above output we can say  that there is no missing value"
   ]
  },
  {
   "cell_type": "markdown",
   "metadata": {},
   "source": [
    "# check the statistical summary of data"
   ]
  },
  {
   "cell_type": "code",
   "execution_count": 10,
   "metadata": {
    "execution": {
     "iopub.execute_input": "2022-12-07T04:57:47.313017Z",
     "iopub.status.busy": "2022-12-07T04:57:47.312274Z",
     "iopub.status.idle": "2022-12-07T04:57:47.353581Z",
     "shell.execute_reply": "2022-12-07T04:57:47.352681Z",
     "shell.execute_reply.started": "2022-12-07T04:57:47.312988Z"
    }
   },
   "outputs": [
    {
     "data": {
      "text/html": [
       "<div>\n",
       "<style scoped>\n",
       "    .dataframe tbody tr th:only-of-type {\n",
       "        vertical-align: middle;\n",
       "    }\n",
       "\n",
       "    .dataframe tbody tr th {\n",
       "        vertical-align: top;\n",
       "    }\n",
       "\n",
       "    .dataframe thead th {\n",
       "        text-align: right;\n",
       "    }\n",
       "</style>\n",
       "<table border=\"1\" class=\"dataframe\">\n",
       "  <thead>\n",
       "    <tr style=\"text-align: right;\">\n",
       "      <th></th>\n",
       "      <th>Unit price</th>\n",
       "      <th>Quantity</th>\n",
       "      <th>Tax 5%</th>\n",
       "      <th>Total</th>\n",
       "      <th>cogs</th>\n",
       "      <th>gross margin percentage</th>\n",
       "      <th>gross income</th>\n",
       "      <th>Rating</th>\n",
       "    </tr>\n",
       "  </thead>\n",
       "  <tbody>\n",
       "    <tr>\n",
       "      <th>count</th>\n",
       "      <td>1000.000000</td>\n",
       "      <td>1000.000000</td>\n",
       "      <td>1000.000000</td>\n",
       "      <td>1000.000000</td>\n",
       "      <td>1000.00000</td>\n",
       "      <td>1.000000e+03</td>\n",
       "      <td>1000.000000</td>\n",
       "      <td>1000.00000</td>\n",
       "    </tr>\n",
       "    <tr>\n",
       "      <th>mean</th>\n",
       "      <td>55.672130</td>\n",
       "      <td>5.510000</td>\n",
       "      <td>15.379369</td>\n",
       "      <td>322.966749</td>\n",
       "      <td>307.58738</td>\n",
       "      <td>4.761905e+00</td>\n",
       "      <td>15.379369</td>\n",
       "      <td>6.97270</td>\n",
       "    </tr>\n",
       "    <tr>\n",
       "      <th>std</th>\n",
       "      <td>26.494628</td>\n",
       "      <td>2.923431</td>\n",
       "      <td>11.708825</td>\n",
       "      <td>245.885335</td>\n",
       "      <td>234.17651</td>\n",
       "      <td>6.131498e-14</td>\n",
       "      <td>11.708825</td>\n",
       "      <td>1.71858</td>\n",
       "    </tr>\n",
       "    <tr>\n",
       "      <th>min</th>\n",
       "      <td>10.080000</td>\n",
       "      <td>1.000000</td>\n",
       "      <td>0.508500</td>\n",
       "      <td>10.678500</td>\n",
       "      <td>10.17000</td>\n",
       "      <td>4.761905e+00</td>\n",
       "      <td>0.508500</td>\n",
       "      <td>4.00000</td>\n",
       "    </tr>\n",
       "    <tr>\n",
       "      <th>25%</th>\n",
       "      <td>32.875000</td>\n",
       "      <td>3.000000</td>\n",
       "      <td>5.924875</td>\n",
       "      <td>124.422375</td>\n",
       "      <td>118.49750</td>\n",
       "      <td>4.761905e+00</td>\n",
       "      <td>5.924875</td>\n",
       "      <td>5.50000</td>\n",
       "    </tr>\n",
       "    <tr>\n",
       "      <th>50%</th>\n",
       "      <td>55.230000</td>\n",
       "      <td>5.000000</td>\n",
       "      <td>12.088000</td>\n",
       "      <td>253.848000</td>\n",
       "      <td>241.76000</td>\n",
       "      <td>4.761905e+00</td>\n",
       "      <td>12.088000</td>\n",
       "      <td>7.00000</td>\n",
       "    </tr>\n",
       "    <tr>\n",
       "      <th>75%</th>\n",
       "      <td>77.935000</td>\n",
       "      <td>8.000000</td>\n",
       "      <td>22.445250</td>\n",
       "      <td>471.350250</td>\n",
       "      <td>448.90500</td>\n",
       "      <td>4.761905e+00</td>\n",
       "      <td>22.445250</td>\n",
       "      <td>8.50000</td>\n",
       "    </tr>\n",
       "    <tr>\n",
       "      <th>max</th>\n",
       "      <td>99.960000</td>\n",
       "      <td>10.000000</td>\n",
       "      <td>49.650000</td>\n",
       "      <td>1042.650000</td>\n",
       "      <td>993.00000</td>\n",
       "      <td>4.761905e+00</td>\n",
       "      <td>49.650000</td>\n",
       "      <td>10.00000</td>\n",
       "    </tr>\n",
       "  </tbody>\n",
       "</table>\n",
       "</div>"
      ],
      "text/plain": [
       "        Unit price     Quantity       Tax 5%        Total        cogs  \\\n",
       "count  1000.000000  1000.000000  1000.000000  1000.000000  1000.00000   \n",
       "mean     55.672130     5.510000    15.379369   322.966749   307.58738   \n",
       "std      26.494628     2.923431    11.708825   245.885335   234.17651   \n",
       "min      10.080000     1.000000     0.508500    10.678500    10.17000   \n",
       "25%      32.875000     3.000000     5.924875   124.422375   118.49750   \n",
       "50%      55.230000     5.000000    12.088000   253.848000   241.76000   \n",
       "75%      77.935000     8.000000    22.445250   471.350250   448.90500   \n",
       "max      99.960000    10.000000    49.650000  1042.650000   993.00000   \n",
       "\n",
       "       gross margin percentage  gross income      Rating  \n",
       "count             1.000000e+03   1000.000000  1000.00000  \n",
       "mean              4.761905e+00     15.379369     6.97270  \n",
       "std               6.131498e-14     11.708825     1.71858  \n",
       "min               4.761905e+00      0.508500     4.00000  \n",
       "25%               4.761905e+00      5.924875     5.50000  \n",
       "50%               4.761905e+00     12.088000     7.00000  \n",
       "75%               4.761905e+00     22.445250     8.50000  \n",
       "max               4.761905e+00     49.650000    10.00000  "
      ]
     },
     "execution_count": 10,
     "metadata": {},
     "output_type": "execute_result"
    }
   ],
   "source": [
    "df.describe()"
   ]
  },
  {
   "cell_type": "markdown",
   "metadata": {},
   "source": [
    "# Check the types of column"
   ]
  },
  {
   "cell_type": "code",
   "execution_count": 11,
   "metadata": {
    "execution": {
     "iopub.execute_input": "2022-12-07T04:57:47.355830Z",
     "iopub.status.busy": "2022-12-07T04:57:47.355542Z",
     "iopub.status.idle": "2022-12-07T04:57:47.363189Z",
     "shell.execute_reply": "2022-12-07T04:57:47.362465Z",
     "shell.execute_reply.started": "2022-12-07T04:57:47.355805Z"
    }
   },
   "outputs": [
    {
     "data": {
      "text/plain": [
       "Invoice ID                  object\n",
       "Branch                      object\n",
       "City                        object\n",
       "Customer type               object\n",
       "Gender                      object\n",
       "Product line                object\n",
       "Unit price                 float64\n",
       "Quantity                     int64\n",
       "Tax 5%                     float64\n",
       "Total                      float64\n",
       "Date                        object\n",
       "Time                        object\n",
       "Payment                     object\n",
       "cogs                       float64\n",
       "gross margin percentage    float64\n",
       "gross income               float64\n",
       "Rating                     float64\n",
       "dtype: object"
      ]
     },
     "execution_count": 11,
     "metadata": {},
     "output_type": "execute_result"
    }
   ],
   "source": [
    "df.dtypes\n",
    "## fromthis output we can say that we have to change the date and time type in date time type"
   ]
  },
  {
   "cell_type": "markdown",
   "metadata": {},
   "source": [
    "# Converting date column  in datetime type"
   ]
  },
  {
   "cell_type": "code",
   "execution_count": 12,
   "metadata": {
    "execution": {
     "iopub.execute_input": "2022-12-07T04:57:47.365229Z",
     "iopub.status.busy": "2022-12-07T04:57:47.364282Z",
     "iopub.status.idle": "2022-12-07T04:57:47.390823Z",
     "shell.execute_reply": "2022-12-07T04:57:47.389766Z",
     "shell.execute_reply.started": "2022-12-07T04:57:47.365197Z"
    }
   },
   "outputs": [
    {
     "data": {
      "text/plain": [
       "0     2019-01-05\n",
       "1     2019-03-08\n",
       "2     2019-03-03\n",
       "3     2019-01-27\n",
       "4     2019-02-08\n",
       "         ...    \n",
       "995   2019-01-29\n",
       "996   2019-03-02\n",
       "997   2019-02-09\n",
       "998   2019-02-22\n",
       "999   2019-02-18\n",
       "Name: Date, Length: 1000, dtype: datetime64[ns]"
      ]
     },
     "execution_count": 12,
     "metadata": {},
     "output_type": "execute_result"
    }
   ],
   "source": [
    "df['Date']=pd.to_datetime(df['Date'])\n",
    "df['Date']"
   ]
  },
  {
   "cell_type": "markdown",
   "metadata": {},
   "source": [
    "## checking columns type again"
   ]
  },
  {
   "cell_type": "code",
   "execution_count": 13,
   "metadata": {
    "execution": {
     "iopub.execute_input": "2022-12-07T04:57:47.392607Z",
     "iopub.status.busy": "2022-12-07T04:57:47.392273Z",
     "iopub.status.idle": "2022-12-07T04:57:47.400315Z",
     "shell.execute_reply": "2022-12-07T04:57:47.399348Z",
     "shell.execute_reply.started": "2022-12-07T04:57:47.392569Z"
    }
   },
   "outputs": [
    {
     "data": {
      "text/plain": [
       "Invoice ID                         object\n",
       "Branch                             object\n",
       "City                               object\n",
       "Customer type                      object\n",
       "Gender                             object\n",
       "Product line                       object\n",
       "Unit price                        float64\n",
       "Quantity                            int64\n",
       "Tax 5%                            float64\n",
       "Total                             float64\n",
       "Date                       datetime64[ns]\n",
       "Time                               object\n",
       "Payment                            object\n",
       "cogs                              float64\n",
       "gross margin percentage           float64\n",
       "gross income                      float64\n",
       "Rating                            float64\n",
       "dtype: object"
      ]
     },
     "execution_count": 13,
     "metadata": {},
     "output_type": "execute_result"
    }
   ],
   "source": [
    "df.dtypes"
   ]
  },
  {
   "cell_type": "markdown",
   "metadata": {},
   "source": [
    "# converting time column in datetime"
   ]
  },
  {
   "cell_type": "code",
   "execution_count": 14,
   "metadata": {
    "execution": {
     "iopub.execute_input": "2022-12-07T04:57:47.402552Z",
     "iopub.status.busy": "2022-12-07T04:57:47.402210Z",
     "iopub.status.idle": "2022-12-07T04:57:47.455641Z",
     "shell.execute_reply": "2022-12-07T04:57:47.454530Z",
     "shell.execute_reply.started": "2022-12-07T04:57:47.402524Z"
    }
   },
   "outputs": [
    {
     "data": {
      "text/plain": [
       "0     2022-12-09 13:08:00\n",
       "1     2022-12-09 10:29:00\n",
       "2     2022-12-09 13:23:00\n",
       "3     2022-12-09 20:33:00\n",
       "4     2022-12-09 10:37:00\n",
       "              ...        \n",
       "995   2022-12-09 13:46:00\n",
       "996   2022-12-09 17:16:00\n",
       "997   2022-12-09 13:22:00\n",
       "998   2022-12-09 15:33:00\n",
       "999   2022-12-09 13:28:00\n",
       "Name: Time, Length: 1000, dtype: datetime64[ns]"
      ]
     },
     "execution_count": 14,
     "metadata": {},
     "output_type": "execute_result"
    }
   ],
   "source": [
    "df['Time']=pd.to_datetime(df['Time'])\n",
    "df['Time']"
   ]
  },
  {
   "cell_type": "markdown",
   "metadata": {
    "execution": {
     "iopub.execute_input": "2022-12-06T05:35:38.275921Z",
     "iopub.status.busy": "2022-12-06T05:35:38.275180Z",
     "iopub.status.idle": "2022-12-06T05:35:38.279909Z",
     "shell.execute_reply": "2022-12-06T05:35:38.278919Z",
     "shell.execute_reply.started": "2022-12-06T05:35:38.275878Z"
    }
   },
   "source": [
    "## checking columns type again"
   ]
  },
  {
   "cell_type": "code",
   "execution_count": 15,
   "metadata": {
    "execution": {
     "iopub.execute_input": "2022-12-07T04:57:47.457345Z",
     "iopub.status.busy": "2022-12-07T04:57:47.457086Z",
     "iopub.status.idle": "2022-12-07T04:57:47.465497Z",
     "shell.execute_reply": "2022-12-07T04:57:47.464303Z",
     "shell.execute_reply.started": "2022-12-07T04:57:47.457321Z"
    }
   },
   "outputs": [
    {
     "data": {
      "text/plain": [
       "Invoice ID                         object\n",
       "Branch                             object\n",
       "City                               object\n",
       "Customer type                      object\n",
       "Gender                             object\n",
       "Product line                       object\n",
       "Unit price                        float64\n",
       "Quantity                            int64\n",
       "Tax 5%                            float64\n",
       "Total                             float64\n",
       "Date                       datetime64[ns]\n",
       "Time                       datetime64[ns]\n",
       "Payment                            object\n",
       "cogs                              float64\n",
       "gross margin percentage           float64\n",
       "gross income                      float64\n",
       "Rating                            float64\n",
       "dtype: object"
      ]
     },
     "execution_count": 15,
     "metadata": {},
     "output_type": "execute_result"
    }
   ],
   "source": [
    "df.dtypes"
   ]
  },
  {
   "cell_type": "markdown",
   "metadata": {},
   "source": [
    "# Feature Engineering"
   ]
  },
  {
   "cell_type": "code",
   "execution_count": 16,
   "metadata": {
    "execution": {
     "iopub.execute_input": "2022-12-07T04:57:47.467193Z",
     "iopub.status.busy": "2022-12-07T04:57:47.466802Z",
     "iopub.status.idle": "2022-12-07T04:57:47.498228Z",
     "shell.execute_reply": "2022-12-07T04:57:47.497121Z",
     "shell.execute_reply.started": "2022-12-07T04:57:47.467161Z"
    }
   },
   "outputs": [
    {
     "data": {
      "text/html": [
       "<div>\n",
       "<style scoped>\n",
       "    .dataframe tbody tr th:only-of-type {\n",
       "        vertical-align: middle;\n",
       "    }\n",
       "\n",
       "    .dataframe tbody tr th {\n",
       "        vertical-align: top;\n",
       "    }\n",
       "\n",
       "    .dataframe thead th {\n",
       "        text-align: right;\n",
       "    }\n",
       "</style>\n",
       "<table border=\"1\" class=\"dataframe\">\n",
       "  <thead>\n",
       "    <tr style=\"text-align: right;\">\n",
       "      <th></th>\n",
       "      <th>Invoice ID</th>\n",
       "      <th>Branch</th>\n",
       "      <th>City</th>\n",
       "      <th>Customer type</th>\n",
       "      <th>Gender</th>\n",
       "      <th>Product line</th>\n",
       "      <th>Unit price</th>\n",
       "      <th>Quantity</th>\n",
       "      <th>Tax 5%</th>\n",
       "      <th>Total</th>\n",
       "      <th>Date</th>\n",
       "      <th>Time</th>\n",
       "      <th>Payment</th>\n",
       "      <th>cogs</th>\n",
       "      <th>gross margin percentage</th>\n",
       "      <th>gross income</th>\n",
       "      <th>Rating</th>\n",
       "      <th>Days</th>\n",
       "      <th>Month</th>\n",
       "      <th>weekday</th>\n",
       "    </tr>\n",
       "  </thead>\n",
       "  <tbody>\n",
       "    <tr>\n",
       "      <th>0</th>\n",
       "      <td>750-67-8428</td>\n",
       "      <td>A</td>\n",
       "      <td>Yangon</td>\n",
       "      <td>Member</td>\n",
       "      <td>Female</td>\n",
       "      <td>Health and beauty</td>\n",
       "      <td>74.69</td>\n",
       "      <td>7</td>\n",
       "      <td>26.1415</td>\n",
       "      <td>548.9715</td>\n",
       "      <td>2019-01-05</td>\n",
       "      <td>2022-12-09 13:08:00</td>\n",
       "      <td>Ewallet</td>\n",
       "      <td>522.83</td>\n",
       "      <td>4.761905</td>\n",
       "      <td>26.1415</td>\n",
       "      <td>9.1</td>\n",
       "      <td>Saturday</td>\n",
       "      <td>January</td>\n",
       "      <td>5</td>\n",
       "    </tr>\n",
       "    <tr>\n",
       "      <th>1</th>\n",
       "      <td>226-31-3081</td>\n",
       "      <td>C</td>\n",
       "      <td>Naypyitaw</td>\n",
       "      <td>Normal</td>\n",
       "      <td>Female</td>\n",
       "      <td>Electronic accessories</td>\n",
       "      <td>15.28</td>\n",
       "      <td>5</td>\n",
       "      <td>3.8200</td>\n",
       "      <td>80.2200</td>\n",
       "      <td>2019-03-08</td>\n",
       "      <td>2022-12-09 10:29:00</td>\n",
       "      <td>Cash</td>\n",
       "      <td>76.40</td>\n",
       "      <td>4.761905</td>\n",
       "      <td>3.8200</td>\n",
       "      <td>9.6</td>\n",
       "      <td>Friday</td>\n",
       "      <td>March</td>\n",
       "      <td>4</td>\n",
       "    </tr>\n",
       "    <tr>\n",
       "      <th>2</th>\n",
       "      <td>631-41-3108</td>\n",
       "      <td>A</td>\n",
       "      <td>Yangon</td>\n",
       "      <td>Normal</td>\n",
       "      <td>Male</td>\n",
       "      <td>Home and lifestyle</td>\n",
       "      <td>46.33</td>\n",
       "      <td>7</td>\n",
       "      <td>16.2155</td>\n",
       "      <td>340.5255</td>\n",
       "      <td>2019-03-03</td>\n",
       "      <td>2022-12-09 13:23:00</td>\n",
       "      <td>Credit card</td>\n",
       "      <td>324.31</td>\n",
       "      <td>4.761905</td>\n",
       "      <td>16.2155</td>\n",
       "      <td>7.4</td>\n",
       "      <td>Sunday</td>\n",
       "      <td>March</td>\n",
       "      <td>6</td>\n",
       "    </tr>\n",
       "    <tr>\n",
       "      <th>3</th>\n",
       "      <td>123-19-1176</td>\n",
       "      <td>A</td>\n",
       "      <td>Yangon</td>\n",
       "      <td>Member</td>\n",
       "      <td>Male</td>\n",
       "      <td>Health and beauty</td>\n",
       "      <td>58.22</td>\n",
       "      <td>8</td>\n",
       "      <td>23.2880</td>\n",
       "      <td>489.0480</td>\n",
       "      <td>2019-01-27</td>\n",
       "      <td>2022-12-09 20:33:00</td>\n",
       "      <td>Ewallet</td>\n",
       "      <td>465.76</td>\n",
       "      <td>4.761905</td>\n",
       "      <td>23.2880</td>\n",
       "      <td>8.4</td>\n",
       "      <td>Sunday</td>\n",
       "      <td>January</td>\n",
       "      <td>6</td>\n",
       "    </tr>\n",
       "  </tbody>\n",
       "</table>\n",
       "</div>"
      ],
      "text/plain": [
       "    Invoice ID Branch       City Customer type  Gender  \\\n",
       "0  750-67-8428      A     Yangon        Member  Female   \n",
       "1  226-31-3081      C  Naypyitaw        Normal  Female   \n",
       "2  631-41-3108      A     Yangon        Normal    Male   \n",
       "3  123-19-1176      A     Yangon        Member    Male   \n",
       "\n",
       "             Product line  Unit price  Quantity   Tax 5%     Total       Date  \\\n",
       "0       Health and beauty       74.69         7  26.1415  548.9715 2019-01-05   \n",
       "1  Electronic accessories       15.28         5   3.8200   80.2200 2019-03-08   \n",
       "2      Home and lifestyle       46.33         7  16.2155  340.5255 2019-03-03   \n",
       "3       Health and beauty       58.22         8  23.2880  489.0480 2019-01-27   \n",
       "\n",
       "                 Time      Payment    cogs  gross margin percentage  \\\n",
       "0 2022-12-09 13:08:00      Ewallet  522.83                 4.761905   \n",
       "1 2022-12-09 10:29:00         Cash   76.40                 4.761905   \n",
       "2 2022-12-09 13:23:00  Credit card  324.31                 4.761905   \n",
       "3 2022-12-09 20:33:00      Ewallet  465.76                 4.761905   \n",
       "\n",
       "   gross income  Rating      Days    Month  weekday  \n",
       "0       26.1415     9.1  Saturday  January        5  \n",
       "1        3.8200     9.6    Friday    March        4  \n",
       "2       16.2155     7.4    Sunday    March        6  \n",
       "3       23.2880     8.4    Sunday  January        6  "
      ]
     },
     "execution_count": 16,
     "metadata": {},
     "output_type": "execute_result"
    }
   ],
   "source": [
    "from datetime import datetime as dt\n",
    "df['Days']=df['Date'].dt.day_name()\n",
    "df['Month']=df['Date'].dt.month_name()\n",
    "df['weekday']=df.Date.dt.weekday\n",
    "df.head(4)"
   ]
  },
  {
   "cell_type": "markdown",
   "metadata": {},
   "source": [
    "### from the above output we analyze that Branch A means City Yangon , B means City Mandalay and branch C means City Naypyitaw .\n",
    "### Deleting City column as City is the decodling form of branch.They both are at same level of significance so we reduce the dimensions of data"
   ]
  },
  {
   "cell_type": "code",
   "execution_count": 17,
   "metadata": {
    "execution": {
     "iopub.execute_input": "2022-12-07T04:57:47.502028Z",
     "iopub.status.busy": "2022-12-07T04:57:47.501685Z",
     "iopub.status.idle": "2022-12-07T04:57:47.511364Z",
     "shell.execute_reply": "2022-12-07T04:57:47.510311Z",
     "shell.execute_reply.started": "2022-12-07T04:57:47.502000Z"
    }
   },
   "outputs": [],
   "source": [
    "df.drop(columns=['City'],inplace=True)"
   ]
  },
  {
   "cell_type": "code",
   "execution_count": 18,
   "metadata": {
    "execution": {
     "iopub.execute_input": "2022-12-07T04:57:47.512651Z",
     "iopub.status.busy": "2022-12-07T04:57:47.512312Z",
     "iopub.status.idle": "2022-12-07T04:57:47.525849Z",
     "shell.execute_reply": "2022-12-07T04:57:47.524964Z",
     "shell.execute_reply.started": "2022-12-07T04:57:47.512619Z"
    }
   },
   "outputs": [],
   "source": [
    "df.drop(columns=['Invoice ID'],inplace=True)"
   ]
  },
  {
   "cell_type": "markdown",
   "metadata": {},
   "source": []
  },
  {
   "cell_type": "code",
   "execution_count": 19,
   "metadata": {
    "execution": {
     "iopub.execute_input": "2022-12-07T04:57:47.527594Z",
     "iopub.status.busy": "2022-12-07T04:57:47.527326Z",
     "iopub.status.idle": "2022-12-07T04:57:47.553373Z",
     "shell.execute_reply": "2022-12-07T04:57:47.552464Z",
     "shell.execute_reply.started": "2022-12-07T04:57:47.527569Z"
    }
   },
   "outputs": [
    {
     "data": {
      "text/html": [
       "<div>\n",
       "<style scoped>\n",
       "    .dataframe tbody tr th:only-of-type {\n",
       "        vertical-align: middle;\n",
       "    }\n",
       "\n",
       "    .dataframe tbody tr th {\n",
       "        vertical-align: top;\n",
       "    }\n",
       "\n",
       "    .dataframe thead th {\n",
       "        text-align: right;\n",
       "    }\n",
       "</style>\n",
       "<table border=\"1\" class=\"dataframe\">\n",
       "  <thead>\n",
       "    <tr style=\"text-align: right;\">\n",
       "      <th></th>\n",
       "      <th>Branch</th>\n",
       "      <th>Customer type</th>\n",
       "      <th>Gender</th>\n",
       "      <th>Product line</th>\n",
       "      <th>Unit price</th>\n",
       "      <th>Quantity</th>\n",
       "      <th>Tax 5%</th>\n",
       "      <th>Total</th>\n",
       "      <th>Date</th>\n",
       "      <th>Time</th>\n",
       "      <th>Payment</th>\n",
       "      <th>cogs</th>\n",
       "      <th>gross margin percentage</th>\n",
       "      <th>gross income</th>\n",
       "      <th>Rating</th>\n",
       "      <th>Days</th>\n",
       "      <th>Month</th>\n",
       "      <th>weekday</th>\n",
       "    </tr>\n",
       "  </thead>\n",
       "  <tbody>\n",
       "    <tr>\n",
       "      <th>0</th>\n",
       "      <td>A</td>\n",
       "      <td>Member</td>\n",
       "      <td>Female</td>\n",
       "      <td>Health and beauty</td>\n",
       "      <td>74.69</td>\n",
       "      <td>7</td>\n",
       "      <td>26.1415</td>\n",
       "      <td>548.9715</td>\n",
       "      <td>2019-01-05</td>\n",
       "      <td>2022-12-09 13:08:00</td>\n",
       "      <td>Ewallet</td>\n",
       "      <td>522.83</td>\n",
       "      <td>4.761905</td>\n",
       "      <td>26.1415</td>\n",
       "      <td>9.1</td>\n",
       "      <td>Saturday</td>\n",
       "      <td>January</td>\n",
       "      <td>5</td>\n",
       "    </tr>\n",
       "    <tr>\n",
       "      <th>1</th>\n",
       "      <td>C</td>\n",
       "      <td>Normal</td>\n",
       "      <td>Female</td>\n",
       "      <td>Electronic accessories</td>\n",
       "      <td>15.28</td>\n",
       "      <td>5</td>\n",
       "      <td>3.8200</td>\n",
       "      <td>80.2200</td>\n",
       "      <td>2019-03-08</td>\n",
       "      <td>2022-12-09 10:29:00</td>\n",
       "      <td>Cash</td>\n",
       "      <td>76.40</td>\n",
       "      <td>4.761905</td>\n",
       "      <td>3.8200</td>\n",
       "      <td>9.6</td>\n",
       "      <td>Friday</td>\n",
       "      <td>March</td>\n",
       "      <td>4</td>\n",
       "    </tr>\n",
       "    <tr>\n",
       "      <th>2</th>\n",
       "      <td>A</td>\n",
       "      <td>Normal</td>\n",
       "      <td>Male</td>\n",
       "      <td>Home and lifestyle</td>\n",
       "      <td>46.33</td>\n",
       "      <td>7</td>\n",
       "      <td>16.2155</td>\n",
       "      <td>340.5255</td>\n",
       "      <td>2019-03-03</td>\n",
       "      <td>2022-12-09 13:23:00</td>\n",
       "      <td>Credit card</td>\n",
       "      <td>324.31</td>\n",
       "      <td>4.761905</td>\n",
       "      <td>16.2155</td>\n",
       "      <td>7.4</td>\n",
       "      <td>Sunday</td>\n",
       "      <td>March</td>\n",
       "      <td>6</td>\n",
       "    </tr>\n",
       "    <tr>\n",
       "      <th>3</th>\n",
       "      <td>A</td>\n",
       "      <td>Member</td>\n",
       "      <td>Male</td>\n",
       "      <td>Health and beauty</td>\n",
       "      <td>58.22</td>\n",
       "      <td>8</td>\n",
       "      <td>23.2880</td>\n",
       "      <td>489.0480</td>\n",
       "      <td>2019-01-27</td>\n",
       "      <td>2022-12-09 20:33:00</td>\n",
       "      <td>Ewallet</td>\n",
       "      <td>465.76</td>\n",
       "      <td>4.761905</td>\n",
       "      <td>23.2880</td>\n",
       "      <td>8.4</td>\n",
       "      <td>Sunday</td>\n",
       "      <td>January</td>\n",
       "      <td>6</td>\n",
       "    </tr>\n",
       "    <tr>\n",
       "      <th>4</th>\n",
       "      <td>A</td>\n",
       "      <td>Normal</td>\n",
       "      <td>Male</td>\n",
       "      <td>Sports and travel</td>\n",
       "      <td>86.31</td>\n",
       "      <td>7</td>\n",
       "      <td>30.2085</td>\n",
       "      <td>634.3785</td>\n",
       "      <td>2019-02-08</td>\n",
       "      <td>2022-12-09 10:37:00</td>\n",
       "      <td>Ewallet</td>\n",
       "      <td>604.17</td>\n",
       "      <td>4.761905</td>\n",
       "      <td>30.2085</td>\n",
       "      <td>5.3</td>\n",
       "      <td>Friday</td>\n",
       "      <td>February</td>\n",
       "      <td>4</td>\n",
       "    </tr>\n",
       "  </tbody>\n",
       "</table>\n",
       "</div>"
      ],
      "text/plain": [
       "  Branch Customer type  Gender            Product line  Unit price  Quantity  \\\n",
       "0      A        Member  Female       Health and beauty       74.69         7   \n",
       "1      C        Normal  Female  Electronic accessories       15.28         5   \n",
       "2      A        Normal    Male      Home and lifestyle       46.33         7   \n",
       "3      A        Member    Male       Health and beauty       58.22         8   \n",
       "4      A        Normal    Male       Sports and travel       86.31         7   \n",
       "\n",
       "    Tax 5%     Total       Date                Time      Payment    cogs  \\\n",
       "0  26.1415  548.9715 2019-01-05 2022-12-09 13:08:00      Ewallet  522.83   \n",
       "1   3.8200   80.2200 2019-03-08 2022-12-09 10:29:00         Cash   76.40   \n",
       "2  16.2155  340.5255 2019-03-03 2022-12-09 13:23:00  Credit card  324.31   \n",
       "3  23.2880  489.0480 2019-01-27 2022-12-09 20:33:00      Ewallet  465.76   \n",
       "4  30.2085  634.3785 2019-02-08 2022-12-09 10:37:00      Ewallet  604.17   \n",
       "\n",
       "   gross margin percentage  gross income  Rating      Days     Month  weekday  \n",
       "0                 4.761905       26.1415     9.1  Saturday   January        5  \n",
       "1                 4.761905        3.8200     9.6    Friday     March        4  \n",
       "2                 4.761905       16.2155     7.4    Sunday     March        6  \n",
       "3                 4.761905       23.2880     8.4    Sunday   January        6  \n",
       "4                 4.761905       30.2085     5.3    Friday  February        4  "
      ]
     },
     "execution_count": 19,
     "metadata": {},
     "output_type": "execute_result"
    }
   ],
   "source": [
    "df.head()"
   ]
  },
  {
   "cell_type": "markdown",
   "metadata": {},
   "source": [
    "# Find unique and nunique value"
   ]
  },
  {
   "cell_type": "code",
   "execution_count": 20,
   "metadata": {
    "execution": {
     "iopub.execute_input": "2022-12-07T04:57:47.555240Z",
     "iopub.status.busy": "2022-12-07T04:57:47.554369Z",
     "iopub.status.idle": "2022-12-07T04:57:47.618600Z",
     "shell.execute_reply": "2022-12-07T04:57:47.617256Z",
     "shell.execute_reply.started": "2022-12-07T04:57:47.555214Z"
    }
   },
   "outputs": [
    {
     "name": "stdout",
     "output_type": "stream",
     "text": [
      "Branch ...... ['A' 'C' 'B']\n",
      "Branch ...... 3\n",
      "Customer type ...... ['Member' 'Normal']\n",
      "Customer type ...... 2\n",
      "Gender ...... ['Female' 'Male']\n",
      "Gender ...... 2\n",
      "Product line ...... ['Health and beauty' 'Electronic accessories' 'Home and lifestyle'\n",
      " 'Sports and travel' 'Food and beverages' 'Fashion accessories']\n",
      "Product line ...... 6\n",
      "Unit price ...... [74.69 15.28 46.33 58.22 86.31 85.39 68.84 73.56 36.26 54.84 14.48 25.51\n",
      " 46.95 43.19 71.38 93.72 68.93 72.61 54.67 40.3  86.04 87.98 33.2  34.56\n",
      " 88.63 52.59 33.52 87.67 88.36 24.89 94.13 78.07 83.78 96.58 99.42 68.12\n",
      " 62.62 60.88 54.92 30.12 86.72 56.11 69.12 98.7  15.37 93.96 56.69 20.01\n",
      " 18.93 82.63 91.4  44.59 17.87 15.43 16.16 85.98 44.34 89.6  72.35 30.61\n",
      " 24.74 55.73 55.07 15.81 75.74 15.87 33.47 97.61 78.77 18.33 89.48 62.12\n",
      " 48.52 75.91 74.67 41.65 49.04 78.31 20.38 99.19 96.68 19.25 80.36 48.91\n",
      " 83.06 76.52 49.38 42.47 76.99 47.38 44.86 21.98 64.36 89.75 97.16 87.87\n",
      " 12.45 52.75 82.7  48.71 78.55 23.07 58.26 30.35 88.67 27.38 62.13 33.98\n",
      " 81.97 16.49 98.21 72.84 58.07 80.79 27.02 21.94 51.36 10.96 53.44 99.56\n",
      " 57.12 99.96 63.91 56.47 93.69 32.25 31.73 68.54 90.28 39.62 92.13 34.84\n",
      " 87.45 81.3  90.22 26.31 34.42 51.91 72.5  89.8  90.5  68.6  30.41 77.95\n",
      " 46.26 30.14 66.14 71.86 32.46 91.54 83.24 16.48 80.97 92.29 72.17 50.28\n",
      " 97.22 93.39 43.18 63.69 45.79 76.4  39.9  42.57 95.58 98.98 51.28 69.52\n",
      " 70.01 80.05 20.85 52.89 19.79 33.84 22.17 22.51 73.88 86.8  64.26 38.47\n",
      " 15.5  34.31 12.34 18.08 94.49 46.47 74.07 69.81 77.04 73.52 87.8  25.55\n",
      " 32.71 74.29 43.7  25.29 41.5  71.39 19.15 57.49 61.41 25.9  17.77 23.03\n",
      " 66.65 28.53 30.37 99.73 26.23 93.26 92.36 46.42 29.61 18.28 24.77 94.64\n",
      " 94.87 57.34 45.35 62.08 11.81 12.54 43.25 87.16 69.37 37.06 90.7  63.42\n",
      " 81.37 10.59 84.09 73.82 51.94 93.14 17.41 44.22 13.22 89.69 24.94 59.77\n",
      " 93.2  62.65 93.87 47.59 81.4  17.94 77.72 73.06 46.55 35.19 14.39 23.75\n",
      " 58.9  32.62 66.35 25.91 65.94 75.06 16.45 38.3  22.24 54.45 98.4  35.47\n",
      " 74.6  70.74 35.54 67.43 21.12 21.54 12.03 99.71 47.97 21.82 95.42 70.99\n",
      " 44.02 69.96 37.   15.34 99.83 47.67 66.68 74.86 48.51 94.88 27.85 62.48\n",
      " 36.36 18.11 51.92 28.84 78.38 60.01 88.61 99.82 39.01 48.61 51.19 14.96\n",
      " 72.2  40.23 88.79 26.48 81.91 79.93 69.33 14.23 15.55 78.13 99.37 21.08\n",
      " 74.79 29.67 44.07 22.93 39.42 15.26 61.77 21.52 97.74 99.78 94.26 51.13\n",
      " 22.02 32.9  77.02 23.48 14.7  28.45 57.95 47.65 42.82 48.09 55.97 76.9\n",
      " 97.03 44.65 77.93 71.95 89.25 26.02 13.5  99.3  51.69 54.73 27.   30.24\n",
      " 89.14 37.55 95.44 27.5  74.97 80.96 94.47 99.79 73.22 41.24 81.68 51.32\n",
      " 14.36 21.5  26.26 60.96 70.11 42.08 67.09 96.7  35.38 95.49 96.98 23.65\n",
      " 82.33 26.61 99.69 74.89 40.94 75.82 46.77 32.32 54.07 18.22 80.48 37.95\n",
      " 76.82 52.26 79.74 77.5  54.27 13.59 41.06 19.24 39.43 46.22 13.98 39.75\n",
      " 97.79 67.26 13.79 68.71 56.53 23.82 34.21 21.87 20.97 25.84 50.93 96.11\n",
      " 45.38 81.51 57.22 25.22 38.6  84.05 97.21 25.42 16.28 40.61 53.17 20.87\n",
      " 67.27 90.65 69.08 43.27 23.46 95.54 47.44 99.24 82.93 33.99 17.04 40.86\n",
      " 17.44 88.43 89.21 12.78 19.1  27.66 45.74 27.07 39.12 74.71 22.01 63.61\n",
      " 25.   20.77 29.56 77.4  79.39 46.57 35.89 40.52 73.05 73.95 22.62 51.34\n",
      " 54.55 37.15 37.02 21.58 98.84 83.77 40.05 43.13 72.57 64.44 65.18 33.26\n",
      " 84.07 34.37 65.97 32.8  37.14 60.38 36.98 49.49 41.09 22.96 77.68 34.7\n",
      " 19.66 25.32 12.12 99.89 75.92 63.22 90.24 98.13 51.52 73.97 31.9  69.4\n",
      " 93.31 88.45 24.18 48.5  61.29 15.95 90.74 42.91 54.28 99.55 58.39 51.47\n",
      " 54.86 39.39 34.73 71.92 45.71 83.17 37.44 62.87 81.71 91.41 39.21 59.86\n",
      " 54.36 98.09 25.43 86.68 22.95 16.31 28.32 16.67 73.96 97.94 87.48 30.68\n",
      " 75.88 20.18 18.77 71.2  38.81 29.42 60.95 51.54 66.06 57.27 54.31 58.24\n",
      " 22.21 19.32 37.48 72.04 98.52 41.66 72.42 89.2  42.42 74.51 99.25 81.21\n",
      " 49.33 65.74 79.86 73.98 82.04 26.67 10.13 72.39 85.91 81.31 60.3  31.77\n",
      " 64.27 69.51 27.22 92.98 63.06 51.71 52.34 43.06 59.61 14.62 46.53 24.24\n",
      " 45.58 75.2  96.8  14.82 52.2  46.66 36.85 70.32 83.08 64.99 77.56 54.51\n",
      " 51.89 31.75 53.65 49.79 57.89 28.96 98.97 93.22 80.93 67.45 38.72 72.6\n",
      " 87.91 98.53 43.46 71.68 91.61 94.59 83.25 91.35 78.88 60.87 82.58 53.3\n",
      " 12.09 64.19 99.7  79.91 66.47 28.95 46.2  17.63 52.42 98.79 88.55 55.67\n",
      " 72.52 12.05 19.36 70.21 33.63 15.49 75.66 55.81 72.78 37.32 60.18 15.69\n",
      " 88.15 27.93 55.45 42.97 17.14 58.75 87.1  98.8  48.63 57.74 17.97 47.71\n",
      " 40.62 56.04 93.4  73.41 33.64 45.48 64.08 73.47 58.95 39.48 34.81 49.32\n",
      " 21.48 23.08 49.1  64.83 63.56 72.88 67.1  70.19 55.04 73.38 52.6  87.37\n",
      " 27.04 62.19 69.58 97.5  60.41 19.77 80.47 88.39 71.77 43.   68.98 15.62\n",
      " 25.7  80.62 75.53 77.63 13.85 35.68 71.46 11.94 17.48 25.56 90.63 44.12\n",
      " 36.77 23.34 28.5  55.57 69.74 97.26 52.18 22.32 56.   19.7  53.72 81.95\n",
      " 81.2  58.76 91.56 55.61 84.83 71.63 37.69 31.67 38.42 65.23 10.53 12.29\n",
      " 81.23 27.28 17.42 73.28 84.87 97.29 35.74 96.52 18.85 55.39 77.2  72.13\n",
      " 63.88 10.69 55.5  95.46 76.06 13.69 95.64 11.43 85.87 67.99 65.65 28.86\n",
      " 65.31 93.38 25.25 21.8  94.76 30.62 44.01 10.16 74.58 71.89 10.99 60.47\n",
      " 58.91 46.41 68.55 97.37 92.6  46.61 27.18 24.49 92.78 86.69 23.01 30.2\n",
      " 67.39 48.96 75.59 77.47 93.18 50.23 17.75 62.18 10.75 40.26 64.97 95.15\n",
      " 48.62 53.21 45.44 33.88 96.16 47.16 47.68 10.17 60.08 72.11 41.28 64.95\n",
      " 74.22 10.56 62.57 11.85 91.3  40.73 52.38 38.54 44.63 55.87 29.22 39.47\n",
      " 14.87 21.32 93.78 73.26 22.38 99.1  74.1  98.48 53.19 52.79 95.95 36.51\n",
      " 28.31 57.59 47.63 86.27 12.76 11.28 51.07 79.59 33.81 90.53 62.82 24.31\n",
      " 64.59 24.82 56.5  21.43 89.06 23.29 65.26 52.35 90.02 12.1  33.21 10.18\n",
      " 31.99 83.34 87.9  12.19 76.92 83.66 57.91 92.49 28.38 50.45 99.16 60.74\n",
      " 47.27 85.6  35.04 44.84 45.97 27.73 11.53 58.32 84.61 82.88 79.54 49.01\n",
      " 29.15 56.13 93.12 99.6  35.49 42.85 94.67 68.97 35.79 16.37 12.73 83.14\n",
      " 35.22 13.78 88.31 88.25 25.31 99.92 83.35 74.44 63.15 85.72 78.89 92.09\n",
      " 57.29 66.52 45.68 50.79 10.08 93.88 84.25 53.78 35.81 26.43 39.91 21.9\n",
      " 62.85 21.04 65.91 50.49 46.02 15.8  98.66 91.98 20.89 96.82 33.33 38.27\n",
      " 33.3  81.01 34.49 84.63 36.91 87.08 80.08 86.13 49.92 74.66 26.6  25.45\n",
      " 67.77 59.59 58.15 97.48 96.37 63.71 14.76 62.   82.34 75.37 56.56 76.6\n",
      " 58.03 17.49 40.35 97.38 31.84 65.82 88.34]\n",
      "Unit price ...... 943\n",
      "Quantity ...... [ 7  5  8  6 10  2  3  4  1  9]\n",
      "Quantity ...... 10\n",
      "Tax 5% ...... [26.1415  3.82   16.2155 23.288  30.2085 29.8865 20.652  36.78    3.626\n",
      "  8.226   2.896   5.102  11.7375 21.595  35.69   28.116  24.1255 21.783\n",
      "  8.2005  4.03   21.51   13.197   3.32    8.64   13.2945 21.036   1.676\n",
      "  8.767  22.09   11.2005 23.5325 35.1315 33.512   9.658  19.884   3.406\n",
      " 15.655  27.396  21.968  12.048   4.336   5.611  20.736  39.48    1.537\n",
      " 18.792  25.5105  9.0045  5.679  41.315  31.99   11.1475  3.574   0.7715\n",
      "  1.616  34.392   4.434  35.84   36.175   9.183   3.711  16.719  24.7815\n",
      "  7.905  15.148   7.935   3.347  29.283  39.385   0.9165 44.74   31.06\n",
      "  7.278  22.773  33.6015 20.825  22.068  39.155   5.095  29.757  14.502\n",
      "  7.7    16.072  12.2275 29.071  19.13   17.283   2.1235 23.097   9.476\n",
      " 22.43    7.693  28.962   4.4875  4.858  43.935   3.735   7.9125 24.81\n",
      "  2.4355 35.3475 10.3815 17.478  10.6225 44.335   8.214  18.639  15.291\n",
      " 40.985   1.649  14.7315 25.494  26.1315 36.3555  4.053   5.485   2.568\n",
      "  5.48    5.344  39.824  19.992  44.982  25.564  22.588  32.7915  8.0625\n",
      " 14.2785 27.416  40.626  13.867  27.639   6.968  26.235  24.39   13.533\n",
      "  6.5775 10.326  25.955  29.     44.9    45.25   34.3     1.5205 23.385\n",
      " 13.878  15.07   13.228  28.744  12.984  18.308  12.096  37.458   4.944\n",
      " 32.388  23.0725  3.6085 12.57   43.749  28.017  17.272   3.1845 16.0265\n",
      "  7.64   19.95   17.028  47.79   49.49   15.384  24.332  17.5025 20.0125\n",
      "  8.34   15.867   7.916  15.228   8.868   7.8785 22.164  13.02   22.491\n",
      " 15.388   7.75   13.724   4.319   2.712  37.796   9.294   3.7035 13.962\n",
      " 11.556   7.352  39.51    5.11    8.1775  3.7145  4.37    1.2645  8.3\n",
      " 17.8475  5.745  11.498  21.4935 12.95    4.4425 10.3635 29.9925 14.265\n",
      "  4.5555 44.8785 11.8035 41.967  23.09    6.963   0.914   6.1925 14.196\n",
      " 37.948   8.601  13.605  21.728   2.9525  0.627   4.325   8.716  31.2165\n",
      "  7.412  27.21   25.368   8.137   1.5885 37.8405 14.764  25.97    9.314\n",
      "  4.3525 11.055   3.305   4.4845 11.223   5.977   9.32   12.53   37.548\n",
      " 19.036  12.21    4.485  15.544  25.571  20.9475 17.595   1.439   4.75\n",
      " 23.56    6.524   3.3175  7.773   6.45   13.188  33.777   3.29    7.66\n",
      " 11.12    2.7225 34.44    7.094  37.3    14.148  17.77   16.8575  2.112\n",
      "  9.693   1.203  29.913  16.7895 10.91   19.084  35.495  22.01   27.984\n",
      "  1.85    0.767  29.949   9.534  16.67    3.743  10.6875 16.9785 33.208\n",
      " 20.15    9.7475  3.124   3.636   9.055  12.98    5.768  23.514  12.002\n",
      "  4.4305  9.982   1.9505  2.4305 10.238   5.984  25.27   14.0805 35.516\n",
      "  3.972   8.191  23.979   6.933   3.5575  6.9975 39.065   9.937   3.162\n",
      " 18.6975 10.3845  8.814  10.3185  1.971   4.578  15.4425  6.456  19.548\n",
      " 24.945  18.852  10.226   7.272   9.909   4.935  19.255   2.348   3.675\n",
      "  7.1125 34.38   17.385   7.1475 19.269   7.2135 19.5895 26.915  24.2575\n",
      "  6.6975 35.0685  3.5975 35.7     9.107   6.75   49.65   18.0915 19.1555\n",
      " 12.15    1.512  17.828  18.775  47.72    4.125   3.7485 32.384  37.788\n",
      "  9.979  21.966   8.248  16.336  23.094   7.18    9.675   9.191   6.096\n",
      " 21.033  12.624  16.7725 24.175  15.921  33.4215 19.396   4.73   16.466\n",
      "  2.661  24.9225 14.978  10.235   3.791  14.031  16.16   24.3315  6.377\n",
      " 12.072  18.975   3.841  26.13    3.987  19.375  13.5675  6.1155 12.318\n",
      "  8.658  11.829   9.244   0.699   9.9375 34.2265 13.452   3.4475 13.742\n",
      " 11.306   5.955  17.105   2.187   5.2425  3.876  20.372   4.8055  9.076\n",
      "  4.0755  5.722   8.827   5.79   12.6075 48.605  10.168   0.814  18.2745\n",
      " 18.6095  3.1305 16.8175 45.325   6.908   4.327   7.038  33.439   2.372\n",
      " 44.658  16.586  10.197   3.408  16.344   4.36   35.372  40.1445  0.639\n",
      "  6.685   0.9575 13.83    6.861   1.3535  1.956  22.413   6.603  15.9025\n",
      "  1.25    4.154   7.39   34.83   39.695  23.285   1.7945 10.13   36.525\n",
      " 14.79    1.131  12.835  27.275  13.0025 11.106   1.079   4.942  25.131\n",
      "  8.01   21.565  29.028  16.11    9.777   8.315  16.814  17.185   1.93\n",
      " 26.388  16.4     9.285  30.19   18.49    9.898  20.545   7.43    1.148\n",
      " 34.956   3.47    9.83   10.128   6.06    9.989  30.368   6.322  27.072\n",
      "  4.9065 20.608   3.6985  1.595   6.94    9.331   4.4225  9.672   7.275\n",
      " 25.215  15.3225  4.785  31.759  10.7275 18.998  34.8425 20.4365  2.5735\n",
      " 13.715   9.8475  3.473  17.98    6.8565 24.951  11.232   6.287  24.513\n",
      " 22.8525  7.842   5.986  27.18   44.1405  7.629  34.672  11.475   7.3395\n",
      "  7.08    5.8345  3.698   4.897  14.61   26.244   4.602   3.794   4.036\n",
      "  5.631   3.56    7.762  14.71   27.4275 12.885  19.818   8.5905 24.4395\n",
      " 26.208   6.663   6.762   5.622   7.204  49.26   12.498  10.863   9.711\n",
      " 44.6    16.968  22.353   9.925  40.605  24.665  29.583  27.951  25.893\n",
      " 20.51   13.335   3.5455  7.239  21.4775 28.4585 12.06    6.354  12.854\n",
      "  6.951   4.083  15.536   9.298   3.616   9.459  10.342   7.851  10.765\n",
      " 29.805   3.655  13.959   8.484   2.279  11.28   14.52    2.223   7.83\n",
      " 20.997   9.2125  7.032   3.2495 38.78   16.353  18.1615  6.35   18.7775\n",
      "  9.958   1.5305  5.789   1.448  44.5365 13.983   4.0465 33.725  17.424\n",
      " 21.78   21.9775 29.559  13.038  10.752   4.5805 33.1065 41.625   4.5675\n",
      "  7.888   6.087  41.29    7.995   0.6045 32.095  11.7465  8.377  14.955\n",
      " 11.9865 33.235  10.1325  2.31    4.4075  7.863  14.8185 35.42    5.567\n",
      " 29.008   3.0125  8.712  21.063   1.6815  1.549  12.37   18.915  16.743\n",
      " 36.39   16.794  12.036   2.3535  4.9845 13.2225  6.9825  2.7725  6.4455\n",
      "  5.999  17.625  43.55    9.88    9.726   8.661   3.594  14.313   4.062\n",
      " 28.02    9.34   11.0115 13.456  22.74   22.428  14.694  29.475  14.55\n",
      "  1.974   1.7405 14.796   2.148   6.924   4.91    6.483  31.78    7.288\n",
      " 10.065  31.5855 19.264  24.315  25.683  23.67   21.8425  5.408  12.438\n",
      " 31.311  48.75   24.164   4.848   9.885  36.2115 39.7755 25.1195  8.6\n",
      "  3.449   6.248   3.855  24.186  15.106  34.9335  6.2325  8.92   25.011\n",
      "  1.791   6.807   5.244   8.946  40.7835  6.618  12.8695  4.668  11.4\n",
      "  8.3355 34.87   19.452  18.263   4.464   8.4     0.985  26.558   2.686\n",
      " 40.975  28.42   29.38   36.624  42.282  19.4635  4.2415  7.163   3.769\n",
      " 12.668   1.921  32.615   2.6325  5.5305 28.4305  6.82    8.71   18.32\n",
      " 12.7305 38.916  14.296  28.956   9.425  11.078  38.6    36.065  25.552\n",
      "  2.6725 11.1    38.184  11.409   4.107  19.128   3.429  19.108  30.0545\n",
      " 23.7965  2.621   6.565   7.215  22.8585  4.669   6.3125 39.5415  8.72\n",
      " 18.952   1.531  17.604   2.54   26.103  28.756   2.7475  9.0705 20.6185\n",
      "  2.3205 13.71   48.685  32.41    4.661   2.718   3.0435 12.245   4.639\n",
      " 21.6725  6.903  12.08   23.5865 22.032  34.0155 15.494   9.318  10.046\n",
      "  0.8875 31.09    4.3    20.13   16.2425  4.7575 19.448  21.284  15.904\n",
      " 13.552  19.232  11.79   10.578   4.768   0.5085 10.3065 21.028   4.402\n",
      " 32.4495  6.192  32.475  37.11    4.224  12.514   4.74    4.565  14.2555\n",
      "  2.619   9.635  13.389  27.935   8.766   7.791   3.015   3.947   1.487\n",
      "  1.066  14.067   3.663   1.119  32.796  29.73    3.705   9.848  18.6165\n",
      " 26.395  23.9875 16.4295  8.448   5.662  17.277  21.4335  4.3135  1.276\n",
      "  5.076  17.8745 11.9385  5.0715 36.212   6.282   3.6465 12.918   8.687\n",
      "  2.825  10.715  26.718   4.658  26.104   2.6175  1.9875 36.008   4.84\n",
      " 16.605   4.072  15.995   8.334  15.953   4.395  36.735   4.876  38.46\n",
      " 20.915  23.164  23.1225  7.095  15.135  39.664  21.259  14.181  29.96\n",
      " 15.768  20.178   9.194   6.9325  4.0355  5.832  15.676  42.305  20.72\n",
      "  7.954  24.505   4.3725 11.226  37.248  20.536  14.94   10.647   2.1425\n",
      " 18.934  10.3455  3.939  16.1055  4.911   1.273  29.099  10.566   2.756\n",
      "  4.4155 17.829  39.7125  2.531  29.976   8.335  37.22   18.945  12.858\n",
      " 27.6115 22.37   13.8135 17.187  13.304  44.919  22.84   12.6975  3.528\n",
      " 32.858   8.425   2.689   8.9525 10.572   5.9865  3.285   4.208  19.773\n",
      " 14.8995 22.7205 13.806   7.9    44.397   4.599   2.089   0.775  14.523\n",
      "  3.333   3.827  14.985  12.1515  2.37    8.6225 42.315  12.9185 30.478\n",
      " 12.012   8.613   4.992  14.932   7.98    1.2725  3.3885 11.918  11.63\n",
      " 43.866  34.986  33.7295 15.9275  1.476  24.8    41.17   30.148  14.14\n",
      " 38.3     5.803   8.745   3.0475  2.0175 48.69    1.592   3.291  30.919 ]\n",
      "Tax 5% ...... 990\n",
      "Total ...... [ 548.9715   80.22    340.5255  489.048   634.3785  627.6165  433.692\n",
      "  772.38     76.146   172.746    60.816   107.142   246.4875  453.495\n",
      "  749.49    590.436   506.6355  457.443   172.2105   84.63    451.71\n",
      "  277.137    69.72    181.44    279.1845  441.756    35.196   184.107\n",
      "  463.89    235.2105  494.1825  737.7615  703.752   202.818   417.564\n",
      "   71.526   328.755   575.316   461.328   253.008    91.056   117.831\n",
      "  435.456   829.08     32.277   394.632   535.7205  189.0945  119.259\n",
      "  867.615   671.79    234.0975   75.054    16.2015   33.936   722.232\n",
      "   93.114   752.64    759.675   192.843    77.931   351.099   520.4115\n",
      "  166.005   318.108   166.635    70.287   614.943   827.085    19.2465\n",
      "  939.54    652.26    152.838   478.233   705.6315  437.325   463.428\n",
      "  822.255   106.995   624.897   304.542   161.7     337.512   256.7775\n",
      "  610.491   401.73    362.943    44.5935  485.037   198.996   471.03\n",
      "  161.553   608.202    94.2375  102.018   922.635    78.435   166.1625\n",
      "  521.01     51.1455  742.2975  218.0115  367.038   223.0725  931.035\n",
      "  172.494   391.419   321.111   860.685    34.629   309.3615  535.374\n",
      "  548.7615  763.4655   85.113   115.185    53.928   115.08    112.224\n",
      "  836.304   419.832   944.622   536.844   474.348   688.6215  169.3125\n",
      "  299.8485  575.736   853.146   291.207   580.419   146.328   550.935\n",
      "  512.19    284.193   138.1275  216.846   545.055   609.      942.9\n",
      "  950.25    720.3      31.9305  491.085   291.438   316.47    277.788\n",
      "  603.624   272.664   384.468   254.016   786.618   103.824   680.148\n",
      "  484.5225   75.7785  263.97    918.729   588.357   362.712    66.8745\n",
      "  336.5565  160.44    418.95    357.588  1003.59   1039.29    323.064\n",
      "  510.972   367.5525  420.2625  175.14    333.207   166.236   319.788\n",
      "  186.228   165.4485  465.444   273.42    472.311   323.148   162.75\n",
      "  288.204    90.699    56.952   793.716   195.174    77.7735  293.202\n",
      "  242.676   154.392   829.71    107.31    171.7275   78.0045   91.77\n",
      "   26.5545  174.3     374.7975  120.645   241.458   451.3635  271.95\n",
      "   93.2925  217.6335  629.8425  299.565    95.6655  942.4485  247.8735\n",
      "  881.307   484.89    146.223    19.194   130.0425  298.116   796.908\n",
      "  180.621   285.705   456.288    62.0025   13.167    90.825   183.036\n",
      "  655.5465  155.652   571.41    532.728   170.877    33.3585  794.6505\n",
      "  310.044   545.37    195.594    91.4025  232.155    69.405    94.1745\n",
      "  235.683   125.517   195.72    263.13    788.508   399.756   256.41\n",
      "   94.185   326.424   536.991   439.8975  369.495    30.219    99.75\n",
      "  494.76    137.004    69.6675  163.233   135.45    276.948   709.317\n",
      "   69.09    160.86    233.52     57.1725  723.24    148.974   783.3\n",
      "  297.108   373.17    354.0075   44.352   203.553    25.263   628.173\n",
      "  352.5795  229.11    400.764   745.395   462.21    587.664    38.85\n",
      "   16.107   628.929   200.214   350.07     78.603   224.4375  356.5485\n",
      "  697.368   423.15    204.6975   65.604    76.356   190.155   272.58\n",
      "  121.128   493.794   252.042    93.0405  209.622    40.9605   51.0405\n",
      "  214.998   125.664   530.67    295.6905  745.836    83.412   172.011\n",
      "  503.559   145.593    74.7075  146.9475  820.365   208.677    66.402\n",
      "  392.6475  218.0745  185.094   216.6885   41.391    96.138   324.2925\n",
      "  135.576   410.508   523.845   395.892   214.746   152.712   208.089\n",
      "  103.635   404.355    49.308    77.175   149.3625  721.98    365.085\n",
      "  150.0975  404.649   151.4835  411.3795  565.215   509.4075  140.6475\n",
      "  736.4385   75.5475  749.7     191.247   141.75   1042.65    379.9215\n",
      "  402.2655  255.15     31.752   374.388   394.275  1002.12     86.625\n",
      "   78.7185  680.064   793.548   209.559   461.286   173.208   343.056\n",
      "  484.974   150.78    203.175   193.011   128.016   441.693   265.104\n",
      "  352.2225  507.675   334.341   701.8515  407.316    99.33    345.786\n",
      "   55.881   523.3725  314.538   214.935    79.611   294.651   339.36\n",
      "  510.9615  133.917   253.512   398.475    80.661   548.73     83.727\n",
      "  406.875   284.9175  128.4255  258.678   181.818   248.409   194.124\n",
      "   14.679   208.6875  718.7565  282.492    72.3975  288.582   237.426\n",
      "  125.055   359.205    45.927   110.0925   81.396   427.812   100.9155\n",
      "  190.596    85.5855  120.162   185.367   121.59    264.7575 1020.705\n",
      "  213.528    17.094   383.7645  390.7995   65.7405  353.1675  951.825\n",
      "  145.068    90.867   147.798   702.219    49.812   937.818   348.306\n",
      "  214.137    71.568   343.224    91.56    742.812   843.0345   13.419\n",
      "  140.385    20.1075  290.43    144.081    28.4235   41.076   470.673\n",
      "  138.663   333.9525   26.25     87.234   155.19    731.43    833.595\n",
      "  488.985    37.6845  212.73    767.025   310.59     23.751   269.535\n",
      "  572.775   273.0525  233.226    22.659   103.782   527.751   168.21\n",
      "  452.865   609.588   338.31    205.317   174.615   353.094   360.885\n",
      "   40.53    554.148   344.4     194.985   633.99    388.29    207.858\n",
      "  431.445   156.03     24.108   734.076    72.87    206.43    212.688\n",
      "  127.26    209.769   637.728   132.762   568.512   103.0365  432.768\n",
      "   77.6685   33.495   145.74    195.951    92.8725  203.112   152.775\n",
      "  529.515   321.7725  100.485   666.939   225.2775  398.958   731.6925\n",
      "  429.1665   54.0435  288.015   206.7975   72.933   377.58    143.9865\n",
      "  523.971   235.872   132.027   514.773   479.9025  164.682   125.706\n",
      "  570.78    926.9505  160.209   728.112   240.975   154.1295  148.68\n",
      "  122.5245   77.658   102.837   306.81    551.124    96.642    79.674\n",
      "   84.756   118.251    74.76    163.002   308.91    575.9775  270.585\n",
      "  416.178   180.4005  513.2295  550.368   139.923   142.002   118.062\n",
      "  151.284  1034.46    262.458   228.123   203.931   936.6     356.328\n",
      "  469.413   208.425   852.705   517.965   621.243   586.971   543.753\n",
      "  430.71    280.035    74.4555  152.019   451.0275  597.6285  253.26\n",
      "  133.434   269.934   145.971    85.743   326.256   195.258    75.936\n",
      "  198.639   217.182   164.871   226.065   625.905    76.755   293.139\n",
      "  178.164    47.859   236.88    304.92     46.683   164.43    440.937\n",
      "  193.4625  147.672    68.2395  814.38    343.413   381.3915  133.35\n",
      "  394.3275  209.118    32.1405  121.569    30.408   935.2665  293.643\n",
      "   84.9765  708.225   365.904   457.38    461.5275  620.739   273.798\n",
      "  225.792    96.1905  695.2365  874.125    95.9175  165.648   127.827\n",
      "  867.09    167.895    12.6945  673.995   246.6765  175.917   314.055\n",
      "  251.7165  697.935   212.7825   48.51     92.5575  165.123   311.1885\n",
      "  743.82    116.907   609.168    63.2625  182.952   442.323    35.3115\n",
      "   32.529   259.77    397.215   351.603   764.19    352.674   252.756\n",
      "   49.4235  104.6745  277.6725  146.6325   58.2225  135.3555  125.979\n",
      "  370.125   914.55    207.48    204.246   181.881    75.474   300.573\n",
      "   85.302   588.42    196.14    231.2415  282.576   477.54    470.988\n",
      "  308.574   618.975   305.55     41.454    36.5505  310.716    45.108\n",
      "  145.404   103.11    136.143   667.38    153.048   211.365   663.2955\n",
      "  404.544   510.615   539.343   497.07    458.6925  113.568   261.198\n",
      "  657.531  1023.75    507.444   101.808   207.585   760.4415  835.2855\n",
      "  527.5095  180.6      72.429   131.208    80.955   507.906   317.226\n",
      "  733.6035  130.8825  187.32    525.231    37.611   142.947   110.124\n",
      "  187.866   856.4535  138.978   270.2595   98.028   239.4     175.0455\n",
      "  732.27    408.492   383.523    93.744   176.4      20.685   557.718\n",
      "   56.406   860.475   596.82    616.98    769.104   887.922   408.7335\n",
      "   89.0715  150.423    79.149   266.028    40.341   684.915    55.2825\n",
      "  116.1405  597.0405  143.22    182.91    384.72    267.3405  817.236\n",
      "  300.216   608.076   197.925   232.638   810.6     757.365   536.592\n",
      "   56.1225  233.1     801.864   239.589    86.247   401.688    72.009\n",
      "  401.268   631.1445  499.7265   55.041   137.865   151.515   480.0285\n",
      "   98.049   132.5625  830.3715  183.12    397.992    32.151   369.684\n",
      "   53.34    548.163   603.876    57.6975  190.4805  432.9885   48.7305\n",
      "  287.91   1022.385   680.61     97.881    57.078    63.9135  257.145\n",
      "   97.419   455.1225  144.963   253.68    495.3165  462.672   714.3255\n",
      "  325.374   195.678   210.966    18.6375  652.89     90.3     422.73\n",
      "  341.0925   99.9075  408.408   446.964   333.984   284.592   403.872\n",
      "  247.59    222.138   100.128    10.6785  216.4365  441.588    92.442\n",
      "  681.4395  130.032   681.975   779.31     88.704   262.794    99.54\n",
      "   95.865   299.3655   54.999   202.335   281.169   586.635   184.086\n",
      "  163.611    63.315    82.887    31.227    22.386   295.407    76.923\n",
      "   23.499   688.716   624.33     77.805   206.808   390.9465  554.295\n",
      "  503.7375  345.0195  177.408   118.902   362.817   450.1035   90.5835\n",
      "   26.796   106.596   375.3645  250.7085  106.5015  760.452   131.922\n",
      "   76.5765  271.278   182.427    59.325   225.015   561.078    97.818\n",
      "  548.184    54.9675   41.7375  756.168   101.64    348.705    85.512\n",
      "  335.895   175.014   335.013    92.295   771.435   102.396   807.66\n",
      "  439.215   486.444   485.5725  148.995   317.835   832.944   446.439\n",
      "  297.801   629.16    331.128   423.738   193.074   145.5825   84.7455\n",
      "  122.472   329.196   888.405   435.12    167.034   514.605    91.8225\n",
      "  235.746   782.208   431.256   313.74    223.587    44.9925  397.614\n",
      "  217.2555   82.719   338.2155  103.131    26.733   611.079   221.886\n",
      "   57.876    92.7255  374.409   833.9625   53.151   629.496   175.035\n",
      "  781.62    397.845   270.018   579.8415  469.77    290.0835  360.927\n",
      "  279.384   943.299   479.64    266.6475   74.088   690.018   176.925\n",
      "   56.469   188.0025  222.012   125.7165   68.985    88.368   415.233\n",
      "  312.8895  477.1305  289.926   165.9     932.337    96.579    43.869\n",
      "   16.275   304.983    69.993    80.367   314.685   255.1815   49.77\n",
      "  181.0725  888.615   271.2885  640.038   252.252   180.873   104.832\n",
      "  313.572   167.58     26.7225   71.1585  250.278   244.23    921.186\n",
      "  734.706   708.3195  334.4775   30.996   520.8     864.57    633.108\n",
      "  296.94    804.3     121.863   183.645    63.9975   42.3675 1022.49\n",
      "   33.432    69.111   649.299 ]\n",
      "Total ...... 990\n",
      "Date ...... ['2019-01-05T00:00:00.000000000' '2019-03-08T00:00:00.000000000'\n",
      " '2019-03-03T00:00:00.000000000' '2019-01-27T00:00:00.000000000'\n",
      " '2019-02-08T00:00:00.000000000' '2019-03-25T00:00:00.000000000'\n",
      " '2019-02-25T00:00:00.000000000' '2019-02-24T00:00:00.000000000'\n",
      " '2019-01-10T00:00:00.000000000' '2019-02-20T00:00:00.000000000'\n",
      " '2019-02-06T00:00:00.000000000' '2019-03-09T00:00:00.000000000'\n",
      " '2019-02-12T00:00:00.000000000' '2019-02-07T00:00:00.000000000'\n",
      " '2019-03-29T00:00:00.000000000' '2019-01-15T00:00:00.000000000'\n",
      " '2019-03-11T00:00:00.000000000' '2019-01-01T00:00:00.000000000'\n",
      " '2019-01-21T00:00:00.000000000' '2019-03-05T00:00:00.000000000'\n",
      " '2019-03-15T00:00:00.000000000' '2019-02-17T00:00:00.000000000'\n",
      " '2019-03-02T00:00:00.000000000' '2019-03-22T00:00:00.000000000'\n",
      " '2019-03-10T00:00:00.000000000' '2019-01-25T00:00:00.000000000'\n",
      " '2019-01-28T00:00:00.000000000' '2019-01-07T00:00:00.000000000'\n",
      " '2019-03-23T00:00:00.000000000' '2019-01-17T00:00:00.000000000'\n",
      " '2019-02-02T00:00:00.000000000' '2019-03-04T00:00:00.000000000'\n",
      " '2019-03-16T00:00:00.000000000' '2019-02-27T00:00:00.000000000'\n",
      " '2019-02-10T00:00:00.000000000' '2019-03-19T00:00:00.000000000'\n",
      " '2019-02-03T00:00:00.000000000' '2019-03-07T00:00:00.000000000'\n",
      " '2019-02-28T00:00:00.000000000' '2019-03-27T00:00:00.000000000'\n",
      " '2019-01-20T00:00:00.000000000' '2019-03-12T00:00:00.000000000'\n",
      " '2019-02-15T00:00:00.000000000' '2019-03-06T00:00:00.000000000'\n",
      " '2019-02-14T00:00:00.000000000' '2019-03-13T00:00:00.000000000'\n",
      " '2019-01-24T00:00:00.000000000' '2019-01-06T00:00:00.000000000'\n",
      " '2019-02-11T00:00:00.000000000' '2019-01-22T00:00:00.000000000'\n",
      " '2019-01-13T00:00:00.000000000' '2019-01-09T00:00:00.000000000'\n",
      " '2019-01-12T00:00:00.000000000' '2019-01-26T00:00:00.000000000'\n",
      " '2019-01-23T00:00:00.000000000' '2019-02-23T00:00:00.000000000'\n",
      " '2019-01-02T00:00:00.000000000' '2019-02-09T00:00:00.000000000'\n",
      " '2019-03-26T00:00:00.000000000' '2019-03-01T00:00:00.000000000'\n",
      " '2019-02-01T00:00:00.000000000' '2019-03-28T00:00:00.000000000'\n",
      " '2019-03-24T00:00:00.000000000' '2019-02-05T00:00:00.000000000'\n",
      " '2019-01-19T00:00:00.000000000' '2019-01-16T00:00:00.000000000'\n",
      " '2019-01-08T00:00:00.000000000' '2019-02-18T00:00:00.000000000'\n",
      " '2019-01-18T00:00:00.000000000' '2019-02-16T00:00:00.000000000'\n",
      " '2019-02-22T00:00:00.000000000' '2019-01-29T00:00:00.000000000'\n",
      " '2019-01-04T00:00:00.000000000' '2019-03-30T00:00:00.000000000'\n",
      " '2019-01-30T00:00:00.000000000' '2019-01-03T00:00:00.000000000'\n",
      " '2019-03-21T00:00:00.000000000' '2019-02-13T00:00:00.000000000'\n",
      " '2019-01-14T00:00:00.000000000' '2019-03-18T00:00:00.000000000'\n",
      " '2019-03-20T00:00:00.000000000' '2019-02-21T00:00:00.000000000'\n",
      " '2019-01-31T00:00:00.000000000' '2019-01-11T00:00:00.000000000'\n",
      " '2019-02-26T00:00:00.000000000' '2019-03-17T00:00:00.000000000'\n",
      " '2019-03-14T00:00:00.000000000' '2019-02-04T00:00:00.000000000'\n",
      " '2019-02-19T00:00:00.000000000']\n",
      "Date ...... 89\n",
      "Time ...... ['2022-12-09T13:08:00.000000000' '2022-12-09T10:29:00.000000000'\n",
      " '2022-12-09T13:23:00.000000000' '2022-12-09T20:33:00.000000000'\n",
      " '2022-12-09T10:37:00.000000000' '2022-12-09T18:30:00.000000000'\n",
      " '2022-12-09T14:36:00.000000000' '2022-12-09T11:38:00.000000000'\n",
      " '2022-12-09T17:15:00.000000000' '2022-12-09T13:27:00.000000000'\n",
      " '2022-12-09T18:07:00.000000000' '2022-12-09T17:03:00.000000000'\n",
      " '2022-12-09T10:25:00.000000000' '2022-12-09T16:48:00.000000000'\n",
      " '2022-12-09T19:21:00.000000000' '2022-12-09T16:19:00.000000000'\n",
      " '2022-12-09T11:03:00.000000000' '2022-12-09T10:39:00.000000000'\n",
      " '2022-12-09T18:00:00.000000000' '2022-12-09T15:30:00.000000000'\n",
      " '2022-12-09T11:24:00.000000000' '2022-12-09T10:40:00.000000000'\n",
      " '2022-12-09T12:20:00.000000000' '2022-12-09T11:15:00.000000000'\n",
      " '2022-12-09T17:36:00.000000000' '2022-12-09T19:20:00.000000000'\n",
      " '2022-12-09T15:31:00.000000000' '2022-12-09T12:17:00.000000000'\n",
      " '2022-12-09T19:48:00.000000000' '2022-12-09T15:36:00.000000000'\n",
      " '2022-12-09T19:39:00.000000000' '2022-12-09T12:43:00.000000000'\n",
      " '2022-12-09T14:49:00.000000000' '2022-12-09T10:12:00.000000000'\n",
      " '2022-12-09T10:42:00.000000000' '2022-12-09T12:28:00.000000000'\n",
      " '2022-12-09T19:15:00.000000000' '2022-12-09T17:17:00.000000000'\n",
      " '2022-12-09T13:24:00.000000000' '2022-12-09T13:01:00.000000000'\n",
      " '2022-12-09T18:45:00.000000000' '2022-12-09T10:11:00.000000000'\n",
      " '2022-12-09T13:03:00.000000000' '2022-12-09T20:39:00.000000000'\n",
      " '2022-12-09T19:47:00.000000000' '2022-12-09T17:24:00.000000000'\n",
      " '2022-12-09T15:47:00.000000000' '2022-12-09T12:45:00.000000000'\n",
      " '2022-12-09T17:08:00.000000000' '2022-12-09T10:19:00.000000000'\n",
      " '2022-12-09T15:10:00.000000000' '2022-12-09T14:42:00.000000000'\n",
      " '2022-12-09T15:46:00.000000000' '2022-12-09T11:49:00.000000000'\n",
      " '2022-12-09T19:01:00.000000000' '2022-12-09T11:26:00.000000000'\n",
      " '2022-12-09T11:28:00.000000000' '2022-12-09T15:55:00.000000000'\n",
      " '2022-12-09T20:36:00.000000000' '2022-12-09T17:47:00.000000000'\n",
      " '2022-12-09T10:55:00.000000000' '2022-12-09T13:40:00.000000000'\n",
      " '2022-12-09T12:27:00.000000000' '2022-12-09T14:35:00.000000000'\n",
      " '2022-12-09T16:40:00.000000000' '2022-12-09T15:43:00.000000000'\n",
      " '2022-12-09T15:01:00.000000000' '2022-12-09T10:04:00.000000000'\n",
      " '2022-12-09T18:50:00.000000000' '2022-12-09T12:46:00.000000000'\n",
      " '2022-12-09T18:17:00.000000000' '2022-12-09T18:21:00.000000000'\n",
      " '2022-12-09T17:04:00.000000000' '2022-12-09T14:20:00.000000000'\n",
      " '2022-12-09T15:48:00.000000000' '2022-12-09T16:24:00.000000000'\n",
      " '2022-12-09T18:56:00.000000000' '2022-12-09T19:56:00.000000000'\n",
      " '2022-12-09T18:37:00.000000000' '2022-12-09T10:17:00.000000000'\n",
      " '2022-12-09T14:31:00.000000000' '2022-12-09T10:23:00.000000000'\n",
      " '2022-12-09T20:35:00.000000000' '2022-12-09T16:57:00.000000000'\n",
      " '2022-12-09T17:55:00.000000000' '2022-12-09T19:54:00.000000000'\n",
      " '2022-12-09T16:42:00.000000000' '2022-12-09T12:09:00.000000000'\n",
      " '2022-12-09T20:05:00.000000000' '2022-12-09T20:38:00.000000000'\n",
      " '2022-12-09T13:11:00.000000000' '2022-12-09T10:16:00.000000000'\n",
      " '2022-12-09T18:14:00.000000000' '2022-12-09T13:22:00.000000000'\n",
      " '2022-12-09T11:27:00.000000000' '2022-12-09T16:44:00.000000000'\n",
      " '2022-12-09T18:19:00.000000000' '2022-12-09T14:50:00.000000000'\n",
      " '2022-12-09T20:54:00.000000000' '2022-12-09T20:19:00.000000000'\n",
      " '2022-12-09T10:43:00.000000000' '2022-12-09T14:30:00.000000000'\n",
      " '2022-12-09T11:32:00.000000000' '2022-12-09T10:41:00.000000000'\n",
      " '2022-12-09T12:44:00.000000000' '2022-12-09T20:07:00.000000000'\n",
      " '2022-12-09T20:31:00.000000000' '2022-12-09T12:29:00.000000000'\n",
      " '2022-12-09T15:26:00.000000000' '2022-12-09T20:48:00.000000000'\n",
      " '2022-12-09T12:02:00.000000000' '2022-12-09T17:26:00.000000000'\n",
      " '2022-12-09T19:52:00.000000000' '2022-12-09T14:57:00.000000000'\n",
      " '2022-12-09T18:44:00.000000000' '2022-12-09T13:26:00.000000000'\n",
      " '2022-12-09T16:17:00.000000000' '2022-12-09T15:57:00.000000000'\n",
      " '2022-12-09T13:18:00.000000000' '2022-12-09T20:34:00.000000000'\n",
      " '2022-12-09T18:36:00.000000000' '2022-12-09T14:40:00.000000000'\n",
      " '2022-12-09T16:43:00.000000000' '2022-12-09T20:59:00.000000000'\n",
      " '2022-12-09T15:39:00.000000000' '2022-12-09T12:21:00.000000000'\n",
      " '2022-12-09T19:25:00.000000000' '2022-12-09T13:00:00.000000000'\n",
      " '2022-12-09T13:48:00.000000000' '2022-12-09T19:57:00.000000000'\n",
      " '2022-12-09T10:36:00.000000000' '2022-12-09T16:37:00.000000000'\n",
      " '2022-12-09T17:11:00.000000000' '2022-12-09T15:07:00.000000000'\n",
      " '2022-12-09T16:07:00.000000000' '2022-12-09T11:56:00.000000000'\n",
      " '2022-12-09T18:23:00.000000000' '2022-12-09T13:05:00.000000000'\n",
      " '2022-12-09T19:40:00.000000000' '2022-12-09T13:58:00.000000000'\n",
      " '2022-12-09T14:43:00.000000000' '2022-12-09T19:18:00.000000000'\n",
      " '2022-12-09T16:21:00.000000000' '2022-12-09T19:44:00.000000000'\n",
      " '2022-12-09T19:42:00.000000000' '2022-12-09T15:24:00.000000000'\n",
      " '2022-12-09T14:12:00.000000000' '2022-12-09T13:32:00.000000000'\n",
      " '2022-12-09T16:20:00.000000000' '2022-12-09T16:31:00.000000000'\n",
      " '2022-12-09T11:36:00.000000000' '2022-12-09T19:17:00.000000000'\n",
      " '2022-12-09T17:34:00.000000000' '2022-12-09T12:04:00.000000000'\n",
      " '2022-12-09T17:01:00.000000000' '2022-12-09T10:50:00.000000000'\n",
      " '2022-12-09T19:16:00.000000000' '2022-12-09T16:47:00.000000000'\n",
      " '2022-12-09T10:00:00.000000000' '2022-12-09T11:51:00.000000000'\n",
      " '2022-12-09T15:00:00.000000000' '2022-12-09T11:19:00.000000000'\n",
      " '2022-12-09T19:46:00.000000000' '2022-12-09T19:00:00.000000000'\n",
      " '2022-12-09T10:53:00.000000000' '2022-12-09T12:50:00.000000000'\n",
      " '2022-12-09T20:50:00.000000000' '2022-12-09T13:41:00.000000000'\n",
      " '2022-12-09T19:08:00.000000000' '2022-12-09T20:23:00.000000000'\n",
      " '2022-12-09T11:30:00.000000000' '2022-12-09T19:30:00.000000000'\n",
      " '2022-12-09T18:03:00.000000000' '2022-12-09T10:13:00.000000000'\n",
      " '2022-12-09T19:58:00.000000000' '2022-12-09T10:01:00.000000000'\n",
      " '2022-12-09T11:57:00.000000000' '2022-12-09T10:02:00.000000000'\n",
      " '2022-12-09T14:51:00.000000000' '2022-12-09T12:42:00.000000000'\n",
      " '2022-12-09T17:38:00.000000000' '2022-12-09T20:24:00.000000000'\n",
      " '2022-12-09T18:08:00.000000000' '2022-12-09T15:53:00.000000000'\n",
      " '2022-12-09T15:05:00.000000000' '2022-12-09T18:27:00.000000000'\n",
      " '2022-12-09T16:55:00.000000000' '2022-12-09T12:58:00.000000000'\n",
      " '2022-12-09T18:59:00.000000000' '2022-12-09T13:44:00.000000000'\n",
      " '2022-12-09T13:46:00.000000000' '2022-12-09T18:06:00.000000000'\n",
      " '2022-12-09T12:38:00.000000000' '2022-12-09T15:56:00.000000000'\n",
      " '2022-12-09T14:29:00.000000000' '2022-12-09T19:14:00.000000000'\n",
      " '2022-12-09T10:52:00.000000000' '2022-12-09T12:55:00.000000000'\n",
      " '2022-12-09T19:28:00.000000000' '2022-12-09T13:52:00.000000000'\n",
      " '2022-12-09T10:54:00.000000000' '2022-12-09T18:31:00.000000000'\n",
      " '2022-12-09T18:24:00.000000000' '2022-12-09T18:09:00.000000000'\n",
      " '2022-12-09T15:16:00.000000000' '2022-12-09T17:07:00.000000000'\n",
      " '2022-12-09T19:26:00.000000000' '2022-12-09T11:20:00.000000000'\n",
      " '2022-12-09T16:49:00.000000000' '2022-12-09T12:01:00.000000000'\n",
      " '2022-12-09T11:25:00.000000000' '2022-12-09T18:42:00.000000000'\n",
      " '2022-12-09T14:47:00.000000000' '2022-12-09T19:43:00.000000000'\n",
      " '2022-12-09T14:04:00.000000000' '2022-12-09T16:11:00.000000000'\n",
      " '2022-12-09T19:06:00.000000000' '2022-12-09T15:34:00.000000000'\n",
      " '2022-12-09T11:22:00.000000000' '2022-12-09T11:23:00.000000000'\n",
      " '2022-12-09T10:46:00.000000000' '2022-12-09T13:25:00.000000000'\n",
      " '2022-12-09T14:53:00.000000000' '2022-12-09T19:22:00.000000000'\n",
      " '2022-12-09T11:00:00.000000000' '2022-12-09T19:24:00.000000000'\n",
      " '2022-12-09T17:22:00.000000000' '2022-12-09T20:55:00.000000000'\n",
      " '2022-12-09T16:05:00.000000000' '2022-12-09T13:34:00.000000000'\n",
      " '2022-12-09T18:13:00.000000000' '2022-12-09T11:44:00.000000000'\n",
      " '2022-12-09T15:51:00.000000000' '2022-12-09T16:52:00.000000000'\n",
      " '2022-12-09T20:52:00.000000000' '2022-12-09T16:28:00.000000000'\n",
      " '2022-12-09T13:29:00.000000000' '2022-12-09T11:09:00.000000000'\n",
      " '2022-12-09T15:02:00.000000000' '2022-12-09T14:21:00.000000000'\n",
      " '2022-12-09T18:01:00.000000000' '2022-12-09T13:30:00.000000000'\n",
      " '2022-12-09T14:38:00.000000000' '2022-12-09T17:37:00.000000000'\n",
      " '2022-12-09T17:20:00.000000000' '2022-12-09T20:29:00.000000000'\n",
      " '2022-12-09T11:46:00.000000000' '2022-12-09T13:42:00.000000000'\n",
      " '2022-12-09T14:44:00.000000000' '2022-12-09T14:16:00.000000000'\n",
      " '2022-12-09T15:54:00.000000000' '2022-12-09T10:21:00.000000000'\n",
      " '2022-12-09T16:46:00.000000000' '2022-12-09T20:14:00.000000000'\n",
      " '2022-12-09T17:09:00.000000000' '2022-12-09T17:43:00.000000000'\n",
      " '2022-12-09T19:05:00.000000000' '2022-12-09T10:08:00.000000000'\n",
      " '2022-12-09T13:12:00.000000000' '2022-12-09T20:51:00.000000000'\n",
      " '2022-12-09T17:29:00.000000000' '2022-12-09T11:34:00.000000000'\n",
      " '2022-12-09T18:58:00.000000000' '2022-12-09T20:26:00.000000000'\n",
      " '2022-12-09T15:08:00.000000000' '2022-12-09T13:21:00.000000000'\n",
      " '2022-12-09T12:48:00.000000000' '2022-12-09T19:53:00.000000000'\n",
      " '2022-12-09T19:09:00.000000000' '2022-12-09T16:30:00.000000000'\n",
      " '2022-12-09T13:07:00.000000000' '2022-12-09T18:48:00.000000000'\n",
      " '2022-12-09T17:27:00.000000000' '2022-12-09T15:59:00.000000000'\n",
      " '2022-12-09T11:21:00.000000000' '2022-12-09T15:49:00.000000000'\n",
      " '2022-12-09T13:02:00.000000000' '2022-12-09T20:21:00.000000000'\n",
      " '2022-12-09T15:04:00.000000000' '2022-12-09T16:10:00.000000000'\n",
      " '2022-12-09T12:14:00.000000000' '2022-12-09T11:06:00.000000000'\n",
      " '2022-12-09T18:22:00.000000000' '2022-12-09T19:02:00.000000000'\n",
      " '2022-12-09T15:44:00.000000000' '2022-12-09T20:01:00.000000000'\n",
      " '2022-12-09T13:45:00.000000000' '2022-12-09T15:40:00.000000000'\n",
      " '2022-12-09T16:58:00.000000000' '2022-12-09T11:12:00.000000000'\n",
      " '2022-12-09T15:12:00.000000000' '2022-12-09T20:37:00.000000000'\n",
      " '2022-12-09T17:44:00.000000000' '2022-12-09T16:23:00.000000000'\n",
      " '2022-12-09T12:12:00.000000000' '2022-12-09T19:33:00.000000000'\n",
      " '2022-12-09T14:28:00.000000000' '2022-12-09T17:54:00.000000000'\n",
      " '2022-12-09T12:25:00.000000000' '2022-12-09T12:52:00.000000000'\n",
      " '2022-12-09T19:50:00.000000000' '2022-12-09T15:32:00.000000000'\n",
      " '2022-12-09T13:19:00.000000000' '2022-12-09T13:37:00.000000000'\n",
      " '2022-12-09T14:55:00.000000000' '2022-12-09T12:31:00.000000000'\n",
      " '2022-12-09T10:26:00.000000000' '2022-12-09T20:18:00.000000000'\n",
      " '2022-12-09T20:04:00.000000000' '2022-12-09T13:38:00.000000000'\n",
      " '2022-12-09T17:30:00.000000000' '2022-12-09T15:28:00.000000000'\n",
      " '2022-12-09T19:07:00.000000000' '2022-12-09T18:55:00.000000000'\n",
      " '2022-12-09T19:36:00.000000000' '2022-12-09T10:57:00.000000000'\n",
      " '2022-12-09T17:13:00.000000000' '2022-12-09T13:57:00.000000000'\n",
      " '2022-12-09T13:53:00.000000000' '2022-12-09T16:53:00.000000000'\n",
      " '2022-12-09T16:51:00.000000000' '2022-12-09T15:37:00.000000000'\n",
      " '2022-12-09T20:15:00.000000000' '2022-12-09T19:35:00.000000000'\n",
      " '2022-12-09T15:42:00.000000000' '2022-12-09T14:11:00.000000000'\n",
      " '2022-12-09T17:58:00.000000000' '2022-12-09T11:02:00.000000000'\n",
      " '2022-12-09T15:09:00.000000000' '2022-12-09T13:47:00.000000000'\n",
      " '2022-12-09T16:59:00.000000000' '2022-12-09T14:15:00.000000000'\n",
      " '2022-12-09T15:19:00.000000000' '2022-12-09T18:33:00.000000000'\n",
      " '2022-12-09T12:10:00.000000000' '2022-12-09T11:40:00.000000000'\n",
      " '2022-12-09T16:54:00.000000000' '2022-12-09T15:25:00.000000000'\n",
      " '2022-12-09T20:47:00.000000000' '2022-12-09T18:20:00.000000000'\n",
      " '2022-12-09T11:48:00.000000000' '2022-12-09T14:14:00.000000000'\n",
      " '2022-12-09T11:17:00.000000000' '2022-12-09T12:40:00.000000000'\n",
      " '2022-12-09T17:53:00.000000000' '2022-12-09T16:36:00.000000000'\n",
      " '2022-12-09T10:48:00.000000000' '2022-12-09T18:05:00.000000000'\n",
      " '2022-12-09T12:07:00.000000000' '2022-12-09T19:49:00.000000000'\n",
      " '2022-12-09T15:52:00.000000000' '2022-12-09T20:46:00.000000000'\n",
      " '2022-12-09T10:34:00.000000000' '2022-12-09T13:55:00.000000000'\n",
      " '2022-12-09T11:43:00.000000000' '2022-12-09T16:03:00.000000000'\n",
      " '2022-12-09T20:03:00.000000000' '2022-12-09T19:41:00.000000000'\n",
      " '2022-12-09T18:04:00.000000000' '2022-12-09T10:31:00.000000000'\n",
      " '2022-12-09T13:28:00.000000000' '2022-12-09T17:16:00.000000000'\n",
      " '2022-12-09T18:43:00.000000000' '2022-12-09T10:30:00.000000000'\n",
      " '2022-12-09T20:40:00.000000000' '2022-12-09T12:08:00.000000000'\n",
      " '2022-12-09T17:45:00.000000000' '2022-12-09T10:28:00.000000000'\n",
      " '2022-12-09T10:49:00.000000000' '2022-12-09T12:34:00.000000000'\n",
      " '2022-12-09T18:51:00.000000000' '2022-12-09T19:38:00.000000000'\n",
      " '2022-12-09T12:32:00.000000000' '2022-12-09T10:33:00.000000000'\n",
      " '2022-12-09T19:55:00.000000000' '2022-12-09T14:33:00.000000000'\n",
      " '2022-12-09T13:54:00.000000000' '2022-12-09T12:15:00.000000000'\n",
      " '2022-12-09T12:37:00.000000000' '2022-12-09T15:06:00.000000000'\n",
      " '2022-12-09T15:58:00.000000000' '2022-12-09T14:03:00.000000000'\n",
      " '2022-12-09T16:38:00.000000000' '2022-12-09T11:07:00.000000000'\n",
      " '2022-12-09T12:23:00.000000000' '2022-12-09T14:13:00.000000000'\n",
      " '2022-12-09T19:11:00.000000000' '2022-12-09T18:53:00.000000000'\n",
      " '2022-12-09T14:22:00.000000000' '2022-12-09T10:06:00.000000000'\n",
      " '2022-12-09T20:08:00.000000000' '2022-12-09T12:56:00.000000000'\n",
      " '2022-12-09T10:18:00.000000000' '2022-12-09T11:45:00.000000000'\n",
      " '2022-12-09T16:08:00.000000000' '2022-12-09T12:24:00.000000000'\n",
      " '2022-12-09T19:51:00.000000000' '2022-12-09T18:10:00.000000000'\n",
      " '2022-12-09T15:27:00.000000000' '2022-12-09T16:04:00.000000000'\n",
      " '2022-12-09T14:41:00.000000000' '2022-12-09T14:19:00.000000000'\n",
      " '2022-12-09T14:08:00.000000000' '2022-12-09T11:29:00.000000000'\n",
      " '2022-12-09T12:16:00.000000000' '2022-12-09T20:00:00.000000000'\n",
      " '2022-12-09T15:29:00.000000000' '2022-12-09T14:58:00.000000000'\n",
      " '2022-12-09T11:52:00.000000000' '2022-12-09T17:46:00.000000000'\n",
      " '2022-12-09T14:45:00.000000000' '2022-12-09T11:39:00.000000000'\n",
      " '2022-12-09T13:06:00.000000000' '2022-12-09T20:43:00.000000000'\n",
      " '2022-12-09T16:34:00.000000000' '2022-12-09T13:10:00.000000000'\n",
      " '2022-12-09T17:10:00.000000000' '2022-12-09T10:22:00.000000000'\n",
      " '2022-12-09T19:29:00.000000000' '2022-12-09T14:27:00.000000000'\n",
      " '2022-12-09T12:22:00.000000000' '2022-12-09T11:59:00.000000000'\n",
      " '2022-12-09T17:59:00.000000000' '2022-12-09T12:51:00.000000000'\n",
      " '2022-12-09T13:56:00.000000000' '2022-12-09T19:45:00.000000000'\n",
      " '2022-12-09T16:18:00.000000000' '2022-12-09T18:57:00.000000000'\n",
      " '2022-12-09T11:18:00.000000000' '2022-12-09T14:06:00.000000000'\n",
      " '2022-12-09T20:13:00.000000000' '2022-12-09T15:14:00.000000000'\n",
      " '2022-12-09T16:06:00.000000000' '2022-12-09T12:47:00.000000000'\n",
      " '2022-12-09T20:42:00.000000000' '2022-12-09T20:10:00.000000000'\n",
      " '2022-12-09T14:24:00.000000000' '2022-12-09T11:42:00.000000000'\n",
      " '2022-12-09T17:49:00.000000000' '2022-12-09T15:33:00.000000000'\n",
      " '2022-12-09T10:38:00.000000000' '2022-12-09T12:39:00.000000000'\n",
      " '2022-12-09T14:26:00.000000000' '2022-12-09T12:41:00.000000000'\n",
      " '2022-12-09T15:20:00.000000000' '2022-12-09T16:33:00.000000000'\n",
      " '2022-12-09T20:44:00.000000000' '2022-12-09T11:16:00.000000000'\n",
      " '2022-12-09T12:30:00.000000000' '2022-12-09T17:48:00.000000000'\n",
      " '2022-12-09T20:30:00.000000000' '2022-12-09T13:59:00.000000000'\n",
      " '2022-12-09T11:58:00.000000000' '2022-12-09T16:50:00.000000000'\n",
      " '2022-12-09T18:02:00.000000000' '2022-12-09T17:52:00.000000000'\n",
      " '2022-12-09T20:32:00.000000000' '2022-12-09T16:09:00.000000000'\n",
      " '2022-12-09T11:33:00.000000000' '2022-12-09T15:15:00.000000000'\n",
      " '2022-12-09T20:06:00.000000000' '2022-12-09T16:26:00.000000000'\n",
      " '2022-12-09T18:38:00.000000000' '2022-12-09T16:45:00.000000000'\n",
      " '2022-12-09T18:41:00.000000000' '2022-12-09T17:12:00.000000000'\n",
      " '2022-12-09T14:00:00.000000000' '2022-12-09T16:32:00.000000000'\n",
      " '2022-12-09T10:10:00.000000000' '2022-12-09T10:05:00.000000000'\n",
      " '2022-12-09T18:15:00.000000000' '2022-12-09T11:01:00.000000000'\n",
      " '2022-12-09T15:21:00.000000000' '2022-12-09T16:16:00.000000000'\n",
      " '2022-12-09T11:05:00.000000000' '2022-12-09T19:31:00.000000000'\n",
      " '2022-12-09T18:35:00.000000000' '2022-12-09T13:51:00.000000000'\n",
      " '2022-12-09T12:35:00.000000000' '2022-12-09T11:55:00.000000000'\n",
      " '2022-12-09T15:11:00.000000000' '2022-12-09T14:48:00.000000000'\n",
      " '2022-12-09T12:36:00.000000000' '2022-12-09T13:35:00.000000000'\n",
      " '2022-12-09T15:45:00.000000000' '2022-12-09T14:25:00.000000000'\n",
      " '2022-12-09T15:18:00.000000000' '2022-12-09T10:03:00.000000000'\n",
      " '2022-12-09T13:14:00.000000000' '2022-12-09T16:35:00.000000000'\n",
      " '2022-12-09T20:57:00.000000000' '2022-12-09T13:50:00.000000000'\n",
      " '2022-12-09T17:35:00.000000000' '2022-12-09T17:56:00.000000000'\n",
      " '2022-12-09T10:44:00.000000000' '2022-12-09T10:09:00.000000000'\n",
      " '2022-12-09T10:58:00.000000000' '2022-12-09T13:49:00.000000000'\n",
      " '2022-12-09T11:10:00.000000000' '2022-12-09T13:33:00.000000000'\n",
      " '2022-12-09T14:05:00.000000000' '2022-12-09T16:27:00.000000000'\n",
      " '2022-12-09T15:23:00.000000000' '2022-12-09T18:18:00.000000000'\n",
      " '2022-12-09T15:17:00.000000000' '2022-12-09T19:12:00.000000000']\n",
      "Time ...... 506\n",
      "Payment ...... ['Ewallet' 'Cash' 'Credit card']\n",
      "Payment ...... 3\n",
      "cogs ...... [522.83  76.4  324.31 465.76 604.17 597.73 413.04 735.6   72.52 164.52\n",
      "  57.92 102.04 234.75 431.9  713.8  562.32 482.51 435.66 164.01  80.6\n",
      " 430.2  263.94  66.4  172.8  265.89 420.72  33.52 175.34 441.8  224.01\n",
      " 470.65 702.63 670.24 193.16 397.68  68.12 313.1  547.92 439.36 240.96\n",
      "  86.72 112.22 414.72 789.6   30.74 375.84 510.21 180.09 113.58 826.3\n",
      " 639.8  222.95  71.48  15.43  32.32 687.84  88.68 716.8  723.5  183.66\n",
      "  74.22 334.38 495.63 158.1  302.96 158.7   66.94 585.66 787.7   18.33\n",
      " 894.8  621.2  145.56 455.46 672.03 416.5  441.36 783.1  101.9  595.14\n",
      " 290.04 154.   321.44 244.55 581.42 382.6  345.66  42.47 461.94 189.52\n",
      " 448.6  153.86 579.24  89.75  97.16 878.7   74.7  158.25 496.2   48.71\n",
      " 706.95 207.63 349.56 212.45 886.7  164.28 372.78 305.82 819.7   32.98\n",
      " 294.63 509.88 522.63 727.11  81.06 109.7   51.36 109.6  106.88 796.48\n",
      " 399.84 899.64 511.28 451.76 655.83 161.25 285.57 548.32 812.52 277.34\n",
      " 552.78 139.36 524.7  487.8  270.66 131.55 206.52 519.1  580.   898.\n",
      " 905.   686.    30.41 467.7  277.56 301.4  264.56 574.88 259.68 366.16\n",
      " 241.92 749.16  98.88 647.76 461.45  72.17 251.4  874.98 560.34 345.44\n",
      "  63.69 320.53 152.8  399.   340.56 955.8  989.8  307.68 486.64 350.05\n",
      " 400.25 166.8  317.34 158.32 304.56 177.36 157.57 443.28 260.4  449.82\n",
      " 307.76 155.   274.48  86.38  54.24 755.92 185.88  74.07 279.24 231.12\n",
      " 147.04 790.2  102.2  163.55  74.29  87.4   25.29 166.   356.95 114.9\n",
      " 229.96 429.87 259.    88.85 207.27 599.85 285.3   91.11 897.57 236.07\n",
      " 839.34 461.8  139.26  18.28 123.85 283.92 758.96 172.02 272.1  434.56\n",
      "  59.05  12.54  86.5  174.32 624.33 148.24 544.2  507.36 162.74  31.77\n",
      " 756.81 295.28 519.4  186.28  87.05 221.1   66.1   89.69 224.46 119.54\n",
      " 186.4  250.6  750.96 380.72 244.2   89.7  310.88 511.42 418.95 351.9\n",
      "  28.78  95.   471.2  130.48  66.35 155.46 129.   263.76 675.54  65.8\n",
      " 153.2  222.4   54.45 688.8  141.88 746.   282.96 355.4  337.15  42.24\n",
      " 193.86  24.06 598.26 335.79 218.2  381.68 709.9  440.2  559.68  37.\n",
      "  15.34 598.98 190.68 333.4   74.86 213.75 339.57 664.16 403.   194.95\n",
      "  62.48  72.72 181.1  259.6  115.36 470.28 240.04  88.61 199.64  39.01\n",
      "  48.61 204.76 119.68 505.4  281.61 710.32  79.44 163.82 479.58 138.66\n",
      "  71.15 139.95 781.3  198.74  63.24 373.95 207.69 176.28 206.37  39.42\n",
      "  91.56 308.85 129.12 390.96 498.9  377.04 204.52 145.44 198.18  98.7\n",
      " 385.1   46.96  73.5  142.25 687.6  347.7  142.95 385.38 144.27 391.79\n",
      " 538.3  485.15 133.95 701.37  71.95 714.   182.14 135.   993.   361.83\n",
      " 383.11 243.    30.24 356.56 375.5  954.4   82.5   74.97 647.68 755.76\n",
      " 199.58 439.32 164.96 326.72 461.88 143.6  193.5  183.82 121.92 420.66\n",
      " 252.48 335.45 483.5  318.42 668.43 387.92  94.6  329.32  53.22 498.45\n",
      " 299.56 204.7   75.82 280.62 323.2  486.63 127.54 241.44 379.5   76.82\n",
      " 522.6   79.74 387.5  271.35 122.31 246.36 173.16 236.58 184.88  13.98\n",
      " 198.75 684.53 269.04  68.95 274.84 226.12 119.1  342.1   43.74 104.85\n",
      "  77.52 407.44  96.11 181.52  81.51 114.44 176.54 115.8  252.15 972.1\n",
      " 203.36  16.28 365.49 372.19  62.61 336.35 906.5  138.16  86.54 140.76\n",
      " 668.78  47.44 893.16 331.72 203.94  68.16 326.88  87.2  707.44 802.89\n",
      "  12.78 133.7   19.15 276.6  137.22  27.07  39.12 448.26 132.06 318.05\n",
      "  25.    83.08 147.8  696.6  793.9  465.7   35.89 202.6  730.5  295.8\n",
      "  22.62 256.7  545.5  260.05 222.12  21.58  98.84 502.62 160.2  431.3\n",
      " 580.56 322.2  195.54 166.3  336.28 343.7   38.6  527.76 328.   185.7\n",
      " 603.8  369.8  197.96 410.9  148.6   22.96 699.12  69.4  196.6  202.56\n",
      " 121.2  199.78 607.36 126.44 541.44  98.13 412.16  73.97  31.9  138.8\n",
      " 186.62  88.45 193.44 145.5  504.3  306.45  95.7  635.18 214.55 379.96\n",
      " 696.85 408.73  51.47 274.3  196.95  69.46 359.6  137.13 499.02 224.64\n",
      " 125.74 490.26 457.05 156.84 119.72 543.6  882.81 152.58 693.44 229.5\n",
      " 146.79 141.6  116.69  73.96  97.94 292.2  524.88  92.04  75.88  80.72\n",
      " 112.62  71.2  155.24 294.2  548.55 257.7  396.36 171.81 488.79 524.16\n",
      " 133.26 135.24 112.44 144.08 985.2  249.96 217.26 194.22 892.   339.36\n",
      " 447.06 198.5  812.1  493.3  591.66 559.02 517.86 410.2  266.7   70.91\n",
      " 144.78 429.55 569.17 241.2  127.08 257.08 139.02  81.66 310.72 185.96\n",
      "  72.32 189.18 206.84 157.02 215.3  596.1   73.1  279.18 169.68  45.58\n",
      " 225.6  290.4   44.46 156.6  419.94 184.25 140.64  64.99 775.6  327.06\n",
      " 363.23 127.   375.55 199.16  30.61 115.78  28.96 890.73 279.66  80.93\n",
      " 674.5  348.48 435.6  439.55 591.18 260.76 215.04  91.61 662.13 832.5\n",
      "  91.35 157.76 121.74 825.8  159.9   12.09 641.9  234.93 167.54 299.1\n",
      " 239.73 664.7  202.65  46.2   88.15 157.26 296.37 708.4  111.34 580.16\n",
      "  60.25 174.24 421.26  33.63  30.98 247.4  378.3  334.86 727.8  335.88\n",
      " 240.72  47.07  99.69 264.45 139.65  55.45 128.91 119.98 352.5  871.\n",
      " 197.6  194.52 173.22  71.88 286.26  81.24 560.4  186.8  220.23 269.12\n",
      " 454.8  448.56 293.88 589.5  291.    39.48  34.81 295.92  42.96 138.48\n",
      "  98.2  129.66 635.6  145.76 201.3  631.71 385.28 486.3  513.66 473.4\n",
      " 436.85 108.16 248.76 626.22 975.   483.28  96.96 197.7  724.23 795.51\n",
      " 502.39 172.    68.98 124.96  77.1  483.72 302.12 698.67 124.65 178.4\n",
      " 500.22  35.82 136.14 104.88 178.92 815.67 132.36 257.39  93.36 228.\n",
      " 166.71 697.4  389.04 365.26  89.28 168.    19.7  531.16  53.72 819.5\n",
      " 568.4  587.6  732.48 845.64 389.27  84.83 143.26  75.38 253.36  38.42\n",
      " 652.3   52.65 110.61 568.61 136.4  174.2  366.4  254.61 778.32 285.92\n",
      " 579.12 188.5  221.56 772.   721.3  511.04  53.45 222.   763.68 228.18\n",
      "  82.14 382.56  68.58 382.16 601.09 475.93  52.42 131.3  144.3  457.17\n",
      "  93.38 126.25 790.83 174.4  379.04  30.62 352.08  50.8  522.06 575.12\n",
      "  54.95 181.41 412.37  46.41 274.2  973.7  648.2   93.22  54.36  60.87\n",
      " 244.9   92.78 433.45 138.06 241.6  471.73 440.64 680.31 309.88 186.36\n",
      " 200.92  17.75 621.8   86.   402.6  324.85  95.15 388.96 425.68 318.08\n",
      " 271.04 384.64 235.8  211.56  95.36  10.17 206.13 420.56  88.04 648.99\n",
      " 123.84 649.5  742.2   84.48 250.28  94.8   91.3  285.11  52.38 192.7\n",
      " 267.78 558.7  175.32 155.82  60.3   78.94  29.74  21.32 281.34  73.26\n",
      "  22.38 655.92 594.6   74.1  196.96 372.33 527.9  479.75 328.59 168.96\n",
      " 113.24 345.54 428.67  86.27  25.52 101.52 357.49 238.77 101.43 724.24\n",
      " 125.64  72.93 258.36 173.74  56.5  214.3  534.36  93.16 522.08  52.35\n",
      "  39.75 720.16  96.8  332.1   81.44 319.9  166.68 319.06  87.9  734.7\n",
      "  97.52 769.2  418.3  463.28 462.45 141.9  302.7  793.28 425.18 283.62\n",
      " 599.2  315.36 403.56 183.88 138.65  80.71 116.64 313.52 846.1  414.4\n",
      " 159.08 490.1   87.45 224.52 744.96 410.72 298.8  212.94  42.85 378.68\n",
      " 206.91  78.78 322.11  98.22  25.46 581.98 211.32  55.12  88.31 356.58\n",
      " 794.25  50.62 599.52 166.7  744.4  378.9  257.16 552.23 447.4  276.27\n",
      " 343.74 266.08 898.38 456.8  253.95  70.56 657.16 168.5   53.78 179.05\n",
      " 211.44 119.73  65.7   84.16 395.46 297.99 454.41 276.12 158.   887.94\n",
      "  91.98  41.78  15.5  290.46  66.66  76.54 299.7  243.03  47.4  172.45\n",
      " 846.3  258.37 609.56 240.24 172.26  99.84 298.64 159.6   25.45  67.77\n",
      " 238.36 232.6  877.32 699.72 674.59 318.55  29.52 496.   823.4  602.96\n",
      " 282.8  766.   116.06 174.9   60.95  40.35 973.8   31.84  65.82 618.38]\n",
      "cogs ...... 990\n",
      "gross margin percentage ...... [4.76190476]\n",
      "gross margin percentage ...... 1\n",
      "gross income ...... [26.1415  3.82   16.2155 23.288  30.2085 29.8865 20.652  36.78    3.626\n",
      "  8.226   2.896   5.102  11.7375 21.595  35.69   28.116  24.1255 21.783\n",
      "  8.2005  4.03   21.51   13.197   3.32    8.64   13.2945 21.036   1.676\n",
      "  8.767  22.09   11.2005 23.5325 35.1315 33.512   9.658  19.884   3.406\n",
      " 15.655  27.396  21.968  12.048   4.336   5.611  20.736  39.48    1.537\n",
      " 18.792  25.5105  9.0045  5.679  41.315  31.99   11.1475  3.574   0.7715\n",
      "  1.616  34.392   4.434  35.84   36.175   9.183   3.711  16.719  24.7815\n",
      "  7.905  15.148   7.935   3.347  29.283  39.385   0.9165 44.74   31.06\n",
      "  7.278  22.773  33.6015 20.825  22.068  39.155   5.095  29.757  14.502\n",
      "  7.7    16.072  12.2275 29.071  19.13   17.283   2.1235 23.097   9.476\n",
      " 22.43    7.693  28.962   4.4875  4.858  43.935   3.735   7.9125 24.81\n",
      "  2.4355 35.3475 10.3815 17.478  10.6225 44.335   8.214  18.639  15.291\n",
      " 40.985   1.649  14.7315 25.494  26.1315 36.3555  4.053   5.485   2.568\n",
      "  5.48    5.344  39.824  19.992  44.982  25.564  22.588  32.7915  8.0625\n",
      " 14.2785 27.416  40.626  13.867  27.639   6.968  26.235  24.39   13.533\n",
      "  6.5775 10.326  25.955  29.     44.9    45.25   34.3     1.5205 23.385\n",
      " 13.878  15.07   13.228  28.744  12.984  18.308  12.096  37.458   4.944\n",
      " 32.388  23.0725  3.6085 12.57   43.749  28.017  17.272   3.1845 16.0265\n",
      "  7.64   19.95   17.028  47.79   49.49   15.384  24.332  17.5025 20.0125\n",
      "  8.34   15.867   7.916  15.228   8.868   7.8785 22.164  13.02   22.491\n",
      " 15.388   7.75   13.724   4.319   2.712  37.796   9.294   3.7035 13.962\n",
      " 11.556   7.352  39.51    5.11    8.1775  3.7145  4.37    1.2645  8.3\n",
      " 17.8475  5.745  11.498  21.4935 12.95    4.4425 10.3635 29.9925 14.265\n",
      "  4.5555 44.8785 11.8035 41.967  23.09    6.963   0.914   6.1925 14.196\n",
      " 37.948   8.601  13.605  21.728   2.9525  0.627   4.325   8.716  31.2165\n",
      "  7.412  27.21   25.368   8.137   1.5885 37.8405 14.764  25.97    9.314\n",
      "  4.3525 11.055   3.305   4.4845 11.223   5.977   9.32   12.53   37.548\n",
      " 19.036  12.21    4.485  15.544  25.571  20.9475 17.595   1.439   4.75\n",
      " 23.56    6.524   3.3175  7.773   6.45   13.188  33.777   3.29    7.66\n",
      " 11.12    2.7225 34.44    7.094  37.3    14.148  17.77   16.8575  2.112\n",
      "  9.693   1.203  29.913  16.7895 10.91   19.084  35.495  22.01   27.984\n",
      "  1.85    0.767  29.949   9.534  16.67    3.743  10.6875 16.9785 33.208\n",
      " 20.15    9.7475  3.124   3.636   9.055  12.98    5.768  23.514  12.002\n",
      "  4.4305  9.982   1.9505  2.4305 10.238   5.984  25.27   14.0805 35.516\n",
      "  3.972   8.191  23.979   6.933   3.5575  6.9975 39.065   9.937   3.162\n",
      " 18.6975 10.3845  8.814  10.3185  1.971   4.578  15.4425  6.456  19.548\n",
      " 24.945  18.852  10.226   7.272   9.909   4.935  19.255   2.348   3.675\n",
      "  7.1125 34.38   17.385   7.1475 19.269   7.2135 19.5895 26.915  24.2575\n",
      "  6.6975 35.0685  3.5975 35.7     9.107   6.75   49.65   18.0915 19.1555\n",
      " 12.15    1.512  17.828  18.775  47.72    4.125   3.7485 32.384  37.788\n",
      "  9.979  21.966   8.248  16.336  23.094   7.18    9.675   9.191   6.096\n",
      " 21.033  12.624  16.7725 24.175  15.921  33.4215 19.396   4.73   16.466\n",
      "  2.661  24.9225 14.978  10.235   3.791  14.031  16.16   24.3315  6.377\n",
      " 12.072  18.975   3.841  26.13    3.987  19.375  13.5675  6.1155 12.318\n",
      "  8.658  11.829   9.244   0.699   9.9375 34.2265 13.452   3.4475 13.742\n",
      " 11.306   5.955  17.105   2.187   5.2425  3.876  20.372   4.8055  9.076\n",
      "  4.0755  5.722   8.827   5.79   12.6075 48.605  10.168   0.814  18.2745\n",
      " 18.6095  3.1305 16.8175 45.325   6.908   4.327   7.038  33.439   2.372\n",
      " 44.658  16.586  10.197   3.408  16.344   4.36   35.372  40.1445  0.639\n",
      "  6.685   0.9575 13.83    6.861   1.3535  1.956  22.413   6.603  15.9025\n",
      "  1.25    4.154   7.39   34.83   39.695  23.285   1.7945 10.13   36.525\n",
      " 14.79    1.131  12.835  27.275  13.0025 11.106   1.079   4.942  25.131\n",
      "  8.01   21.565  29.028  16.11    9.777   8.315  16.814  17.185   1.93\n",
      " 26.388  16.4     9.285  30.19   18.49    9.898  20.545   7.43    1.148\n",
      " 34.956   3.47    9.83   10.128   6.06    9.989  30.368   6.322  27.072\n",
      "  4.9065 20.608   3.6985  1.595   6.94    9.331   4.4225  9.672   7.275\n",
      " 25.215  15.3225  4.785  31.759  10.7275 18.998  34.8425 20.4365  2.5735\n",
      " 13.715   9.8475  3.473  17.98    6.8565 24.951  11.232   6.287  24.513\n",
      " 22.8525  7.842   5.986  27.18   44.1405  7.629  34.672  11.475   7.3395\n",
      "  7.08    5.8345  3.698   4.897  14.61   26.244   4.602   3.794   4.036\n",
      "  5.631   3.56    7.762  14.71   27.4275 12.885  19.818   8.5905 24.4395\n",
      " 26.208   6.663   6.762   5.622   7.204  49.26   12.498  10.863   9.711\n",
      " 44.6    16.968  22.353   9.925  40.605  24.665  29.583  27.951  25.893\n",
      " 20.51   13.335   3.5455  7.239  21.4775 28.4585 12.06    6.354  12.854\n",
      "  6.951   4.083  15.536   9.298   3.616   9.459  10.342   7.851  10.765\n",
      " 29.805   3.655  13.959   8.484   2.279  11.28   14.52    2.223   7.83\n",
      " 20.997   9.2125  7.032   3.2495 38.78   16.353  18.1615  6.35   18.7775\n",
      "  9.958   1.5305  5.789   1.448  44.5365 13.983   4.0465 33.725  17.424\n",
      " 21.78   21.9775 29.559  13.038  10.752   4.5805 33.1065 41.625   4.5675\n",
      "  7.888   6.087  41.29    7.995   0.6045 32.095  11.7465  8.377  14.955\n",
      " 11.9865 33.235  10.1325  2.31    4.4075  7.863  14.8185 35.42    5.567\n",
      " 29.008   3.0125  8.712  21.063   1.6815  1.549  12.37   18.915  16.743\n",
      " 36.39   16.794  12.036   2.3535  4.9845 13.2225  6.9825  2.7725  6.4455\n",
      "  5.999  17.625  43.55    9.88    9.726   8.661   3.594  14.313   4.062\n",
      " 28.02    9.34   11.0115 13.456  22.74   22.428  14.694  29.475  14.55\n",
      "  1.974   1.7405 14.796   2.148   6.924   4.91    6.483  31.78    7.288\n",
      " 10.065  31.5855 19.264  24.315  25.683  23.67   21.8425  5.408  12.438\n",
      " 31.311  48.75   24.164   4.848   9.885  36.2115 39.7755 25.1195  8.6\n",
      "  3.449   6.248   3.855  24.186  15.106  34.9335  6.2325  8.92   25.011\n",
      "  1.791   6.807   5.244   8.946  40.7835  6.618  12.8695  4.668  11.4\n",
      "  8.3355 34.87   19.452  18.263   4.464   8.4     0.985  26.558   2.686\n",
      " 40.975  28.42   29.38   36.624  42.282  19.4635  4.2415  7.163   3.769\n",
      " 12.668   1.921  32.615   2.6325  5.5305 28.4305  6.82    8.71   18.32\n",
      " 12.7305 38.916  14.296  28.956   9.425  11.078  38.6    36.065  25.552\n",
      "  2.6725 11.1    38.184  11.409   4.107  19.128   3.429  19.108  30.0545\n",
      " 23.7965  2.621   6.565   7.215  22.8585  4.669   6.3125 39.5415  8.72\n",
      " 18.952   1.531  17.604   2.54   26.103  28.756   2.7475  9.0705 20.6185\n",
      "  2.3205 13.71   48.685  32.41    4.661   2.718   3.0435 12.245   4.639\n",
      " 21.6725  6.903  12.08   23.5865 22.032  34.0155 15.494   9.318  10.046\n",
      "  0.8875 31.09    4.3    20.13   16.2425  4.7575 19.448  21.284  15.904\n",
      " 13.552  19.232  11.79   10.578   4.768   0.5085 10.3065 21.028   4.402\n",
      " 32.4495  6.192  32.475  37.11    4.224  12.514   4.74    4.565  14.2555\n",
      "  2.619   9.635  13.389  27.935   8.766   7.791   3.015   3.947   1.487\n",
      "  1.066  14.067   3.663   1.119  32.796  29.73    3.705   9.848  18.6165\n",
      " 26.395  23.9875 16.4295  8.448   5.662  17.277  21.4335  4.3135  1.276\n",
      "  5.076  17.8745 11.9385  5.0715 36.212   6.282   3.6465 12.918   8.687\n",
      "  2.825  10.715  26.718   4.658  26.104   2.6175  1.9875 36.008   4.84\n",
      " 16.605   4.072  15.995   8.334  15.953   4.395  36.735   4.876  38.46\n",
      " 20.915  23.164  23.1225  7.095  15.135  39.664  21.259  14.181  29.96\n",
      " 15.768  20.178   9.194   6.9325  4.0355  5.832  15.676  42.305  20.72\n",
      "  7.954  24.505   4.3725 11.226  37.248  20.536  14.94   10.647   2.1425\n",
      " 18.934  10.3455  3.939  16.1055  4.911   1.273  29.099  10.566   2.756\n",
      "  4.4155 17.829  39.7125  2.531  29.976   8.335  37.22   18.945  12.858\n",
      " 27.6115 22.37   13.8135 17.187  13.304  44.919  22.84   12.6975  3.528\n",
      " 32.858   8.425   2.689   8.9525 10.572   5.9865  3.285   4.208  19.773\n",
      " 14.8995 22.7205 13.806   7.9    44.397   4.599   2.089   0.775  14.523\n",
      "  3.333   3.827  14.985  12.1515  2.37    8.6225 42.315  12.9185 30.478\n",
      " 12.012   8.613   4.992  14.932   7.98    1.2725  3.3885 11.918  11.63\n",
      " 43.866  34.986  33.7295 15.9275  1.476  24.8    41.17   30.148  14.14\n",
      " 38.3     5.803   8.745   3.0475  2.0175 48.69    1.592   3.291  30.919 ]\n",
      "gross income ...... 990\n",
      "Rating ...... [ 9.1  9.6  7.4  8.4  5.3  4.1  5.8  8.   7.2  5.9  4.5  6.8  7.1  8.2\n",
      "  5.7  4.6  6.9  8.6  4.4  4.8  5.1  9.9  6.   8.5  6.7  7.7  7.5  7.\n",
      "  4.7  7.6  7.9  6.3  5.6  9.5  8.1  6.5  6.1  6.6  5.4  9.3 10.   6.4\n",
      "  4.3  4.   8.7  9.4  5.5  8.3  7.3  4.9  4.2  9.2  7.8  5.2  9.   8.8\n",
      "  6.2  9.8  9.7  5.   8.9]\n",
      "Rating ...... 61\n",
      "Days ...... ['Saturday' 'Friday' 'Sunday' 'Monday' 'Thursday' 'Wednesday' 'Tuesday']\n",
      "Days ...... 7\n",
      "Month ...... ['January' 'March' 'February']\n",
      "Month ...... 3\n",
      "weekday ...... [5 4 6 0 3 2 1]\n",
      "weekday ...... 7\n"
     ]
    }
   ],
   "source": [
    "for i in df .columns:\n",
    "    print(i,\"......\",df[i].unique())\n",
    "    print(i,\"......\",df[i].nunique())\n",
    "\n"
   ]
  },
  {
   "cell_type": "markdown",
   "metadata": {},
   "source": [
    "# Insight of Data"
   ]
  },
  {
   "cell_type": "markdown",
   "metadata": {
    "execution": {
     "iopub.execute_input": "2022-12-06T14:05:46.605210Z",
     "iopub.status.busy": "2022-12-06T14:05:46.604730Z",
     "iopub.status.idle": "2022-12-06T14:05:46.611493Z",
     "shell.execute_reply": "2022-12-06T14:05:46.610020Z",
     "shell.execute_reply.started": "2022-12-06T14:05:46.605168Z"
    }
   },
   "source": [
    "## Step:1 Analyze the descriptive summary of Numeric data "
   ]
  },
  {
   "cell_type": "code",
   "execution_count": 21,
   "metadata": {
    "execution": {
     "iopub.execute_input": "2022-12-07T04:57:47.620191Z",
     "iopub.status.busy": "2022-12-07T04:57:47.619866Z",
     "iopub.status.idle": "2022-12-07T04:57:47.652430Z",
     "shell.execute_reply": "2022-12-07T04:57:47.651513Z",
     "shell.execute_reply.started": "2022-12-07T04:57:47.620164Z"
    }
   },
   "outputs": [
    {
     "data": {
      "text/html": [
       "<div>\n",
       "<style scoped>\n",
       "    .dataframe tbody tr th:only-of-type {\n",
       "        vertical-align: middle;\n",
       "    }\n",
       "\n",
       "    .dataframe tbody tr th {\n",
       "        vertical-align: top;\n",
       "    }\n",
       "\n",
       "    .dataframe thead th {\n",
       "        text-align: right;\n",
       "    }\n",
       "</style>\n",
       "<table border=\"1\" class=\"dataframe\">\n",
       "  <thead>\n",
       "    <tr style=\"text-align: right;\">\n",
       "      <th></th>\n",
       "      <th>count</th>\n",
       "      <th>mean</th>\n",
       "      <th>std</th>\n",
       "      <th>min</th>\n",
       "      <th>25%</th>\n",
       "      <th>50%</th>\n",
       "      <th>75%</th>\n",
       "      <th>max</th>\n",
       "    </tr>\n",
       "  </thead>\n",
       "  <tbody>\n",
       "    <tr>\n",
       "      <th>Unit price</th>\n",
       "      <td>1000.0</td>\n",
       "      <td>55.672130</td>\n",
       "      <td>2.649463e+01</td>\n",
       "      <td>10.080000</td>\n",
       "      <td>32.875000</td>\n",
       "      <td>55.230000</td>\n",
       "      <td>77.935000</td>\n",
       "      <td>99.960000</td>\n",
       "    </tr>\n",
       "    <tr>\n",
       "      <th>Quantity</th>\n",
       "      <td>1000.0</td>\n",
       "      <td>5.510000</td>\n",
       "      <td>2.923431e+00</td>\n",
       "      <td>1.000000</td>\n",
       "      <td>3.000000</td>\n",
       "      <td>5.000000</td>\n",
       "      <td>8.000000</td>\n",
       "      <td>10.000000</td>\n",
       "    </tr>\n",
       "    <tr>\n",
       "      <th>Tax 5%</th>\n",
       "      <td>1000.0</td>\n",
       "      <td>15.379369</td>\n",
       "      <td>1.170883e+01</td>\n",
       "      <td>0.508500</td>\n",
       "      <td>5.924875</td>\n",
       "      <td>12.088000</td>\n",
       "      <td>22.445250</td>\n",
       "      <td>49.650000</td>\n",
       "    </tr>\n",
       "    <tr>\n",
       "      <th>Total</th>\n",
       "      <td>1000.0</td>\n",
       "      <td>322.966749</td>\n",
       "      <td>2.458853e+02</td>\n",
       "      <td>10.678500</td>\n",
       "      <td>124.422375</td>\n",
       "      <td>253.848000</td>\n",
       "      <td>471.350250</td>\n",
       "      <td>1042.650000</td>\n",
       "    </tr>\n",
       "    <tr>\n",
       "      <th>cogs</th>\n",
       "      <td>1000.0</td>\n",
       "      <td>307.587380</td>\n",
       "      <td>2.341765e+02</td>\n",
       "      <td>10.170000</td>\n",
       "      <td>118.497500</td>\n",
       "      <td>241.760000</td>\n",
       "      <td>448.905000</td>\n",
       "      <td>993.000000</td>\n",
       "    </tr>\n",
       "    <tr>\n",
       "      <th>gross margin percentage</th>\n",
       "      <td>1000.0</td>\n",
       "      <td>4.761905</td>\n",
       "      <td>6.131498e-14</td>\n",
       "      <td>4.761905</td>\n",
       "      <td>4.761905</td>\n",
       "      <td>4.761905</td>\n",
       "      <td>4.761905</td>\n",
       "      <td>4.761905</td>\n",
       "    </tr>\n",
       "    <tr>\n",
       "      <th>gross income</th>\n",
       "      <td>1000.0</td>\n",
       "      <td>15.379369</td>\n",
       "      <td>1.170883e+01</td>\n",
       "      <td>0.508500</td>\n",
       "      <td>5.924875</td>\n",
       "      <td>12.088000</td>\n",
       "      <td>22.445250</td>\n",
       "      <td>49.650000</td>\n",
       "    </tr>\n",
       "    <tr>\n",
       "      <th>Rating</th>\n",
       "      <td>1000.0</td>\n",
       "      <td>6.972700</td>\n",
       "      <td>1.718580e+00</td>\n",
       "      <td>4.000000</td>\n",
       "      <td>5.500000</td>\n",
       "      <td>7.000000</td>\n",
       "      <td>8.500000</td>\n",
       "      <td>10.000000</td>\n",
       "    </tr>\n",
       "    <tr>\n",
       "      <th>weekday</th>\n",
       "      <td>1000.0</td>\n",
       "      <td>3.032000</td>\n",
       "      <td>1.973543e+00</td>\n",
       "      <td>0.000000</td>\n",
       "      <td>1.000000</td>\n",
       "      <td>3.000000</td>\n",
       "      <td>5.000000</td>\n",
       "      <td>6.000000</td>\n",
       "    </tr>\n",
       "  </tbody>\n",
       "</table>\n",
       "</div>"
      ],
      "text/plain": [
       "                          count        mean           std        min  \\\n",
       "Unit price               1000.0   55.672130  2.649463e+01  10.080000   \n",
       "Quantity                 1000.0    5.510000  2.923431e+00   1.000000   \n",
       "Tax 5%                   1000.0   15.379369  1.170883e+01   0.508500   \n",
       "Total                    1000.0  322.966749  2.458853e+02  10.678500   \n",
       "cogs                     1000.0  307.587380  2.341765e+02  10.170000   \n",
       "gross margin percentage  1000.0    4.761905  6.131498e-14   4.761905   \n",
       "gross income             1000.0   15.379369  1.170883e+01   0.508500   \n",
       "Rating                   1000.0    6.972700  1.718580e+00   4.000000   \n",
       "weekday                  1000.0    3.032000  1.973543e+00   0.000000   \n",
       "\n",
       "                                25%         50%         75%          max  \n",
       "Unit price                32.875000   55.230000   77.935000    99.960000  \n",
       "Quantity                   3.000000    5.000000    8.000000    10.000000  \n",
       "Tax 5%                     5.924875   12.088000   22.445250    49.650000  \n",
       "Total                    124.422375  253.848000  471.350250  1042.650000  \n",
       "cogs                     118.497500  241.760000  448.905000   993.000000  \n",
       "gross margin percentage    4.761905    4.761905    4.761905     4.761905  \n",
       "gross income               5.924875   12.088000   22.445250    49.650000  \n",
       "Rating                     5.500000    7.000000    8.500000    10.000000  \n",
       "weekday                    1.000000    3.000000    5.000000     6.000000  "
      ]
     },
     "execution_count": 21,
     "metadata": {},
     "output_type": "execute_result"
    }
   ],
   "source": [
    "df.describe().T"
   ]
  },
  {
   "cell_type": "code",
   "execution_count": 22,
   "metadata": {
    "execution": {
     "iopub.execute_input": "2022-12-07T04:57:47.654206Z",
     "iopub.status.busy": "2022-12-07T04:57:47.653568Z",
     "iopub.status.idle": "2022-12-07T04:57:47.659452Z",
     "shell.execute_reply": "2022-12-07T04:57:47.657908Z",
     "shell.execute_reply.started": "2022-12-07T04:57:47.654171Z"
    }
   },
   "outputs": [],
   "source": [
    "#In total we can see that the minimum of total is 10.67 and 75% of total is \n",
    "#471.35 and max is 1042.65 but there is  big differ between 75% and max so\n",
    "#We Have Concluded That Total Columns And Cogs Column May Have \n",
    "#Some Outliers Because They Have Some Huge Gap In Their 75% To Max Percentile'''\n",
    "\n"
   ]
  },
  {
   "cell_type": "markdown",
   "metadata": {},
   "source": [
    "# Step2: Checking the outliers "
   ]
  },
  {
   "cell_type": "code",
   "execution_count": 23,
   "metadata": {
    "execution": {
     "iopub.execute_input": "2022-12-07T04:57:47.661495Z",
     "iopub.status.busy": "2022-12-07T04:57:47.661165Z",
     "iopub.status.idle": "2022-12-07T04:57:47.912841Z",
     "shell.execute_reply": "2022-12-07T04:57:47.911821Z",
     "shell.execute_reply.started": "2022-12-07T04:57:47.661462Z"
    }
   },
   "outputs": [
    {
     "data": {
      "image/png": "[encoded data removed]",
      "text/plain": [
       "<Figure size 640x480 with 3 Axes>"
      ]
     },
     "metadata": {},
     "output_type": "display_data"
    }
   ],
   "source": [
    "col=1\n",
    "for i in df.columns:\n",
    "    if (i==\"Total\") | (i==\"cogs\") | (i==\"gross income\"):\n",
    "        plt.subplot(1,3,col)\n",
    "        sns.boxplot(df[i])\n",
    "        plt.xlabel(i)\n",
    "        col=col+1\n",
    "    \n"
   ]
  },
  {
   "cell_type": "code",
   "execution_count": 24,
   "metadata": {
    "execution": {
     "iopub.execute_input": "2022-12-07T04:57:47.914431Z",
     "iopub.status.busy": "2022-12-07T04:57:47.914147Z",
     "iopub.status.idle": "2022-12-07T04:57:47.938263Z",
     "shell.execute_reply": "2022-12-07T04:57:47.937119Z",
     "shell.execute_reply.started": "2022-12-07T04:57:47.914406Z"
    }
   },
   "outputs": [
    {
     "data": {
      "text/html": [
       "<div>\n",
       "<style scoped>\n",
       "    .dataframe tbody tr th:only-of-type {\n",
       "        vertical-align: middle;\n",
       "    }\n",
       "\n",
       "    .dataframe tbody tr th {\n",
       "        vertical-align: top;\n",
       "    }\n",
       "\n",
       "    .dataframe thead th {\n",
       "        text-align: right;\n",
       "    }\n",
       "</style>\n",
       "<table border=\"1\" class=\"dataframe\">\n",
       "  <thead>\n",
       "    <tr style=\"text-align: right;\">\n",
       "      <th></th>\n",
       "      <th>count</th>\n",
       "      <th>unique</th>\n",
       "      <th>top</th>\n",
       "      <th>freq</th>\n",
       "    </tr>\n",
       "  </thead>\n",
       "  <tbody>\n",
       "    <tr>\n",
       "      <th>Branch</th>\n",
       "      <td>1000</td>\n",
       "      <td>3</td>\n",
       "      <td>A</td>\n",
       "      <td>340</td>\n",
       "    </tr>\n",
       "    <tr>\n",
       "      <th>Customer type</th>\n",
       "      <td>1000</td>\n",
       "      <td>2</td>\n",
       "      <td>Member</td>\n",
       "      <td>501</td>\n",
       "    </tr>\n",
       "    <tr>\n",
       "      <th>Gender</th>\n",
       "      <td>1000</td>\n",
       "      <td>2</td>\n",
       "      <td>Female</td>\n",
       "      <td>501</td>\n",
       "    </tr>\n",
       "    <tr>\n",
       "      <th>Product line</th>\n",
       "      <td>1000</td>\n",
       "      <td>6</td>\n",
       "      <td>Fashion accessories</td>\n",
       "      <td>178</td>\n",
       "    </tr>\n",
       "    <tr>\n",
       "      <th>Payment</th>\n",
       "      <td>1000</td>\n",
       "      <td>3</td>\n",
       "      <td>Ewallet</td>\n",
       "      <td>345</td>\n",
       "    </tr>\n",
       "    <tr>\n",
       "      <th>Days</th>\n",
       "      <td>1000</td>\n",
       "      <td>7</td>\n",
       "      <td>Saturday</td>\n",
       "      <td>164</td>\n",
       "    </tr>\n",
       "    <tr>\n",
       "      <th>Month</th>\n",
       "      <td>1000</td>\n",
       "      <td>3</td>\n",
       "      <td>January</td>\n",
       "      <td>352</td>\n",
       "    </tr>\n",
       "  </tbody>\n",
       "</table>\n",
       "</div>"
      ],
      "text/plain": [
       "              count unique                  top freq\n",
       "Branch         1000      3                    A  340\n",
       "Customer type  1000      2               Member  501\n",
       "Gender         1000      2               Female  501\n",
       "Product line   1000      6  Fashion accessories  178\n",
       "Payment        1000      3              Ewallet  345\n",
       "Days           1000      7             Saturday  164\n",
       "Month          1000      3              January  352"
      ]
     },
     "execution_count": 24,
     "metadata": {},
     "output_type": "execute_result"
    }
   ],
   "source": [
    "# check the descriptive summary of non numeric data\n",
    "df.describe(include=object).T"
   ]
  },
  {
   "cell_type": "markdown",
   "metadata": {},
   "source": [
    "# Step 3: Checking Correlation"
   ]
  },
  {
   "cell_type": "code",
   "execution_count": 25,
   "metadata": {
    "execution": {
     "iopub.execute_input": "2022-12-07T04:57:47.940057Z",
     "iopub.status.busy": "2022-12-07T04:57:47.939726Z",
     "iopub.status.idle": "2022-12-07T04:57:48.422630Z",
     "shell.execute_reply": "2022-12-07T04:57:48.421879Z",
     "shell.execute_reply.started": "2022-12-07T04:57:47.940029Z"
    }
   },
   "outputs": [
    {
     "data": {
      "text/plain": [
       "<AxesSubplot:>"
      ]
     },
     "execution_count": 25,
     "metadata": {},
     "output_type": "execute_result"
    },
    {
     "data": {
      "image/png": "[encoded data removed]",
      "text/plain": [
       "<Figure size 800x800 with 2 Axes>"
      ]
     },
     "metadata": {},
     "output_type": "display_data"
    }
   ],
   "source": [
    "plt.figure(figsize=(8,8))\n",
    "cor_matrix=df.corr(method=\"spearman\")\n",
    "sns.heatmap(cor_matrix,annot=True)"
   ]
  },
  {
   "cell_type": "markdown",
   "metadata": {},
   "source": [
    "# Step 4: Insights\n",
    "# 1. find the total sale and total gross_income of the company"
   ]
  },
  {
   "cell_type": "code",
   "execution_count": 26,
   "metadata": {
    "execution": {
     "iopub.execute_input": "2022-12-07T04:57:48.424561Z",
     "iopub.status.busy": "2022-12-07T04:57:48.423718Z",
     "iopub.status.idle": "2022-12-07T04:57:48.430863Z",
     "shell.execute_reply": "2022-12-07T04:57:48.429665Z",
     "shell.execute_reply.started": "2022-12-07T04:57:48.424531Z"
    }
   },
   "outputs": [
    {
     "name": "stdout",
     "output_type": "stream",
     "text": [
      "Total sale is 322966.749\n",
      "Total gross income is 15379.368999999999\n"
     ]
    }
   ],
   "source": [
    "print(\"Total sale is\", df['Total'].sum())\n",
    "print(\"Total gross income is\", df['gross income'].sum())\n"
   ]
  },
  {
   "cell_type": "markdown",
   "metadata": {},
   "source": [
    "# Insights :\n",
    " 1. The Total sale of the company is 322966.7$\n",
    " \n",
    " 2. the Total gross income of the company is 15379.36899$"
   ]
  },
  {
   "cell_type": "markdown",
   "metadata": {},
   "source": [
    "## Note : As we know that when we analyze the correlation ,so from Correlation we can say that it is strongly corelated so we will keep only total column for my further analysis."
   ]
  },
  {
   "cell_type": "markdown",
   "metadata": {},
   "source": [
    "# 2. find out the total sale  of each branches"
   ]
  },
  {
   "cell_type": "code",
   "execution_count": 27,
   "metadata": {
    "execution": {
     "iopub.execute_input": "2022-12-07T04:57:48.433110Z",
     "iopub.status.busy": "2022-12-07T04:57:48.432302Z",
     "iopub.status.idle": "2022-12-07T04:57:48.458422Z",
     "shell.execute_reply": "2022-12-07T04:57:48.456781Z",
     "shell.execute_reply.started": "2022-12-07T04:57:48.433073Z"
    }
   },
   "outputs": [
    {
     "data": {
      "text/html": [
       "<div>\n",
       "<style scoped>\n",
       "    .dataframe tbody tr th:only-of-type {\n",
       "        vertical-align: middle;\n",
       "    }\n",
       "\n",
       "    .dataframe tbody tr th {\n",
       "        vertical-align: top;\n",
       "    }\n",
       "\n",
       "    .dataframe thead th {\n",
       "        text-align: right;\n",
       "    }\n",
       "</style>\n",
       "<table border=\"1\" class=\"dataframe\">\n",
       "  <thead>\n",
       "    <tr style=\"text-align: right;\">\n",
       "      <th></th>\n",
       "      <th>mean</th>\n",
       "      <th>sum</th>\n",
       "      <th>max</th>\n",
       "      <th>min</th>\n",
       "    </tr>\n",
       "    <tr>\n",
       "      <th>Branch</th>\n",
       "      <th></th>\n",
       "      <th></th>\n",
       "      <th></th>\n",
       "      <th></th>\n",
       "    </tr>\n",
       "  </thead>\n",
       "  <tbody>\n",
       "    <tr>\n",
       "      <th>C</th>\n",
       "      <td>337.099715</td>\n",
       "      <td>110568.7065</td>\n",
       "      <td>1042.65</td>\n",
       "      <td>10.6785</td>\n",
       "    </tr>\n",
       "    <tr>\n",
       "      <th>B</th>\n",
       "      <td>319.872506</td>\n",
       "      <td>106197.6720</td>\n",
       "      <td>1022.49</td>\n",
       "      <td>18.6375</td>\n",
       "    </tr>\n",
       "    <tr>\n",
       "      <th>A</th>\n",
       "      <td>312.354031</td>\n",
       "      <td>106200.3705</td>\n",
       "      <td>1039.29</td>\n",
       "      <td>12.6945</td>\n",
       "    </tr>\n",
       "  </tbody>\n",
       "</table>\n",
       "</div>"
      ],
      "text/plain": [
       "              mean          sum      max      min\n",
       "Branch                                           \n",
       "C       337.099715  110568.7065  1042.65  10.6785\n",
       "B       319.872506  106197.6720  1022.49  18.6375\n",
       "A       312.354031  106200.3705  1039.29  12.6945"
      ]
     },
     "execution_count": 27,
     "metadata": {},
     "output_type": "execute_result"
    }
   ],
   "source": [
    "df.groupby(['Branch'])['Total'].agg(['mean','sum','max','min']).sort_values(by='mean',ascending=False)"
   ]
  },
  {
   "cell_type": "code",
   "execution_count": 28,
   "metadata": {
    "execution": {
     "iopub.execute_input": "2022-12-07T04:57:48.460462Z",
     "iopub.status.busy": "2022-12-07T04:57:48.460099Z",
     "iopub.status.idle": "2022-12-07T04:57:48.471498Z",
     "shell.execute_reply": "2022-12-07T04:57:48.470524Z",
     "shell.execute_reply.started": "2022-12-07T04:57:48.460428Z"
    }
   },
   "outputs": [],
   "source": [
    "# Since the highest sale was recorded at C branch so further analysis we considering the branch C."
   ]
  },
  {
   "cell_type": "markdown",
   "metadata": {},
   "source": [
    "# At which date and month the highest sale was recorded at C branch?"
   ]
  },
  {
   "cell_type": "code",
   "execution_count": 29,
   "metadata": {
    "execution": {
     "iopub.execute_input": "2022-12-07T04:57:48.474761Z",
     "iopub.status.busy": "2022-12-07T04:57:48.472715Z",
     "iopub.status.idle": "2022-12-07T04:57:48.490094Z",
     "shell.execute_reply": "2022-12-07T04:57:48.488982Z",
     "shell.execute_reply.started": "2022-12-07T04:57:48.474705Z"
    }
   },
   "outputs": [
    {
     "data": {
      "text/html": [
       "<div>\n",
       "<style scoped>\n",
       "    .dataframe tbody tr th:only-of-type {\n",
       "        vertical-align: middle;\n",
       "    }\n",
       "\n",
       "    .dataframe tbody tr th {\n",
       "        vertical-align: top;\n",
       "    }\n",
       "\n",
       "    .dataframe thead th {\n",
       "        text-align: right;\n",
       "    }\n",
       "</style>\n",
       "<table border=\"1\" class=\"dataframe\">\n",
       "  <thead>\n",
       "    <tr style=\"text-align: right;\">\n",
       "      <th></th>\n",
       "      <th>Month</th>\n",
       "      <th>Date</th>\n",
       "    </tr>\n",
       "  </thead>\n",
       "  <tbody>\n",
       "    <tr>\n",
       "      <th>350</th>\n",
       "      <td>February</td>\n",
       "      <td>2019-02-15</td>\n",
       "    </tr>\n",
       "  </tbody>\n",
       "</table>\n",
       "</div>"
      ],
      "text/plain": [
       "        Month       Date\n",
       "350  February 2019-02-15"
      ]
     },
     "execution_count": 29,
     "metadata": {},
     "output_type": "execute_result"
    }
   ],
   "source": [
    "df[(df['Total']==df['Total'].max()) & (df['Branch']=='C')][['Month','Date']]"
   ]
  },
  {
   "cell_type": "code",
   "execution_count": 30,
   "metadata": {
    "execution": {
     "iopub.execute_input": "2022-12-07T04:57:48.492610Z",
     "iopub.status.busy": "2022-12-07T04:57:48.491906Z",
     "iopub.status.idle": "2022-12-07T04:57:48.506388Z",
     "shell.execute_reply": "2022-12-07T04:57:48.505443Z",
     "shell.execute_reply.started": "2022-12-07T04:57:48.492566Z"
    }
   },
   "outputs": [
    {
     "data": {
      "text/plain": [
       "350   2019-02-15\n",
       "Name: Date, dtype: datetime64[ns]"
      ]
     },
     "execution_count": 30,
     "metadata": {},
     "output_type": "execute_result"
    }
   ],
   "source": [
    "df_c=df[df['Branch']=='C']\n",
    "df_c[df_c['Total']==df_c['Total'].max()]['Date']"
   ]
  },
  {
   "cell_type": "markdown",
   "metadata": {},
   "source": [
    "# What was the category of customers and its corresponding product category "
   ]
  },
  {
   "cell_type": "code",
   "execution_count": 31,
   "metadata": {
    "execution": {
     "iopub.execute_input": "2022-12-07T04:57:48.507952Z",
     "iopub.status.busy": "2022-12-07T04:57:48.507589Z",
     "iopub.status.idle": "2022-12-07T04:57:48.527430Z",
     "shell.execute_reply": "2022-12-07T04:57:48.526065Z",
     "shell.execute_reply.started": "2022-12-07T04:57:48.507904Z"
    }
   },
   "outputs": [
    {
     "data": {
      "text/html": [
       "<div>\n",
       "<style scoped>\n",
       "    .dataframe tbody tr th:only-of-type {\n",
       "        vertical-align: middle;\n",
       "    }\n",
       "\n",
       "    .dataframe tbody tr th {\n",
       "        vertical-align: top;\n",
       "    }\n",
       "\n",
       "    .dataframe thead th {\n",
       "        text-align: right;\n",
       "    }\n",
       "</style>\n",
       "<table border=\"1\" class=\"dataframe\">\n",
       "  <thead>\n",
       "    <tr style=\"text-align: right;\">\n",
       "      <th></th>\n",
       "      <th>Branch</th>\n",
       "      <th>Date</th>\n",
       "      <th>Customer type</th>\n",
       "      <th>Product line</th>\n",
       "    </tr>\n",
       "  </thead>\n",
       "  <tbody>\n",
       "    <tr>\n",
       "      <th>350</th>\n",
       "      <td>C</td>\n",
       "      <td>2019-02-15</td>\n",
       "      <td>Member</td>\n",
       "      <td>Fashion accessories</td>\n",
       "    </tr>\n",
       "  </tbody>\n",
       "</table>\n",
       "</div>"
      ],
      "text/plain": [
       "    Branch       Date Customer type         Product line\n",
       "350      C 2019-02-15        Member  Fashion accessories"
      ]
     },
     "execution_count": 31,
     "metadata": {},
     "output_type": "execute_result"
    }
   ],
   "source": [
    "df_c[df_c['Total']==df_c['Total'].max()][['Branch','Date','Customer type','Product line']]"
   ]
  },
  {
   "cell_type": "markdown",
   "metadata": {},
   "source": [
    "# At which date and month the lowest sale was recorded at C branch?"
   ]
  },
  {
   "cell_type": "code",
   "execution_count": 32,
   "metadata": {
    "execution": {
     "iopub.execute_input": "2022-12-07T04:57:48.528855Z",
     "iopub.status.busy": "2022-12-07T04:57:48.528590Z",
     "iopub.status.idle": "2022-12-07T04:57:48.539591Z",
     "shell.execute_reply": "2022-12-07T04:57:48.538502Z",
     "shell.execute_reply.started": "2022-12-07T04:57:48.528831Z"
    }
   },
   "outputs": [
    {
     "data": {
      "text/plain": [
       "822   2019-02-07\n",
       "Name: Date, dtype: datetime64[ns]"
      ]
     },
     "execution_count": 32,
     "metadata": {},
     "output_type": "execute_result"
    }
   ],
   "source": [
    "df_c=df[df['Branch']=='C']\n",
    "df_c[df_c['Total']==df_c['Total'].min()]['Date']"
   ]
  },
  {
   "cell_type": "markdown",
   "metadata": {},
   "source": [
    " # What was the category of customers and its corresponding product category "
   ]
  },
  {
   "cell_type": "code",
   "execution_count": 33,
   "metadata": {
    "execution": {
     "iopub.execute_input": "2022-12-07T04:57:48.541511Z",
     "iopub.status.busy": "2022-12-07T04:57:48.541163Z",
     "iopub.status.idle": "2022-12-07T04:57:48.555812Z",
     "shell.execute_reply": "2022-12-07T04:57:48.554375Z",
     "shell.execute_reply.started": "2022-12-07T04:57:48.541477Z"
    }
   },
   "outputs": [
    {
     "data": {
      "text/html": [
       "<div>\n",
       "<style scoped>\n",
       "    .dataframe tbody tr th:only-of-type {\n",
       "        vertical-align: middle;\n",
       "    }\n",
       "\n",
       "    .dataframe tbody tr th {\n",
       "        vertical-align: top;\n",
       "    }\n",
       "\n",
       "    .dataframe thead th {\n",
       "        text-align: right;\n",
       "    }\n",
       "</style>\n",
       "<table border=\"1\" class=\"dataframe\">\n",
       "  <thead>\n",
       "    <tr style=\"text-align: right;\">\n",
       "      <th></th>\n",
       "      <th>Branch</th>\n",
       "      <th>Date</th>\n",
       "      <th>Customer type</th>\n",
       "      <th>Product line</th>\n",
       "    </tr>\n",
       "  </thead>\n",
       "  <tbody>\n",
       "    <tr>\n",
       "      <th>822</th>\n",
       "      <td>C</td>\n",
       "      <td>2019-02-07</td>\n",
       "      <td>Member</td>\n",
       "      <td>Sports and travel</td>\n",
       "    </tr>\n",
       "  </tbody>\n",
       "</table>\n",
       "</div>"
      ],
      "text/plain": [
       "    Branch       Date Customer type       Product line\n",
       "822      C 2019-02-07        Member  Sports and travel"
      ]
     },
     "execution_count": 33,
     "metadata": {},
     "output_type": "execute_result"
    }
   ],
   "source": [
    "df_c[df_c['Total']==df_c['Total'].min()][['Branch','Date','Customer type','Product line']]"
   ]
  },
  {
   "cell_type": "code",
   "execution_count": 34,
   "metadata": {
    "execution": {
     "iopub.execute_input": "2022-12-07T04:57:48.557406Z",
     "iopub.status.busy": "2022-12-07T04:57:48.557104Z",
     "iopub.status.idle": "2022-12-07T04:57:48.564637Z",
     "shell.execute_reply": "2022-12-07T04:57:48.563875Z",
     "shell.execute_reply.started": "2022-12-07T04:57:48.557380Z"
    }
   },
   "outputs": [],
   "source": [
    "## 1,find out the hot sellig month\n",
    "##2. find out the hot selling month corresponding to each branch\n",
    "# 3. find the total weekdays sale and weekend sale \n",
    "# 4.find the weekdays sale and weekend sale o aall branches\n",
    "#5.find hot selling day od each branch."
   ]
  },
  {
   "cell_type": "code",
   "execution_count": 35,
   "metadata": {
    "execution": {
     "iopub.execute_input": "2022-12-07T05:09:24.016390Z",
     "iopub.status.busy": "2022-12-07T05:09:24.015999Z",
     "iopub.status.idle": "2022-12-07T05:09:24.031602Z",
     "shell.execute_reply": "2022-12-07T05:09:24.030493Z",
     "shell.execute_reply.started": "2022-12-07T05:09:24.016357Z"
    }
   },
   "outputs": [
    {
     "data": {
      "text/html": [
       "<div>\n",
       "<style scoped>\n",
       "    .dataframe tbody tr th:only-of-type {\n",
       "        vertical-align: middle;\n",
       "    }\n",
       "\n",
       "    .dataframe tbody tr th {\n",
       "        vertical-align: top;\n",
       "    }\n",
       "\n",
       "    .dataframe thead th {\n",
       "        text-align: right;\n",
       "    }\n",
       "</style>\n",
       "<table border=\"1\" class=\"dataframe\">\n",
       "  <thead>\n",
       "    <tr style=\"text-align: right;\">\n",
       "      <th></th>\n",
       "      <th>max</th>\n",
       "      <th>min</th>\n",
       "      <th>sum</th>\n",
       "      <th>mean</th>\n",
       "    </tr>\n",
       "    <tr>\n",
       "      <th>Month</th>\n",
       "      <th></th>\n",
       "      <th></th>\n",
       "      <th></th>\n",
       "      <th></th>\n",
       "    </tr>\n",
       "  </thead>\n",
       "  <tbody>\n",
       "    <tr>\n",
       "      <th>February</th>\n",
       "      <td>1042.65</td>\n",
       "      <td>10.6785</td>\n",
       "      <td>97219.374</td>\n",
       "      <td>320.856020</td>\n",
       "    </tr>\n",
       "    <tr>\n",
       "      <th>January</th>\n",
       "      <td>1034.46</td>\n",
       "      <td>12.6945</td>\n",
       "      <td>116291.868</td>\n",
       "      <td>330.374625</td>\n",
       "    </tr>\n",
       "    <tr>\n",
       "      <th>March</th>\n",
       "      <td>1022.49</td>\n",
       "      <td>16.2750</td>\n",
       "      <td>109455.507</td>\n",
       "      <td>317.262339</td>\n",
       "    </tr>\n",
       "  </tbody>\n",
       "</table>\n",
       "</div>"
      ],
      "text/plain": [
       "              max      min         sum        mean\n",
       "Month                                             \n",
       "February  1042.65  10.6785   97219.374  320.856020\n",
       "January   1034.46  12.6945  116291.868  330.374625\n",
       "March     1022.49  16.2750  109455.507  317.262339"
      ]
     },
     "execution_count": 35,
     "metadata": {},
     "output_type": "execute_result"
    }
   ],
   "source": [
    "## 1,find out the hot sellig month\n",
    "df.groupby(['Month'])['Total'].agg(['max','min','sum','mean'])"
   ]
  },
  {
   "cell_type": "code",
   "execution_count": 36,
   "metadata": {
    "execution": {
     "iopub.execute_input": "2022-12-07T05:10:58.853104Z",
     "iopub.status.busy": "2022-12-07T05:10:58.852728Z",
     "iopub.status.idle": "2022-12-07T05:10:58.861517Z",
     "shell.execute_reply": "2022-12-07T05:10:58.860431Z",
     "shell.execute_reply.started": "2022-12-07T05:10:58.853077Z"
    }
   },
   "outputs": [
    {
     "data": {
      "text/plain": [
       "Month\n",
       "February     97219.374\n",
       "January     116291.868\n",
       "March       109455.507\n",
       "Name: Total, dtype: float64"
      ]
     },
     "execution_count": 36,
     "metadata": {},
     "output_type": "execute_result"
    }
   ],
   "source": [
    "## 1,find out the hot sellig month\n",
    "df.groupby(['Month'])['Total'].sum()\n",
    "# january was the hot selling month of teh supermarket sales."
   ]
  },
  {
   "cell_type": "code",
   "execution_count": null,
   "metadata": {},
   "outputs": [],
   "source": []
  },
  {
   "cell_type": "code",
   "execution_count": 37,
   "metadata": {
    "execution": {
     "iopub.execute_input": "2022-12-07T05:15:07.548220Z",
     "iopub.status.busy": "2022-12-07T05:15:07.547081Z",
     "iopub.status.idle": "2022-12-07T05:15:07.559668Z",
     "shell.execute_reply": "2022-12-07T05:15:07.558223Z",
     "shell.execute_reply.started": "2022-12-07T05:15:07.548170Z"
    }
   },
   "outputs": [
    {
     "data": {
      "text/plain": [
       "Branch  Month   \n",
       "A       February    29860.1205\n",
       "        January     38681.1285\n",
       "        March       37659.1215\n",
       "B       February    34424.2710\n",
       "        January     37176.0585\n",
       "        March       34597.3425\n",
       "C       February    32934.9825\n",
       "        January     40434.6810\n",
       "        March       37199.0430\n",
       "Name: Total, dtype: float64"
      ]
     },
     "execution_count": 37,
     "metadata": {},
     "output_type": "execute_result"
    }
   ],
   "source": [
    "##2. find out the hot selling month corresponding to each branch\n",
    "df.groupby(['Branch','Month'])['Total'].sum()"
   ]
  },
  {
   "cell_type": "code",
   "execution_count": 38,
   "metadata": {
    "execution": {
     "iopub.execute_input": "2022-12-07T05:16:43.307354Z",
     "iopub.status.busy": "2022-12-07T05:16:43.306946Z",
     "iopub.status.idle": "2022-12-07T05:16:43.735434Z",
     "shell.execute_reply": "2022-12-07T05:16:43.734031Z",
     "shell.execute_reply.started": "2022-12-07T05:16:43.307321Z"
    }
   },
   "outputs": [
    {
     "data": {
      "text/plain": [
       "<AxesSubplot:xlabel='Branch', ylabel='Total'>"
      ]
     },
     "execution_count": 38,
     "metadata": {},
     "output_type": "execute_result"
    },
    {
     "data": {
      "image/png": "[encoded data removed]",
      "text/plain": [
       "<Figure size 640x480 with 1 Axes>"
      ]
     },
     "metadata": {},
     "output_type": "display_data"
    }
   ],
   "source": [
    "sns.barplot(x='Branch',y='Total',data=df,hue='Month',estimator=sum)"
   ]
  },
  {
   "cell_type": "code",
   "execution_count": 39,
   "metadata": {
    "execution": {
     "iopub.execute_input": "2022-12-07T05:02:08.687759Z",
     "iopub.status.busy": "2022-12-07T05:02:08.687412Z",
     "iopub.status.idle": "2022-12-07T05:02:08.693971Z",
     "shell.execute_reply": "2022-12-07T05:02:08.693267Z",
     "shell.execute_reply.started": "2022-12-07T05:02:08.687732Z"
    }
   },
   "outputs": [
    {
     "data": {
      "text/plain": [
       "array([5, 4, 6, 0, 3, 2, 1], dtype=int64)"
      ]
     },
     "execution_count": 39,
     "metadata": {},
     "output_type": "execute_result"
    }
   ],
   "source": [
    " #find the total weekdays sale and weekend sale \n",
    "df['weekday'].unique()"
   ]
  },
  {
   "cell_type": "code",
   "execution_count": 40,
   "metadata": {
    "execution": {
     "iopub.execute_input": "2022-12-07T05:19:55.731389Z",
     "iopub.status.busy": "2022-12-07T05:19:55.731026Z",
     "iopub.status.idle": "2022-12-07T05:19:55.740035Z",
     "shell.execute_reply": "2022-12-07T05:19:55.738757Z",
     "shell.execute_reply.started": "2022-12-07T05:19:55.731361Z"
    }
   },
   "outputs": [
    {
     "name": "stdout",
     "output_type": "stream",
     "text": [
      "weekdays sale 222388.04700000002\n",
      "weekend sale 100578.702\n"
     ]
    }
   ],
   "source": [
    "week_df=df[df['weekday']<5]\n",
    "weekend_df=df[df['weekday']>=5]\n",
    "print(\"weekdays sale\", week_df['Total'].sum())\n",
    "print(\"weekend sale\", weekend_df['Total'].sum())"
   ]
  },
  {
   "cell_type": "code",
   "execution_count": 41,
   "metadata": {},
   "outputs": [],
   "source": [
    "l1=[week_df['Total'].sum(),weekend_df['Total'].sum()]\n",
    "l2=['weekday','weekend']"
   ]
  },
  {
   "cell_type": "code",
   "execution_count": 42,
   "metadata": {
    "execution": {
     "iopub.execute_input": "2022-12-07T05:24:36.779542Z",
     "iopub.status.busy": "2022-12-07T05:24:36.779185Z",
     "iopub.status.idle": "2022-12-07T05:24:36.787911Z",
     "shell.execute_reply": "2022-12-07T05:24:36.786873Z",
     "shell.execute_reply.started": "2022-12-07T05:24:36.779512Z"
    }
   },
   "outputs": [
    {
     "name": "stdout",
     "output_type": "stream",
     "text": [
      "weekday Branch\n",
      "A    72428.139\n",
      "B    74497.920\n",
      "C    75461.988\n",
      "Name: Total, dtype: float64\n",
      "weekend Branch\n",
      "A    33772.2315\n",
      "B    31699.7520\n",
      "C    35106.7185\n",
      "Name: Total, dtype: float64\n"
     ]
    }
   ],
   "source": [
    "# 4.find the weekdays sale and weekend sale o aall branches\n",
    "print(\"weekday\",week_df.groupby(['Branch'])['Total'].sum())\n",
    "print(\"weekend\",weekend_df.groupby(['Branch'])['Total'].sum())"
   ]
  },
  {
   "cell_type": "code",
   "execution_count": 43,
   "metadata": {
    "execution": {
     "iopub.execute_input": "2022-12-07T05:29:40.502150Z",
     "iopub.status.busy": "2022-12-07T05:29:40.501784Z",
     "iopub.status.idle": "2022-12-07T05:29:40.506195Z",
     "shell.execute_reply": "2022-12-07T05:29:40.505342Z",
     "shell.execute_reply.started": "2022-12-07T05:29:40.502123Z"
    }
   },
   "outputs": [],
   "source": [
    "# Insight: weekday sale is highest as compared to weekend sale\n"
   ]
  },
  {
   "cell_type": "code",
   "execution_count": 44,
   "metadata": {
    "execution": {
     "iopub.execute_input": "2022-12-07T05:34:19.543646Z",
     "iopub.status.busy": "2022-12-07T05:34:19.543288Z",
     "iopub.status.idle": "2022-12-07T05:34:19.668560Z",
     "shell.execute_reply": "2022-12-07T05:34:19.667844Z",
     "shell.execute_reply.started": "2022-12-07T05:34:19.543616Z"
    }
   },
   "outputs": [
    {
     "data": {
      "text/plain": [
       "<BarContainer object of 3 artists>"
      ]
     },
     "execution_count": 44,
     "metadata": {},
     "output_type": "execute_result"
    },
    {
     "data": {
      "image/png": "[encoded data removed]",
      "text/plain": [
       "<Figure size 640x480 with 1 Axes>"
      ]
     },
     "metadata": {},
     "output_type": "display_data"
    }
   ],
   "source": [
    "plt.bar(week_df.groupby(['Branch'])['Total'].sum().index, week_df.groupby(['Branch'])['Total'].sum().values)"
   ]
  },
  {
   "cell_type": "code",
   "execution_count": 45,
   "metadata": {
    "execution": {
     "iopub.execute_input": "2022-12-07T05:37:09.033970Z",
     "iopub.status.busy": "2022-12-07T05:37:09.033578Z",
     "iopub.status.idle": "2022-12-07T05:37:09.247825Z",
     "shell.execute_reply": "2022-12-07T05:37:09.246716Z",
     "shell.execute_reply.started": "2022-12-07T05:37:09.033937Z"
    }
   },
   "outputs": [
    {
     "data": {
      "text/plain": [
       "<BarContainer object of 3 artists>"
      ]
     },
     "execution_count": 45,
     "metadata": {},
     "output_type": "execute_result"
    },
    {
     "data": {
      "image/png": "[encoded data removed]",
      "text/plain": [
       "<Figure size 800x500 with 2 Axes>"
      ]
     },
     "metadata": {},
     "output_type": "display_data"
    }
   ],
   "source": [
    "plt.figure(figsize=(8,5))\n",
    "plt.subplot(1,2,1)\n",
    "plt.bar(week_df.groupby(['Branch'])['Total'].sum().index, week_df.groupby(['Branch'])['Total'].sum().values)\n",
    "plt.subplot(1,2,2)\n",
    "plt.bar(weekend_df.groupby(['Branch'])['Total'].sum().index, weekend_df.groupby(['Branch'])['Total'].sum().values)\n",
    "\n",
    "\n"
   ]
  },
  {
   "cell_type": "code",
   "execution_count": 46,
   "metadata": {
    "execution": {
     "iopub.execute_input": "2022-12-07T05:43:05.332248Z",
     "iopub.status.busy": "2022-12-07T05:43:05.331089Z",
     "iopub.status.idle": "2022-12-07T05:43:05.344903Z",
     "shell.execute_reply": "2022-12-07T05:43:05.343904Z",
     "shell.execute_reply.started": "2022-12-07T05:43:05.332200Z"
    }
   },
   "outputs": [
    {
     "name": "stdout",
     "output_type": "stream",
     "text": [
      "Sale on weekday Month\n",
      "February    20417.2395\n",
      "January     25736.4870\n",
      "March       26274.4125\n",
      "Name: Total, dtype: float64\n",
      "Sale on weekend Month\n",
      "February     9442.8810\n",
      "January     12944.6415\n",
      "March       11384.7090\n",
      "Name: Total, dtype: float64\n"
     ]
    }
   ],
   "source": [
    "a=df[(df['Branch']=='A')]\n",
    "week_a=a[a['weekday']<5]\n",
    "weekend_a=a[a[\"weekday\"]>=5]\n",
    "print('Sale on weekday',week_a.groupby(['Month'])['Total'].sum())\n",
    "print('Sale on weekend',weekend_a.groupby(['Month'])['Total'].sum())\n"
   ]
  },
  {
   "cell_type": "code",
   "execution_count": 47,
   "metadata": {
    "execution": {
     "iopub.execute_input": "2022-12-07T05:43:18.812420Z",
     "iopub.status.busy": "2022-12-07T05:43:18.812042Z",
     "iopub.status.idle": "2022-12-07T05:43:18.820931Z",
     "shell.execute_reply": "2022-12-07T05:43:18.818982Z",
     "shell.execute_reply.started": "2022-12-07T05:43:18.812387Z"
    }
   },
   "outputs": [
    {
     "name": "stdout",
     "output_type": "stream",
     "text": [
      "Sale on weekday Month\n",
      "February    25964.4525\n",
      "January     27634.8870\n",
      "March       20898.5805\n",
      "Name: Total, dtype: float64\n",
      "Sale on weekend Month\n",
      "February     8459.8185\n",
      "January      9541.1715\n",
      "March       13698.7620\n",
      "Name: Total, dtype: float64\n"
     ]
    }
   ],
   "source": [
    "a=df[(df['Branch']=='B')]\n",
    "week_a=a[a['weekday']<5]\n",
    "weekend_a=a[a[\"weekday\"]>=5]\n",
    "print('Sale on weekday',week_a.groupby(['Month'])['Total'].sum())\n",
    "print('Sale on weekend',weekend_a.groupby(['Month'])['Total'].sum())\n",
    "\n"
   ]
  },
  {
   "cell_type": "code",
   "execution_count": 48,
   "metadata": {
    "execution": {
     "iopub.execute_input": "2022-12-07T05:44:50.966598Z",
     "iopub.status.busy": "2022-12-07T05:44:50.966229Z",
     "iopub.status.idle": "2022-12-07T05:44:50.974062Z",
     "shell.execute_reply": "2022-12-07T05:44:50.972797Z",
     "shell.execute_reply.started": "2022-12-07T05:44:50.966567Z"
    }
   },
   "outputs": [
    {
     "name": "stdout",
     "output_type": "stream",
     "text": [
      "Sale on weekday Month\n",
      "February    21950.502\n",
      "January     30470.055\n",
      "March       23041.431\n",
      "Name: Total, dtype: float64\n",
      "Sale on weekend Month\n",
      "February    10984.4805\n",
      "January      9964.6260\n",
      "March       14157.6120\n",
      "Name: Total, dtype: float64\n"
     ]
    }
   ],
   "source": [
    "c=df[(df['Branch']=='C')]\n",
    "week_c=c[c['weekday']<5]\n",
    "weekend_c=c[c[\"weekday\"]>=5]\n",
    "print('Sale on weekday',week_c.groupby(['Month'])['Total'].sum())\n",
    "print('Sale on weekend',weekend_c.groupby(['Month'])['Total'].sum())\n",
    "\n"
   ]
  },
  {
   "cell_type": "code",
   "execution_count": 49,
   "metadata": {
    "execution": {
     "iopub.execute_input": "2022-12-07T05:45:40.338414Z",
     "iopub.status.busy": "2022-12-07T05:45:40.338046Z",
     "iopub.status.idle": "2022-12-07T05:45:40.353455Z",
     "shell.execute_reply": "2022-12-07T05:45:40.351840Z",
     "shell.execute_reply.started": "2022-12-07T05:45:40.338385Z"
    }
   },
   "outputs": [
    {
     "data": {
      "text/html": [
       "<div>\n",
       "<style scoped>\n",
       "    .dataframe tbody tr th:only-of-type {\n",
       "        vertical-align: middle;\n",
       "    }\n",
       "\n",
       "    .dataframe tbody tr th {\n",
       "        vertical-align: top;\n",
       "    }\n",
       "\n",
       "    .dataframe thead th {\n",
       "        text-align: right;\n",
       "    }\n",
       "</style>\n",
       "<table border=\"1\" class=\"dataframe\">\n",
       "  <thead>\n",
       "    <tr style=\"text-align: right;\">\n",
       "      <th></th>\n",
       "      <th>Days</th>\n",
       "      <th>sum</th>\n",
       "    </tr>\n",
       "  </thead>\n",
       "  <tbody>\n",
       "    <tr>\n",
       "      <th>2</th>\n",
       "      <td>Saturday</td>\n",
       "      <td>56120.8095</td>\n",
       "    </tr>\n",
       "    <tr>\n",
       "      <th>5</th>\n",
       "      <td>Tuesday</td>\n",
       "      <td>51482.2455</td>\n",
       "    </tr>\n",
       "    <tr>\n",
       "      <th>4</th>\n",
       "      <td>Thursday</td>\n",
       "      <td>45349.2480</td>\n",
       "    </tr>\n",
       "    <tr>\n",
       "      <th>3</th>\n",
       "      <td>Sunday</td>\n",
       "      <td>44457.8925</td>\n",
       "    </tr>\n",
       "    <tr>\n",
       "      <th>0</th>\n",
       "      <td>Friday</td>\n",
       "      <td>43926.3405</td>\n",
       "    </tr>\n",
       "    <tr>\n",
       "      <th>6</th>\n",
       "      <td>Wednesday</td>\n",
       "      <td>43731.1350</td>\n",
       "    </tr>\n",
       "    <tr>\n",
       "      <th>1</th>\n",
       "      <td>Monday</td>\n",
       "      <td>37899.0780</td>\n",
       "    </tr>\n",
       "  </tbody>\n",
       "</table>\n",
       "</div>"
      ],
      "text/plain": [
       "        Days         sum\n",
       "2   Saturday  56120.8095\n",
       "5    Tuesday  51482.2455\n",
       "4   Thursday  45349.2480\n",
       "3     Sunday  44457.8925\n",
       "0     Friday  43926.3405\n",
       "6  Wednesday  43731.1350\n",
       "1     Monday  37899.0780"
      ]
     },
     "execution_count": 49,
     "metadata": {},
     "output_type": "execute_result"
    }
   ],
   "source": [
    "days=df.groupby(['Days'])['Total'].agg([sum]).reset_index().sort_values(by=\"sum\",ascending=False)\n",
    "days\n"
   ]
  },
  {
   "cell_type": "code",
   "execution_count": 50,
   "metadata": {
    "execution": {
     "iopub.execute_input": "2022-12-07T05:46:01.054162Z",
     "iopub.status.busy": "2022-12-07T05:46:01.053770Z",
     "iopub.status.idle": "2022-12-07T05:46:01.391555Z",
     "shell.execute_reply": "2022-12-07T05:46:01.390631Z",
     "shell.execute_reply.started": "2022-12-07T05:46:01.054130Z"
    }
   },
   "outputs": [
    {
     "data": {
      "image/png": "[encoded data removed]",
      "text/plain": [
       "<Figure size 640x480 with 1 Axes>"
      ]
     },
     "metadata": {},
     "output_type": "display_data"
    }
   ],
   "source": [
    "sns.barplot(x='Days',y=\"Total\",data=df,estimator=sum)  #sns.barplot(x='Days',y='sum',data=days)\n",
    "plt.xticks(rotation=45);\n",
    "\n",
    "\n"
   ]
  },
  {
   "cell_type": "code",
   "execution_count": 51,
   "metadata": {
    "execution": {
     "iopub.execute_input": "2022-12-07T05:46:28.814688Z",
     "iopub.status.busy": "2022-12-07T05:46:28.814302Z",
     "iopub.status.idle": "2022-12-07T05:46:28.833693Z",
     "shell.execute_reply": "2022-12-07T05:46:28.832980Z",
     "shell.execute_reply.started": "2022-12-07T05:46:28.814653Z"
    }
   },
   "outputs": [
    {
     "data": {
      "text/html": [
       "<div>\n",
       "<style scoped>\n",
       "    .dataframe tbody tr th:only-of-type {\n",
       "        vertical-align: middle;\n",
       "    }\n",
       "\n",
       "    .dataframe tbody tr th {\n",
       "        vertical-align: top;\n",
       "    }\n",
       "\n",
       "    .dataframe thead th {\n",
       "        text-align: right;\n",
       "    }\n",
       "</style>\n",
       "<table border=\"1\" class=\"dataframe\">\n",
       "  <thead>\n",
       "    <tr style=\"text-align: right;\">\n",
       "      <th></th>\n",
       "      <th></th>\n",
       "      <th>max</th>\n",
       "      <th>sum</th>\n",
       "      <th>min</th>\n",
       "      <th>mean</th>\n",
       "    </tr>\n",
       "    <tr>\n",
       "      <th>Branch</th>\n",
       "      <th>Days</th>\n",
       "      <th></th>\n",
       "      <th></th>\n",
       "      <th></th>\n",
       "      <th></th>\n",
       "    </tr>\n",
       "  </thead>\n",
       "  <tbody>\n",
       "    <tr>\n",
       "      <th rowspan=\"2\" valign=\"top\">C</th>\n",
       "      <th>Friday</th>\n",
       "      <td>1042.6500</td>\n",
       "      <td>14964.7155</td>\n",
       "      <td>16.2015</td>\n",
       "      <td>393.808303</td>\n",
       "    </tr>\n",
       "    <tr>\n",
       "      <th>Sunday</th>\n",
       "      <td>939.5400</td>\n",
       "      <td>17035.7460</td>\n",
       "      <td>23.7510</td>\n",
       "      <td>370.342304</td>\n",
       "    </tr>\n",
       "    <tr>\n",
       "      <th rowspan=\"2\" valign=\"top\">B</th>\n",
       "      <th>Thursday</th>\n",
       "      <td>867.0900</td>\n",
       "      <td>15778.6230</td>\n",
       "      <td>33.9360</td>\n",
       "      <td>358.605068</td>\n",
       "    </tr>\n",
       "    <tr>\n",
       "      <th>Tuesday</th>\n",
       "      <td>1022.3850</td>\n",
       "      <td>18859.2390</td>\n",
       "      <td>33.3585</td>\n",
       "      <td>355.834698</td>\n",
       "    </tr>\n",
       "    <tr>\n",
       "      <th>C</th>\n",
       "      <th>Wednesday</th>\n",
       "      <td>1034.4600</td>\n",
       "      <td>17755.8150</td>\n",
       "      <td>23.4990</td>\n",
       "      <td>355.116300</td>\n",
       "    </tr>\n",
       "    <tr>\n",
       "      <th>B</th>\n",
       "      <th>Saturday</th>\n",
       "      <td>1022.4900</td>\n",
       "      <td>21284.4240</td>\n",
       "      <td>28.4235</td>\n",
       "      <td>354.740400</td>\n",
       "    </tr>\n",
       "    <tr>\n",
       "      <th rowspan=\"2\" valign=\"top\">A</th>\n",
       "      <th>Saturday</th>\n",
       "      <td>931.0350</td>\n",
       "      <td>16765.4130</td>\n",
       "      <td>12.6945</td>\n",
       "      <td>335.308260</td>\n",
       "    </tr>\n",
       "    <tr>\n",
       "      <th>Thursday</th>\n",
       "      <td>921.1860</td>\n",
       "      <td>15422.2740</td>\n",
       "      <td>30.4080</td>\n",
       "      <td>335.266826</td>\n",
       "    </tr>\n",
       "    <tr>\n",
       "      <th rowspan=\"2\" valign=\"top\">C</th>\n",
       "      <th>Saturday</th>\n",
       "      <td>1023.7500</td>\n",
       "      <td>18070.9725</td>\n",
       "      <td>17.0940</td>\n",
       "      <td>334.647639</td>\n",
       "    </tr>\n",
       "    <tr>\n",
       "      <th>Tuesday</th>\n",
       "      <td>937.8180</td>\n",
       "      <td>17667.7935</td>\n",
       "      <td>13.4190</td>\n",
       "      <td>327.181361</td>\n",
       "    </tr>\n",
       "    <tr>\n",
       "      <th>A</th>\n",
       "      <th>Sunday</th>\n",
       "      <td>926.9505</td>\n",
       "      <td>17006.8185</td>\n",
       "      <td>16.1070</td>\n",
       "      <td>327.054202</td>\n",
       "    </tr>\n",
       "    <tr>\n",
       "      <th>B</th>\n",
       "      <th>Monday</th>\n",
       "      <td>832.9440</td>\n",
       "      <td>12734.7045</td>\n",
       "      <td>18.6375</td>\n",
       "      <td>326.530885</td>\n",
       "    </tr>\n",
       "    <tr>\n",
       "      <th>A</th>\n",
       "      <th>Wednesday</th>\n",
       "      <td>887.9220</td>\n",
       "      <td>13267.7265</td>\n",
       "      <td>32.1405</td>\n",
       "      <td>308.551779</td>\n",
       "    </tr>\n",
       "    <tr>\n",
       "      <th>B</th>\n",
       "      <th>Sunday</th>\n",
       "      <td>793.7160</td>\n",
       "      <td>10415.3280</td>\n",
       "      <td>26.7225</td>\n",
       "      <td>297.580800</td>\n",
       "    </tr>\n",
       "    <tr>\n",
       "      <th>A</th>\n",
       "      <th>Monday</th>\n",
       "      <td>649.2990</td>\n",
       "      <td>14239.0605</td>\n",
       "      <td>49.7700</td>\n",
       "      <td>296.647094</td>\n",
       "    </tr>\n",
       "    <tr>\n",
       "      <th>C</th>\n",
       "      <th>Thursday</th>\n",
       "      <td>829.0800</td>\n",
       "      <td>14148.3510</td>\n",
       "      <td>10.6785</td>\n",
       "      <td>294.757313</td>\n",
       "    </tr>\n",
       "    <tr>\n",
       "      <th rowspan=\"2\" valign=\"top\">A</th>\n",
       "      <th>Tuesday</th>\n",
       "      <td>932.3370</td>\n",
       "      <td>14955.2130</td>\n",
       "      <td>16.2750</td>\n",
       "      <td>293.239471</td>\n",
       "    </tr>\n",
       "    <tr>\n",
       "      <th>Friday</th>\n",
       "      <td>1039.2900</td>\n",
       "      <td>14543.8650</td>\n",
       "      <td>19.1940</td>\n",
       "      <td>290.877300</td>\n",
       "    </tr>\n",
       "    <tr>\n",
       "      <th>C</th>\n",
       "      <th>Monday</th>\n",
       "      <td>936.6000</td>\n",
       "      <td>10925.3130</td>\n",
       "      <td>14.6790</td>\n",
       "      <td>287.508237</td>\n",
       "    </tr>\n",
       "    <tr>\n",
       "      <th rowspan=\"2\" valign=\"top\">B</th>\n",
       "      <th>Friday</th>\n",
       "      <td>922.6350</td>\n",
       "      <td>14417.7600</td>\n",
       "      <td>35.1960</td>\n",
       "      <td>282.701176</td>\n",
       "    </tr>\n",
       "    <tr>\n",
       "      <th>Wednesday</th>\n",
       "      <td>666.9390</td>\n",
       "      <td>12707.5935</td>\n",
       "      <td>35.3115</td>\n",
       "      <td>254.151870</td>\n",
       "    </tr>\n",
       "  </tbody>\n",
       "</table>\n",
       "</div>"
      ],
      "text/plain": [
       "                        max         sum      min        mean\n",
       "Branch Days                                                 \n",
       "C      Friday     1042.6500  14964.7155  16.2015  393.808303\n",
       "       Sunday      939.5400  17035.7460  23.7510  370.342304\n",
       "B      Thursday    867.0900  15778.6230  33.9360  358.605068\n",
       "       Tuesday    1022.3850  18859.2390  33.3585  355.834698\n",
       "C      Wednesday  1034.4600  17755.8150  23.4990  355.116300\n",
       "B      Saturday   1022.4900  21284.4240  28.4235  354.740400\n",
       "A      Saturday    931.0350  16765.4130  12.6945  335.308260\n",
       "       Thursday    921.1860  15422.2740  30.4080  335.266826\n",
       "C      Saturday   1023.7500  18070.9725  17.0940  334.647639\n",
       "       Tuesday     937.8180  17667.7935  13.4190  327.181361\n",
       "A      Sunday      926.9505  17006.8185  16.1070  327.054202\n",
       "B      Monday      832.9440  12734.7045  18.6375  326.530885\n",
       "A      Wednesday   887.9220  13267.7265  32.1405  308.551779\n",
       "B      Sunday      793.7160  10415.3280  26.7225  297.580800\n",
       "A      Monday      649.2990  14239.0605  49.7700  296.647094\n",
       "C      Thursday    829.0800  14148.3510  10.6785  294.757313\n",
       "A      Tuesday     932.3370  14955.2130  16.2750  293.239471\n",
       "       Friday     1039.2900  14543.8650  19.1940  290.877300\n",
       "C      Monday      936.6000  10925.3130  14.6790  287.508237\n",
       "B      Friday      922.6350  14417.7600  35.1960  282.701176\n",
       "       Wednesday   666.9390  12707.5935  35.3115  254.151870"
      ]
     },
     "execution_count": 51,
     "metadata": {},
     "output_type": "execute_result"
    }
   ],
   "source": [
    "# find the hot  selling month of each day\n",
    "df.groupby([\"Branch\",\"Days\"])[\"Total\"].agg([\"max\",\"sum\",\"min\",\"mean\"]).sort_values(by=\"mean\",ascending=False)\n",
    "\n"
   ]
  },
  {
   "cell_type": "code",
   "execution_count": 52,
   "metadata": {
    "execution": {
     "iopub.execute_input": "2022-12-07T05:48:39.881958Z",
     "iopub.status.busy": "2022-12-07T05:48:39.881528Z",
     "iopub.status.idle": "2022-12-07T05:48:39.915440Z",
     "shell.execute_reply": "2022-12-07T05:48:39.914099Z",
     "shell.execute_reply.started": "2022-12-07T05:48:39.881908Z"
    }
   },
   "outputs": [
    {
     "data": {
      "text/html": [
       "<div>\n",
       "<style scoped>\n",
       "    .dataframe tbody tr th:only-of-type {\n",
       "        vertical-align: middle;\n",
       "    }\n",
       "\n",
       "    .dataframe tbody tr th {\n",
       "        vertical-align: top;\n",
       "    }\n",
       "\n",
       "    .dataframe thead th {\n",
       "        text-align: right;\n",
       "    }\n",
       "</style>\n",
       "<table border=\"1\" class=\"dataframe\">\n",
       "  <thead>\n",
       "    <tr style=\"text-align: right;\">\n",
       "      <th></th>\n",
       "      <th>Branch</th>\n",
       "      <th>Customer type</th>\n",
       "      <th>Gender</th>\n",
       "      <th>Product line</th>\n",
       "      <th>Unit price</th>\n",
       "      <th>Quantity</th>\n",
       "      <th>Tax 5%</th>\n",
       "      <th>Total</th>\n",
       "      <th>Date</th>\n",
       "      <th>Time</th>\n",
       "      <th>Payment</th>\n",
       "      <th>cogs</th>\n",
       "      <th>gross margin percentage</th>\n",
       "      <th>gross income</th>\n",
       "      <th>Rating</th>\n",
       "      <th>Days</th>\n",
       "      <th>Month</th>\n",
       "      <th>weekday</th>\n",
       "    </tr>\n",
       "  </thead>\n",
       "  <tbody>\n",
       "    <tr>\n",
       "      <th>0</th>\n",
       "      <td>A</td>\n",
       "      <td>Member</td>\n",
       "      <td>Female</td>\n",
       "      <td>Health and beauty</td>\n",
       "      <td>74.69</td>\n",
       "      <td>7</td>\n",
       "      <td>26.1415</td>\n",
       "      <td>548.9715</td>\n",
       "      <td>2019-01-05</td>\n",
       "      <td>2022-12-09 13:08:00</td>\n",
       "      <td>Ewallet</td>\n",
       "      <td>522.83</td>\n",
       "      <td>4.761905</td>\n",
       "      <td>26.1415</td>\n",
       "      <td>9.1</td>\n",
       "      <td>Saturday</td>\n",
       "      <td>January</td>\n",
       "      <td>5</td>\n",
       "    </tr>\n",
       "    <tr>\n",
       "      <th>2</th>\n",
       "      <td>A</td>\n",
       "      <td>Normal</td>\n",
       "      <td>Male</td>\n",
       "      <td>Home and lifestyle</td>\n",
       "      <td>46.33</td>\n",
       "      <td>7</td>\n",
       "      <td>16.2155</td>\n",
       "      <td>340.5255</td>\n",
       "      <td>2019-03-03</td>\n",
       "      <td>2022-12-09 13:23:00</td>\n",
       "      <td>Credit card</td>\n",
       "      <td>324.31</td>\n",
       "      <td>4.761905</td>\n",
       "      <td>16.2155</td>\n",
       "      <td>7.4</td>\n",
       "      <td>Sunday</td>\n",
       "      <td>March</td>\n",
       "      <td>6</td>\n",
       "    </tr>\n",
       "    <tr>\n",
       "      <th>3</th>\n",
       "      <td>A</td>\n",
       "      <td>Member</td>\n",
       "      <td>Male</td>\n",
       "      <td>Health and beauty</td>\n",
       "      <td>58.22</td>\n",
       "      <td>8</td>\n",
       "      <td>23.2880</td>\n",
       "      <td>489.0480</td>\n",
       "      <td>2019-01-27</td>\n",
       "      <td>2022-12-09 20:33:00</td>\n",
       "      <td>Ewallet</td>\n",
       "      <td>465.76</td>\n",
       "      <td>4.761905</td>\n",
       "      <td>23.2880</td>\n",
       "      <td>8.4</td>\n",
       "      <td>Sunday</td>\n",
       "      <td>January</td>\n",
       "      <td>6</td>\n",
       "    </tr>\n",
       "    <tr>\n",
       "      <th>4</th>\n",
       "      <td>A</td>\n",
       "      <td>Normal</td>\n",
       "      <td>Male</td>\n",
       "      <td>Sports and travel</td>\n",
       "      <td>86.31</td>\n",
       "      <td>7</td>\n",
       "      <td>30.2085</td>\n",
       "      <td>634.3785</td>\n",
       "      <td>2019-02-08</td>\n",
       "      <td>2022-12-09 10:37:00</td>\n",
       "      <td>Ewallet</td>\n",
       "      <td>604.17</td>\n",
       "      <td>4.761905</td>\n",
       "      <td>30.2085</td>\n",
       "      <td>5.3</td>\n",
       "      <td>Friday</td>\n",
       "      <td>February</td>\n",
       "      <td>4</td>\n",
       "    </tr>\n",
       "    <tr>\n",
       "      <th>6</th>\n",
       "      <td>A</td>\n",
       "      <td>Member</td>\n",
       "      <td>Female</td>\n",
       "      <td>Electronic accessories</td>\n",
       "      <td>68.84</td>\n",
       "      <td>6</td>\n",
       "      <td>20.6520</td>\n",
       "      <td>433.6920</td>\n",
       "      <td>2019-02-25</td>\n",
       "      <td>2022-12-09 14:36:00</td>\n",
       "      <td>Ewallet</td>\n",
       "      <td>413.04</td>\n",
       "      <td>4.761905</td>\n",
       "      <td>20.6520</td>\n",
       "      <td>5.8</td>\n",
       "      <td>Monday</td>\n",
       "      <td>February</td>\n",
       "      <td>0</td>\n",
       "    </tr>\n",
       "    <tr>\n",
       "      <th>...</th>\n",
       "      <td>...</td>\n",
       "      <td>...</td>\n",
       "      <td>...</td>\n",
       "      <td>...</td>\n",
       "      <td>...</td>\n",
       "      <td>...</td>\n",
       "      <td>...</td>\n",
       "      <td>...</td>\n",
       "      <td>...</td>\n",
       "      <td>...</td>\n",
       "      <td>...</td>\n",
       "      <td>...</td>\n",
       "      <td>...</td>\n",
       "      <td>...</td>\n",
       "      <td>...</td>\n",
       "      <td>...</td>\n",
       "      <td>...</td>\n",
       "      <td>...</td>\n",
       "    </tr>\n",
       "    <tr>\n",
       "      <th>990</th>\n",
       "      <td>A</td>\n",
       "      <td>Normal</td>\n",
       "      <td>Female</td>\n",
       "      <td>Food and beverages</td>\n",
       "      <td>56.56</td>\n",
       "      <td>5</td>\n",
       "      <td>14.1400</td>\n",
       "      <td>296.9400</td>\n",
       "      <td>2019-03-22</td>\n",
       "      <td>2022-12-09 19:06:00</td>\n",
       "      <td>Credit card</td>\n",
       "      <td>282.80</td>\n",
       "      <td>4.761905</td>\n",
       "      <td>14.1400</td>\n",
       "      <td>4.5</td>\n",
       "      <td>Friday</td>\n",
       "      <td>March</td>\n",
       "      <td>4</td>\n",
       "    </tr>\n",
       "    <tr>\n",
       "      <th>992</th>\n",
       "      <td>A</td>\n",
       "      <td>Normal</td>\n",
       "      <td>Male</td>\n",
       "      <td>Electronic accessories</td>\n",
       "      <td>58.03</td>\n",
       "      <td>2</td>\n",
       "      <td>5.8030</td>\n",
       "      <td>121.8630</td>\n",
       "      <td>2019-03-10</td>\n",
       "      <td>2022-12-09 20:46:00</td>\n",
       "      <td>Ewallet</td>\n",
       "      <td>116.06</td>\n",
       "      <td>4.761905</td>\n",
       "      <td>5.8030</td>\n",
       "      <td>8.8</td>\n",
       "      <td>Sunday</td>\n",
       "      <td>March</td>\n",
       "      <td>6</td>\n",
       "    </tr>\n",
       "    <tr>\n",
       "      <th>997</th>\n",
       "      <td>A</td>\n",
       "      <td>Member</td>\n",
       "      <td>Male</td>\n",
       "      <td>Food and beverages</td>\n",
       "      <td>31.84</td>\n",
       "      <td>1</td>\n",
       "      <td>1.5920</td>\n",
       "      <td>33.4320</td>\n",
       "      <td>2019-02-09</td>\n",
       "      <td>2022-12-09 13:22:00</td>\n",
       "      <td>Cash</td>\n",
       "      <td>31.84</td>\n",
       "      <td>4.761905</td>\n",
       "      <td>1.5920</td>\n",
       "      <td>7.7</td>\n",
       "      <td>Saturday</td>\n",
       "      <td>February</td>\n",
       "      <td>5</td>\n",
       "    </tr>\n",
       "    <tr>\n",
       "      <th>998</th>\n",
       "      <td>A</td>\n",
       "      <td>Normal</td>\n",
       "      <td>Male</td>\n",
       "      <td>Home and lifestyle</td>\n",
       "      <td>65.82</td>\n",
       "      <td>1</td>\n",
       "      <td>3.2910</td>\n",
       "      <td>69.1110</td>\n",
       "      <td>2019-02-22</td>\n",
       "      <td>2022-12-09 15:33:00</td>\n",
       "      <td>Cash</td>\n",
       "      <td>65.82</td>\n",
       "      <td>4.761905</td>\n",
       "      <td>3.2910</td>\n",
       "      <td>4.1</td>\n",
       "      <td>Friday</td>\n",
       "      <td>February</td>\n",
       "      <td>4</td>\n",
       "    </tr>\n",
       "    <tr>\n",
       "      <th>999</th>\n",
       "      <td>A</td>\n",
       "      <td>Member</td>\n",
       "      <td>Female</td>\n",
       "      <td>Fashion accessories</td>\n",
       "      <td>88.34</td>\n",
       "      <td>7</td>\n",
       "      <td>30.9190</td>\n",
       "      <td>649.2990</td>\n",
       "      <td>2019-02-18</td>\n",
       "      <td>2022-12-09 13:28:00</td>\n",
       "      <td>Cash</td>\n",
       "      <td>618.38</td>\n",
       "      <td>4.761905</td>\n",
       "      <td>30.9190</td>\n",
       "      <td>6.6</td>\n",
       "      <td>Monday</td>\n",
       "      <td>February</td>\n",
       "      <td>0</td>\n",
       "    </tr>\n",
       "  </tbody>\n",
       "</table>\n",
       "<p>340 rows × 18 columns</p>\n",
       "</div>"
      ],
      "text/plain": [
       "    Branch Customer type  Gender            Product line  Unit price  \\\n",
       "0        A        Member  Female       Health and beauty       74.69   \n",
       "2        A        Normal    Male      Home and lifestyle       46.33   \n",
       "3        A        Member    Male       Health and beauty       58.22   \n",
       "4        A        Normal    Male       Sports and travel       86.31   \n",
       "6        A        Member  Female  Electronic accessories       68.84   \n",
       "..     ...           ...     ...                     ...         ...   \n",
       "990      A        Normal  Female      Food and beverages       56.56   \n",
       "992      A        Normal    Male  Electronic accessories       58.03   \n",
       "997      A        Member    Male      Food and beverages       31.84   \n",
       "998      A        Normal    Male      Home and lifestyle       65.82   \n",
       "999      A        Member  Female     Fashion accessories       88.34   \n",
       "\n",
       "     Quantity   Tax 5%     Total       Date                Time      Payment  \\\n",
       "0           7  26.1415  548.9715 2019-01-05 2022-12-09 13:08:00      Ewallet   \n",
       "2           7  16.2155  340.5255 2019-03-03 2022-12-09 13:23:00  Credit card   \n",
       "3           8  23.2880  489.0480 2019-01-27 2022-12-09 20:33:00      Ewallet   \n",
       "4           7  30.2085  634.3785 2019-02-08 2022-12-09 10:37:00      Ewallet   \n",
       "6           6  20.6520  433.6920 2019-02-25 2022-12-09 14:36:00      Ewallet   \n",
       "..        ...      ...       ...        ...                 ...          ...   \n",
       "990         5  14.1400  296.9400 2019-03-22 2022-12-09 19:06:00  Credit card   \n",
       "992         2   5.8030  121.8630 2019-03-10 2022-12-09 20:46:00      Ewallet   \n",
       "997         1   1.5920   33.4320 2019-02-09 2022-12-09 13:22:00         Cash   \n",
       "998         1   3.2910   69.1110 2019-02-22 2022-12-09 15:33:00         Cash   \n",
       "999         7  30.9190  649.2990 2019-02-18 2022-12-09 13:28:00         Cash   \n",
       "\n",
       "       cogs  gross margin percentage  gross income  Rating      Days  \\\n",
       "0    522.83                 4.761905       26.1415     9.1  Saturday   \n",
       "2    324.31                 4.761905       16.2155     7.4    Sunday   \n",
       "3    465.76                 4.761905       23.2880     8.4    Sunday   \n",
       "4    604.17                 4.761905       30.2085     5.3    Friday   \n",
       "6    413.04                 4.761905       20.6520     5.8    Monday   \n",
       "..      ...                      ...           ...     ...       ...   \n",
       "990  282.80                 4.761905       14.1400     4.5    Friday   \n",
       "992  116.06                 4.761905        5.8030     8.8    Sunday   \n",
       "997   31.84                 4.761905        1.5920     7.7  Saturday   \n",
       "998   65.82                 4.761905        3.2910     4.1    Friday   \n",
       "999  618.38                 4.761905       30.9190     6.6    Monday   \n",
       "\n",
       "        Month  weekday  \n",
       "0     January        5  \n",
       "2       March        6  \n",
       "3     January        6  \n",
       "4    February        4  \n",
       "6    February        0  \n",
       "..        ...      ...  \n",
       "990     March        4  \n",
       "992     March        6  \n",
       "997  February        5  \n",
       "998  February        4  \n",
       "999  February        0  \n",
       "\n",
       "[340 rows x 18 columns]"
      ]
     },
     "execution_count": 52,
     "metadata": {},
     "output_type": "execute_result"
    }
   ],
   "source": [
    "# customer visiting trend of each branch corresponding to each branch\n",
    "a=df[(df[\"Branch\"] ==\"A\")]\n",
    "a\n",
    "\n"
   ]
  },
  {
   "cell_type": "code",
   "execution_count": 53,
   "metadata": {
    "execution": {
     "iopub.execute_input": "2022-12-07T05:50:52.309796Z",
     "iopub.status.busy": "2022-12-07T05:50:52.309402Z",
     "iopub.status.idle": "2022-12-07T05:50:52.735222Z",
     "shell.execute_reply": "2022-12-07T05:50:52.733980Z",
     "shell.execute_reply.started": "2022-12-07T05:50:52.309762Z"
    }
   },
   "outputs": [
    {
     "data": {
      "image/png": "[encoded data removed]",
      "text/plain": [
       "<Figure size 1500x300 with 3 Axes>"
      ]
     },
     "metadata": {},
     "output_type": "display_data"
    }
   ],
   "source": [
    "plt.figure(figsize = (15,3))\n",
    "a=df[(df[\"Branch\"] ==\"A\")]\n",
    "a_jan=a[a[\"Month\"]==\"January\"]\n",
    "plt.subplot(1,3,1)\n",
    "plt.hist(a_jan[\"Date\"],edgecolor=\"red\",bins=7)\n",
    "plt.xticks(rotation = 90)\n",
    "plt.title(\"January\")\n",
    "a_feb=a[a[\"Month\"]==\"February\"]\n",
    "plt.subplot(1,3,2)\n",
    "plt.hist(a_feb[\"Date\"],edgecolor=\"red\",bins=7)\n",
    "plt.xticks(rotation = 90)\n",
    "plt.title(\"February\")\n",
    "a_march=a[a[\"Month\"]==\"March\"]\n",
    "plt.subplot(1,3,3)\n",
    "plt.hist(a_march[\"Date\"],edgecolor=\"red\",bins=7)\n",
    "plt.xticks(rotation = 90)\n",
    "plt.title(\"march\")\n",
    "plt.show()\n",
    "\n",
    "\n"
   ]
  },
  {
   "cell_type": "code",
   "execution_count": 54,
   "metadata": {
    "execution": {
     "iopub.execute_input": "2022-12-07T05:53:37.298772Z",
     "iopub.status.busy": "2022-12-07T05:53:37.298326Z",
     "iopub.status.idle": "2022-12-07T05:53:37.307391Z",
     "shell.execute_reply": "2022-12-07T05:53:37.304965Z",
     "shell.execute_reply.started": "2022-12-07T05:53:37.298718Z"
    }
   },
   "outputs": [
    {
     "ename": "SyntaxError",
     "evalue": "invalid syntax (2875364002.py, line 2)",
     "output_type": "error",
     "traceback": [
      "\u001b[1;36m  Cell \u001b[1;32mIn [54], line 2\u001b[1;36m\u001b[0m\n\u001b[1;33m    January = maxm people visited on 22 jan to 27 jan\u001b[0m\n\u001b[1;37m                   ^\u001b[0m\n\u001b[1;31mSyntaxError\u001b[0m\u001b[1;31m:\u001b[0m invalid syntax\n"
     ]
    }
   ],
   "source": [
    "# from above output: Insight\n",
    "#January = maxm people visited on 22 jan to 27 jan"
   ]
  },
  {
   "cell_type": "code",
   "execution_count": 55,
   "metadata": {
    "execution": {
     "iopub.execute_input": "2022-12-07T05:53:41.528602Z",
     "iopub.status.busy": "2022-12-07T05:53:41.528246Z",
     "iopub.status.idle": "2022-12-07T05:53:41.932621Z",
     "shell.execute_reply": "2022-12-07T05:53:41.931709Z",
     "shell.execute_reply.started": "2022-12-07T05:53:41.528575Z"
    }
   },
   "outputs": [
    {
     "data": {
      "image/png": "[encoded data removed]",
      "text/plain": [
       "<Figure size 1500x300 with 3 Axes>"
      ]
     },
     "metadata": {},
     "output_type": "display_data"
    }
   ],
   "source": [
    "plt.figure(figsize = (15,3))\n",
    "b=df[(df[\"Branch\"] ==\"B\")]\n",
    "b_jan=b[b[\"Month\"]==\"January\"]\n",
    "plt.subplot(1,3,1)\n",
    "plt.hist(b_jan[\"Date\"],edgecolor=\"red\",bins=7)\n",
    "plt.xticks(rotation = 90)\n",
    "plt.title(\"January\")\n",
    "b_feb=b[b[\"Month\"]==\"February\"]\n",
    "plt.subplot(1,3,2)\n",
    "plt.hist(b_feb[\"Date\"],edgecolor=\"red\",bins=7)\n",
    "plt.xticks(rotation = 90)\n",
    "plt.title(\"february\")\n",
    "b_march=b[b[\"Month\"]==\"March\"]\n",
    "plt.subplot(1,3,3)\n",
    "plt.hist(b_march[\"Date\"],edgecolor=\"red\",bins=7)\n",
    "plt.xticks(rotation = 90)\n",
    "plt.title(\"march\")\n",
    "plt.show()\n",
    "\n",
    "\n"
   ]
  },
  {
   "cell_type": "code",
   "execution_count": 56,
   "metadata": {
    "execution": {
     "iopub.execute_input": "2022-12-07T05:54:18.459423Z",
     "iopub.status.busy": "2022-12-07T05:54:18.459046Z",
     "iopub.status.idle": "2022-12-07T05:54:18.844049Z",
     "shell.execute_reply": "2022-12-07T05:54:18.843161Z",
     "shell.execute_reply.started": "2022-12-07T05:54:18.459391Z"
    }
   },
   "outputs": [
    {
     "data": {
      "image/png": "[encoded data removed]",
      "text/plain": [
       "<Figure size 1500x300 with 3 Axes>"
      ]
     },
     "metadata": {},
     "output_type": "display_data"
    }
   ],
   "source": [
    "plt.figure(figsize = (15,3))\n",
    "c=df[(df[\"Branch\"] ==\"C\")]\n",
    "c_jan=c[c[\"Month\"]==\"January\"]\n",
    "plt.subplot(1,3,1)\n",
    "plt.hist(c_jan[\"Date\"],edgecolor=\"red\",bins=7)\n",
    "plt.xticks(rotation = 90)\n",
    "plt.title(\"January\")\n",
    "c_feb=c[c[\"Month\"]==\"February\"]\n",
    "plt.subplot(1,3,2)\n",
    "plt.hist(c_feb[\"Date\"],edgecolor=\"red\",bins=7)\n",
    "plt.xticks(rotation = 90)\n",
    "plt.title(\"february\")\n",
    "c_march=c[c[\"Month\"]==\"March\"]\n",
    "plt.subplot(1,3,3)\n",
    "plt.hist(c_march[\"Date\"],edgecolor=\"red\",bins=7)\n",
    "plt.xticks(rotation = 90)\n",
    "plt.title(\"march\")\n",
    "plt.show()\n",
    "\n",
    "\n"
   ]
  },
  {
   "cell_type": "code",
   "execution_count": 57,
   "metadata": {
    "execution": {
     "iopub.execute_input": "2022-12-07T05:56:06.772548Z",
     "iopub.status.busy": "2022-12-07T05:56:06.772205Z",
     "iopub.status.idle": "2022-12-07T05:56:06.780194Z",
     "shell.execute_reply": "2022-12-07T05:56:06.779212Z",
     "shell.execute_reply.started": "2022-12-07T05:56:06.772522Z"
    }
   },
   "outputs": [
    {
     "data": {
      "text/plain": [
       "0    Fashion accessories\n",
       "Name: Product line, dtype: object"
      ]
     },
     "execution_count": 57,
     "metadata": {},
     "output_type": "execute_result"
    }
   ],
   "source": [
    "# find the most popualted product of the company\n",
    "df['Product line'].mode()"
   ]
  },
  {
   "cell_type": "code",
   "execution_count": 58,
   "metadata": {
    "execution": {
     "iopub.execute_input": "2022-12-07T05:56:58.731284Z",
     "iopub.status.busy": "2022-12-07T05:56:58.729742Z",
     "iopub.status.idle": "2022-12-07T05:56:58.872201Z",
     "shell.execute_reply": "2022-12-07T05:56:58.871319Z",
     "shell.execute_reply.started": "2022-12-07T05:56:58.731214Z"
    }
   },
   "outputs": [
    {
     "data": {
      "text/plain": [
       "<AxesSubplot:xlabel='Product line', ylabel='count'>"
      ]
     },
     "execution_count": 58,
     "metadata": {},
     "output_type": "execute_result"
    },
    {
     "data": {
      "image/png": "[encoded data removed]",
      "text/plain": [
       "<Figure size 640x480 with 1 Axes>"
      ]
     },
     "metadata": {},
     "output_type": "display_data"
    }
   ],
   "source": [
    "sns.countplot(x='Product line',data=df)"
   ]
  },
  {
   "cell_type": "code",
   "execution_count": 59,
   "metadata": {
    "execution": {
     "iopub.execute_input": "2022-12-07T05:58:18.826805Z",
     "iopub.status.busy": "2022-12-07T05:58:18.826431Z",
     "iopub.status.idle": "2022-12-07T05:58:18.834669Z",
     "shell.execute_reply": "2022-12-07T05:58:18.833725Z",
     "shell.execute_reply.started": "2022-12-07T05:58:18.826774Z"
    }
   },
   "outputs": [
    {
     "data": {
      "text/plain": [
       "Index(['Fashion accessories', 'Food and beverages', 'Electronic accessories',\n",
       "       'Sports and travel', 'Home and lifestyle', 'Health and beauty'],\n",
       "      dtype='object')"
      ]
     },
     "execution_count": 59,
     "metadata": {},
     "output_type": "execute_result"
    }
   ],
   "source": [
    "p_index=df['Product line'].value_counts().index\n",
    "\n",
    "p_index"
   ]
  },
  {
   "cell_type": "code",
   "execution_count": 60,
   "metadata": {
    "execution": {
     "iopub.execute_input": "2022-12-07T05:58:30.609122Z",
     "iopub.status.busy": "2022-12-07T05:58:30.608706Z",
     "iopub.status.idle": "2022-12-07T05:58:30.618432Z",
     "shell.execute_reply": "2022-12-07T05:58:30.617196Z",
     "shell.execute_reply.started": "2022-12-07T05:58:30.609089Z"
    }
   },
   "outputs": [
    {
     "data": {
      "text/plain": [
       "array([66, 65, 55, 52, 45, 45], dtype=int64)"
      ]
     },
     "execution_count": 60,
     "metadata": {},
     "output_type": "execute_result"
    }
   ],
   "source": [
    "p_values=c['Product line'].value_counts().values\n",
    "p_values\n",
    "\n"
   ]
  },
  {
   "cell_type": "code",
   "execution_count": 61,
   "metadata": {
    "execution": {
     "iopub.execute_input": "2022-12-07T05:58:39.916651Z",
     "iopub.status.busy": "2022-12-07T05:58:39.916297Z",
     "iopub.status.idle": "2022-12-07T05:58:40.027162Z",
     "shell.execute_reply": "2022-12-07T05:58:40.025949Z",
     "shell.execute_reply.started": "2022-12-07T05:58:39.916621Z"
    }
   },
   "outputs": [
    {
     "data": {
      "image/png": "[encoded data removed]",
      "text/plain": [
       "<Figure size 640x480 with 1 Axes>"
      ]
     },
     "metadata": {},
     "output_type": "display_data"
    }
   ],
   "source": [
    "plt.pie(p_values,labels=p_index,autopct='%.2f%%')\n",
    "plt.show()\n",
    "\n"
   ]
  },
  {
   "cell_type": "code",
   "execution_count": 62,
   "metadata": {
    "execution": {
     "iopub.execute_input": "2022-12-07T06:00:27.790284Z",
     "iopub.status.busy": "2022-12-07T06:00:27.789899Z",
     "iopub.status.idle": "2022-12-07T06:00:27.802622Z",
     "shell.execute_reply": "2022-12-07T06:00:27.800832Z",
     "shell.execute_reply.started": "2022-12-07T06:00:27.790255Z"
    }
   },
   "outputs": [
    {
     "data": {
      "text/plain": [
       "Branch  Product line          \n",
       "A       Home and lifestyle        65\n",
       "        Electronic accessories    60\n",
       "        Sports and travel         59\n",
       "        Food and beverages        58\n",
       "        Fashion accessories       51\n",
       "        Health and beauty         47\n",
       "B       Fashion accessories       62\n",
       "        Sports and travel         62\n",
       "        Electronic accessories    55\n",
       "        Health and beauty         53\n",
       "        Food and beverages        50\n",
       "        Home and lifestyle        50\n",
       "C       Food and beverages        66\n",
       "        Fashion accessories       65\n",
       "        Electronic accessories    55\n",
       "        Health and beauty         52\n",
       "        Home and lifestyle        45\n",
       "        Sports and travel         45\n",
       "Name: Product line, dtype: int64"
      ]
     },
     "execution_count": 62,
     "metadata": {},
     "output_type": "execute_result"
    }
   ],
   "source": [
    "# find product taste trend of customers of each branch or product deman dof each branch\n",
    "df.groupby(['Branch'])['Product line'].value_counts()\n"
   ]
  },
  {
   "cell_type": "code",
   "execution_count": 63,
   "metadata": {
    "execution": {
     "iopub.execute_input": "2022-12-07T06:02:29.868663Z",
     "iopub.status.busy": "2022-12-07T06:02:29.868277Z",
     "iopub.status.idle": "2022-12-07T06:02:30.095118Z",
     "shell.execute_reply": "2022-12-07T06:02:30.093975Z",
     "shell.execute_reply.started": "2022-12-07T06:02:29.868632Z"
    }
   },
   "outputs": [
    {
     "data": {
      "text/plain": [
       "(array([0, 1, 2]), [Text(0, 0, 'A'), Text(1, 0, 'C'), Text(2, 0, 'B')])"
      ]
     },
     "execution_count": 63,
     "metadata": {},
     "output_type": "execute_result"
    },
    {
     "data": {
      "image/png": "[encoded data removed]",
      "text/plain": [
       "<Figure size 640x480 with 1 Axes>"
      ]
     },
     "metadata": {},
     "output_type": "display_data"
    }
   ],
   "source": [
    "sns.countplot(x='Branch',data=df,hue='Product line')\n",
    "plt.xticks(rotation=90)"
   ]
  },
  {
   "cell_type": "code",
   "execution_count": 64,
   "metadata": {
    "execution": {
     "iopub.execute_input": "2022-12-07T06:09:42.536615Z",
     "iopub.status.busy": "2022-12-07T06:09:42.536246Z",
     "iopub.status.idle": "2022-12-07T06:09:42.546193Z",
     "shell.execute_reply": "2022-12-07T06:09:42.545279Z",
     "shell.execute_reply.started": "2022-12-07T06:09:42.536585Z"
    }
   },
   "outputs": [
    {
     "data": {
      "text/plain": [
       "Product line\n",
       "Health and beauty         49193.7390\n",
       "Home and lifestyle        53861.9130\n",
       "Fashion accessories       54305.8950\n",
       "Electronic accessories    54337.5315\n",
       "Sports and travel         55122.8265\n",
       "Food and beverages        56144.8440\n",
       "Name: Total, dtype: float64"
      ]
     },
     "execution_count": 64,
     "metadata": {},
     "output_type": "execute_result"
    }
   ],
   "source": [
    "# find sales of each product\n",
    "df.groupby(['Product line'])['Total'].sum().sort_values()"
   ]
  },
  {
   "cell_type": "code",
   "execution_count": 65,
   "metadata": {
    "execution": {
     "iopub.execute_input": "2022-12-07T06:05:32.994430Z",
     "iopub.status.busy": "2022-12-07T06:05:32.994055Z",
     "iopub.status.idle": "2022-12-07T06:05:33.308943Z",
     "shell.execute_reply": "2022-12-07T06:05:33.307913Z",
     "shell.execute_reply.started": "2022-12-07T06:05:32.994400Z"
    }
   },
   "outputs": [
    {
     "data": {
      "image/png": "[encoded data removed]",
      "text/plain": [
       "<Figure size 640x480 with 1 Axes>"
      ]
     },
     "metadata": {},
     "output_type": "display_data"
    }
   ],
   "source": [
    "sns.barplot(x='Product line',y='Total',data=df,estimator=sum)\n",
    "plt.xticks(rotation=80);"
   ]
  },
  {
   "cell_type": "code",
   "execution_count": 66,
   "metadata": {
    "execution": {
     "iopub.execute_input": "2022-12-07T06:08:21.962018Z",
     "iopub.status.busy": "2022-12-07T06:08:21.961626Z",
     "iopub.status.idle": "2022-12-07T06:08:22.282841Z",
     "shell.execute_reply": "2022-12-07T06:08:22.281787Z",
     "shell.execute_reply.started": "2022-12-07T06:08:21.961985Z"
    }
   },
   "outputs": [
    {
     "data": {
      "text/plain": [
       "<AxesSubplot:xlabel='Total', ylabel='Product line'>"
      ]
     },
     "execution_count": 66,
     "metadata": {},
     "output_type": "execute_result"
    },
    {
     "data": {
      "image/png": "[encoded data removed]",
      "text/plain": [
       "<Figure size 640x480 with 1 Axes>"
      ]
     },
     "metadata": {},
     "output_type": "display_data"
    }
   ],
   "source": [
    "sns.barplot(x='Total',y='Product line',data=df,estimator=sum,orient='h')"
   ]
  },
  {
   "cell_type": "code",
   "execution_count": 67,
   "metadata": {},
   "outputs": [],
   "source": [
    "# sale of food and b"
   ]
  },
  {
   "cell_type": "code",
   "execution_count": 68,
   "metadata": {
    "execution": {
     "iopub.execute_input": "2022-12-07T06:11:43.787065Z",
     "iopub.status.busy": "2022-12-07T06:11:43.786631Z",
     "iopub.status.idle": "2022-12-07T06:11:43.806833Z",
     "shell.execute_reply": "2022-12-07T06:11:43.805834Z",
     "shell.execute_reply.started": "2022-12-07T06:11:43.787032Z"
    }
   },
   "outputs": [
    {
     "data": {
      "text/plain": [
       "<bound method DataFrame.groupby of     Branch Customer type  Gender            Product line  Unit price  \\\n",
       "0        A        Member  Female       Health and beauty       74.69   \n",
       "1        C        Normal  Female  Electronic accessories       15.28   \n",
       "2        A        Normal    Male      Home and lifestyle       46.33   \n",
       "3        A        Member    Male       Health and beauty       58.22   \n",
       "4        A        Normal    Male       Sports and travel       86.31   \n",
       "..     ...           ...     ...                     ...         ...   \n",
       "995      C        Normal    Male       Health and beauty       40.35   \n",
       "996      B        Normal  Female      Home and lifestyle       97.38   \n",
       "997      A        Member    Male      Food and beverages       31.84   \n",
       "998      A        Normal    Male      Home and lifestyle       65.82   \n",
       "999      A        Member  Female     Fashion accessories       88.34   \n",
       "\n",
       "     Quantity   Tax 5%      Total       Date                Time      Payment  \\\n",
       "0           7  26.1415   548.9715 2019-01-05 2022-12-09 13:08:00      Ewallet   \n",
       "1           5   3.8200    80.2200 2019-03-08 2022-12-09 10:29:00         Cash   \n",
       "2           7  16.2155   340.5255 2019-03-03 2022-12-09 13:23:00  Credit card   \n",
       "3           8  23.2880   489.0480 2019-01-27 2022-12-09 20:33:00      Ewallet   \n",
       "4           7  30.2085   634.3785 2019-02-08 2022-12-09 10:37:00      Ewallet   \n",
       "..        ...      ...        ...        ...                 ...          ...   \n",
       "995         1   2.0175    42.3675 2019-01-29 2022-12-09 13:46:00      Ewallet   \n",
       "996        10  48.6900  1022.4900 2019-03-02 2022-12-09 17:16:00      Ewallet   \n",
       "997         1   1.5920    33.4320 2019-02-09 2022-12-09 13:22:00         Cash   \n",
       "998         1   3.2910    69.1110 2019-02-22 2022-12-09 15:33:00         Cash   \n",
       "999         7  30.9190   649.2990 2019-02-18 2022-12-09 13:28:00         Cash   \n",
       "\n",
       "       cogs  gross margin percentage  gross income  Rating      Days  \\\n",
       "0    522.83                 4.761905       26.1415     9.1  Saturday   \n",
       "1     76.40                 4.761905        3.8200     9.6    Friday   \n",
       "2    324.31                 4.761905       16.2155     7.4    Sunday   \n",
       "3    465.76                 4.761905       23.2880     8.4    Sunday   \n",
       "4    604.17                 4.761905       30.2085     5.3    Friday   \n",
       "..      ...                      ...           ...     ...       ...   \n",
       "995   40.35                 4.761905        2.0175     6.2   Tuesday   \n",
       "996  973.80                 4.761905       48.6900     4.4  Saturday   \n",
       "997   31.84                 4.761905        1.5920     7.7  Saturday   \n",
       "998   65.82                 4.761905        3.2910     4.1    Friday   \n",
       "999  618.38                 4.761905       30.9190     6.6    Monday   \n",
       "\n",
       "        Month  weekday  \n",
       "0     January        5  \n",
       "1       March        4  \n",
       "2       March        6  \n",
       "3     January        6  \n",
       "4    February        4  \n",
       "..        ...      ...  \n",
       "995   January        1  \n",
       "996     March        5  \n",
       "997  February        5  \n",
       "998  February        4  \n",
       "999  February        0  \n",
       "\n",
       "[1000 rows x 18 columns]>"
      ]
     },
     "execution_count": 68,
     "metadata": {},
     "output_type": "execute_result"
    }
   ],
   "source": [
    "# find the product wise sale trend of each branch\n",
    "df.groupby"
   ]
  },
  {
   "cell_type": "code",
   "execution_count": 69,
   "metadata": {
    "execution": {
     "iopub.execute_input": "2022-12-07T06:11:52.577595Z",
     "iopub.status.busy": "2022-12-07T06:11:52.577209Z",
     "iopub.status.idle": "2022-12-07T06:11:53.199378Z",
     "shell.execute_reply": "2022-12-07T06:11:53.197958Z",
     "shell.execute_reply.started": "2022-12-07T06:11:52.577563Z"
    }
   },
   "outputs": [
    {
     "data": {
      "image/png": "[encoded data removed]",
      "text/plain": [
       "<Figure size 800x800 with 1 Axes>"
      ]
     },
     "metadata": {},
     "output_type": "display_data"
    }
   ],
   "source": [
    "plt.figure(figsize=(8,8))\n",
    "sns.barplot(x=\"Branch\",y=\"Total\",hue=\"Product line\",data=df,estimator=sum)\n",
    "plt.xticks(rotation=90);\n",
    "\n",
    "\n"
   ]
  },
  {
   "cell_type": "code",
   "execution_count": 70,
   "metadata": {
    "execution": {
     "iopub.execute_input": "2022-12-07T06:17:47.739425Z",
     "iopub.status.busy": "2022-12-07T06:17:47.738998Z",
     "iopub.status.idle": "2022-12-07T06:17:47.750502Z",
     "shell.execute_reply": "2022-12-07T06:17:47.749375Z",
     "shell.execute_reply.started": "2022-12-07T06:17:47.739388Z"
    }
   },
   "outputs": [
    {
     "data": {
      "text/plain": [
       "Product line            Month   \n",
       "Electronic accessories  February    17362.9050\n",
       "                        January     18831.2880\n",
       "                        March       18143.3385\n",
       "Fashion accessories     February    19009.8615\n",
       "                        January     19345.1160\n",
       "                        March       15950.9175\n",
       "Food and beverages      February    20000.3580\n",
       "                        January     19570.5300\n",
       "                        March       16573.9560\n",
       "Health and beauty       February    14602.2555\n",
       "                        January     16383.1710\n",
       "                        March       18208.3125\n",
       "Home and lifestyle      February    12434.3835\n",
       "                        January     20494.7400\n",
       "                        March       20932.7895\n",
       "Sports and travel       February    13809.6105\n",
       "                        January     21667.0230\n",
       "                        March       19646.1930\n",
       "Name: Total, dtype: float64"
      ]
     },
     "execution_count": 70,
     "metadata": {},
     "output_type": "execute_result"
    }
   ],
   "source": [
    "# find monthly sale of each product\n",
    "df.groupby(['Product line','Month'])['Total'].sum()"
   ]
  },
  {
   "cell_type": "code",
   "execution_count": 71,
   "metadata": {
    "execution": {
     "iopub.execute_input": "2022-12-07T06:19:46.809353Z",
     "iopub.status.busy": "2022-12-07T06:19:46.808991Z",
     "iopub.status.idle": "2022-12-07T06:19:46.816403Z",
     "shell.execute_reply": "2022-12-07T06:19:46.815560Z",
     "shell.execute_reply.started": "2022-12-07T06:19:46.809324Z"
    }
   },
   "outputs": [
    {
     "data": {
      "text/plain": [
       "Female    501\n",
       "Male      499\n",
       "Name: Gender, dtype: int64"
      ]
     },
     "execution_count": 71,
     "metadata": {},
     "output_type": "execute_result"
    }
   ],
   "source": [
    "# Type of customers\n",
    "df['Gender'].value_counts()"
   ]
  },
  {
   "cell_type": "code",
   "execution_count": 72,
   "metadata": {
    "execution": {
     "iopub.execute_input": "2022-12-07T06:20:18.863594Z",
     "iopub.status.busy": "2022-12-07T06:20:18.863280Z",
     "iopub.status.idle": "2022-12-07T06:20:18.986418Z",
     "shell.execute_reply": "2022-12-07T06:20:18.985287Z",
     "shell.execute_reply.started": "2022-12-07T06:20:18.863570Z"
    }
   },
   "outputs": [
    {
     "data": {
      "text/plain": [
       "<AxesSubplot:xlabel='Gender', ylabel='count'>"
      ]
     },
     "execution_count": 72,
     "metadata": {},
     "output_type": "execute_result"
    },
    {
     "data": {
      "image/png": "[encoded data removed]",
      "text/plain": [
       "<Figure size 640x480 with 1 Axes>"
      ]
     },
     "metadata": {},
     "output_type": "display_data"
    }
   ],
   "source": [
    "sns.countplot(x='Gender',data=df)"
   ]
  },
  {
   "cell_type": "code",
   "execution_count": 73,
   "metadata": {
    "execution": {
     "iopub.execute_input": "2022-12-07T06:21:30.331822Z",
     "iopub.status.busy": "2022-12-07T06:21:30.331459Z",
     "iopub.status.idle": "2022-12-07T06:21:30.344136Z",
     "shell.execute_reply": "2022-12-07T06:21:30.342784Z",
     "shell.execute_reply.started": "2022-12-07T06:21:30.331795Z"
    }
   },
   "outputs": [
    {
     "data": {
      "text/plain": [
       "Branch  Product line            Gender\n",
       "A       Electronic accessories  Male      32\n",
       "                                Female    28\n",
       "        Fashion accessories     Female    28\n",
       "                                Male      23\n",
       "        Food and beverages      Male      35\n",
       "                                Female    23\n",
       "        Health and beauty       Male      26\n",
       "                                Female    21\n",
       "        Home and lifestyle      Male      33\n",
       "                                Female    32\n",
       "        Sports and travel       Male      30\n",
       "                                Female    29\n",
       "B       Electronic accessories  Female    28\n",
       "                                Male      27\n",
       "        Fashion accessories     Female    33\n",
       "                                Male      29\n",
       "        Food and beverages      Female    29\n",
       "                                Male      21\n",
       "        Health and beauty       Male      33\n",
       "                                Female    20\n",
       "        Home and lifestyle      Male      28\n",
       "                                Female    22\n",
       "        Sports and travel       Male      32\n",
       "                                Female    30\n",
       "C       Electronic accessories  Female    28\n",
       "                                Male      27\n",
       "        Fashion accessories     Female    35\n",
       "                                Male      30\n",
       "        Food and beverages      Female    38\n",
       "                                Male      28\n",
       "        Health and beauty       Male      29\n",
       "                                Female    23\n",
       "        Home and lifestyle      Female    25\n",
       "                                Male      20\n",
       "        Sports and travel       Female    29\n",
       "                                Male      16\n",
       "Name: Gender, dtype: int64"
      ]
     },
     "execution_count": 73,
     "metadata": {},
     "output_type": "execute_result"
    }
   ],
   "source": [
    "# find customers's product taste according to the gender\n",
    "df.groupby(['Branch','Product line'])['Gender'].value_counts()"
   ]
  },
  {
   "cell_type": "code",
   "execution_count": 74,
   "metadata": {
    "execution": {
     "iopub.execute_input": "2022-12-07T06:21:55.299293Z",
     "iopub.status.busy": "2022-12-07T06:21:55.298886Z",
     "iopub.status.idle": "2022-12-07T06:21:55.310152Z",
     "shell.execute_reply": "2022-12-07T06:21:55.308493Z",
     "shell.execute_reply.started": "2022-12-07T06:21:55.299264Z"
    }
   },
   "outputs": [
    {
     "data": {
      "text/plain": [
       "Product line            Gender\n",
       "Electronic accessories  Male      86\n",
       "                        Female    84\n",
       "Fashion accessories     Female    96\n",
       "                        Male      82\n",
       "Food and beverages      Female    90\n",
       "                        Male      84\n",
       "Health and beauty       Male      88\n",
       "                        Female    64\n",
       "Home and lifestyle      Male      81\n",
       "                        Female    79\n",
       "Sports and travel       Female    88\n",
       "                        Male      78\n",
       "Name: Gender, dtype: int64"
      ]
     },
     "execution_count": 74,
     "metadata": {},
     "output_type": "execute_result"
    }
   ],
   "source": [
    "df.groupby(['Product line'])['Gender'].value_counts()"
   ]
  },
  {
   "cell_type": "code",
   "execution_count": 75,
   "metadata": {
    "execution": {
     "iopub.execute_input": "2022-12-07T06:23:25.583510Z",
     "iopub.status.busy": "2022-12-07T06:23:25.583143Z",
     "iopub.status.idle": "2022-12-07T06:23:25.595747Z",
     "shell.execute_reply": "2022-12-07T06:23:25.594601Z",
     "shell.execute_reply.started": "2022-12-07T06:23:25.583480Z"
    }
   },
   "outputs": [
    {
     "data": {
      "text/plain": [
       "Gender\n",
       "Female    167882.925\n",
       "Male      155083.824\n",
       "Name: Total, dtype: float64"
      ]
     },
     "execution_count": 75,
     "metadata": {},
     "output_type": "execute_result"
    }
   ],
   "source": [
    "\n",
    "# who contributaed most\n",
    "df.groupby(['Gender'])['Total'].sum()"
   ]
  },
  {
   "cell_type": "code",
   "execution_count": 76,
   "metadata": {
    "execution": {
     "iopub.execute_input": "2022-12-07T06:23:54.886505Z",
     "iopub.status.busy": "2022-12-07T06:23:54.885473Z",
     "iopub.status.idle": "2022-12-07T06:23:54.892996Z",
     "shell.execute_reply": "2022-12-07T06:23:54.891018Z",
     "shell.execute_reply.started": "2022-12-07T06:23:54.886470Z"
    }
   },
   "outputs": [
    {
     "data": {
      "text/plain": [
       "<function seaborn.categorical.barplot(data=None, *, x=None, y=None, hue=None, order=None, hue_order=None, estimator='mean', errorbar=('ci', 95), n_boot=1000, units=None, seed=None, orient=None, color=None, palette=None, saturation=0.75, width=0.8, errcolor='.26', errwidth=None, capsize=None, dodge=True, ci='deprecated', ax=None, **kwargs)>"
      ]
     },
     "execution_count": 76,
     "metadata": {},
     "output_type": "execute_result"
    }
   ],
   "source": [
    "sns.barplot"
   ]
  },
  {
   "cell_type": "code",
   "execution_count": 77,
   "metadata": {
    "execution": {
     "iopub.execute_input": "2022-12-07T06:25:38.377789Z",
     "iopub.status.busy": "2022-12-07T06:25:38.376778Z",
     "iopub.status.idle": "2022-12-07T06:25:38.884682Z",
     "shell.execute_reply": "2022-12-07T06:25:38.883513Z",
     "shell.execute_reply.started": "2022-12-07T06:25:38.377743Z"
    }
   },
   "outputs": [
    {
     "data": {
      "text/plain": [
       "<AxesSubplot:xlabel='Gender', ylabel='Total'>"
      ]
     },
     "execution_count": 77,
     "metadata": {},
     "output_type": "execute_result"
    },
    {
     "data": {
      "image/png": "[encoded data removed]",
      "text/plain": [
       "<Figure size 640x480 with 1 Axes>"
      ]
     },
     "metadata": {},
     "output_type": "display_data"
    }
   ],
   "source": [
    "# find the total sale of each product by each gender\n",
    "sns.barplot(x='Gender',y='Total',data=df,hue='Product line',estimator=sum)"
   ]
  },
  {
   "cell_type": "code",
   "execution_count": 78,
   "metadata": {
    "execution": {
     "iopub.execute_input": "2022-12-07T06:26:25.286441Z",
     "iopub.status.busy": "2022-12-07T06:26:25.286074Z",
     "iopub.status.idle": "2022-12-07T06:26:25.296948Z",
     "shell.execute_reply": "2022-12-07T06:26:25.295955Z",
     "shell.execute_reply.started": "2022-12-07T06:26:25.286412Z"
    }
   },
   "outputs": [
    {
     "data": {
      "text/plain": [
       "Branch\n",
       "A    340\n",
       "B    332\n",
       "C    328\n",
       "Name: Customer type, dtype: int64"
      ]
     },
     "execution_count": 78,
     "metadata": {},
     "output_type": "execute_result"
    }
   ],
   "source": [
    "\n",
    "\n",
    "\n",
    "# which branch has highest customers\n",
    "df.groupby([\"Branch\"])[\"Customer type\"].count()\n",
    "\n"
   ]
  },
  {
   "cell_type": "code",
   "execution_count": 79,
   "metadata": {
    "execution": {
     "iopub.execute_input": "2022-12-07T06:27:12.750834Z",
     "iopub.status.busy": "2022-12-07T06:27:12.750494Z",
     "iopub.status.idle": "2022-12-07T06:27:12.758681Z",
     "shell.execute_reply": "2022-12-07T06:27:12.757229Z",
     "shell.execute_reply.started": "2022-12-07T06:27:12.750805Z"
    }
   },
   "outputs": [
    {
     "data": {
      "text/plain": [
       "Index(['Fashion accessories', 'Food and beverages', 'Electronic accessories',\n",
       "       'Sports and travel', 'Home and lifestyle', 'Health and beauty'],\n",
       "      dtype='object')"
      ]
     },
     "execution_count": 79,
     "metadata": {},
     "output_type": "execute_result"
    }
   ],
   "source": [
    "#### How many Customers were normal or Member of the company?\n",
    "\n",
    "p_index=df['Product line'].value_counts().index\n",
    "p_index"
   ]
  },
  {
   "cell_type": "code",
   "execution_count": 80,
   "metadata": {
    "execution": {
     "iopub.execute_input": "2022-12-07T06:28:45.633255Z",
     "iopub.status.busy": "2022-12-07T06:28:45.632851Z",
     "iopub.status.idle": "2022-12-07T06:28:45.642837Z",
     "shell.execute_reply": "2022-12-07T06:28:45.641681Z",
     "shell.execute_reply.started": "2022-12-07T06:28:45.633220Z"
    }
   },
   "outputs": [
    {
     "data": {
      "text/plain": [
       "Customer type\n",
       "Member    164223.444\n",
       "Normal    158743.305\n",
       "Name: Total, dtype: float64"
      ]
     },
     "execution_count": 80,
     "metadata": {},
     "output_type": "execute_result"
    }
   ],
   "source": [
    "### classify TOTAL income based on customer type?\n",
    "df.groupby([\"Customer type\"])[\"Total\"].sum()\n"
   ]
  },
  {
   "cell_type": "code",
   "execution_count": 81,
   "metadata": {
    "execution": {
     "iopub.execute_input": "2022-12-07T06:29:28.316792Z",
     "iopub.status.busy": "2022-12-07T06:29:28.316432Z",
     "iopub.status.idle": "2022-12-07T06:29:28.328255Z",
     "shell.execute_reply": "2022-12-07T06:29:28.327057Z",
     "shell.execute_reply.started": "2022-12-07T06:29:28.316761Z"
    }
   },
   "outputs": [
    {
     "data": {
      "text/plain": [
       "Branch  Customer type\n",
       "A       Normal           173\n",
       "        Member           167\n",
       "B       Normal           167\n",
       "        Member           165\n",
       "C       Member           169\n",
       "        Normal           159\n",
       "Name: Customer type, dtype: int64"
      ]
     },
     "execution_count": 81,
     "metadata": {},
     "output_type": "execute_result"
    }
   ],
   "source": [
    "#### Find Customers type count of each branch\n",
    "df.groupby([\"Branch\"])[\"Customer type\"].value_counts()\n"
   ]
  },
  {
   "cell_type": "code",
   "execution_count": 82,
   "metadata": {
    "execution": {
     "iopub.execute_input": "2022-12-07T06:31:18.578238Z",
     "iopub.status.busy": "2022-12-07T06:31:18.577955Z",
     "iopub.status.idle": "2022-12-07T06:31:18.590180Z",
     "shell.execute_reply": "2022-12-07T06:31:18.588683Z",
     "shell.execute_reply.started": "2022-12-07T06:31:18.578214Z"
    }
   },
   "outputs": [
    {
     "data": {
      "text/plain": [
       "0   2022-12-09 14:42:00\n",
       "1   2022-12-09 19:48:00\n",
       "Name: Time, dtype: datetime64[ns]"
      ]
     },
     "execution_count": 82,
     "metadata": {},
     "output_type": "execute_result"
    }
   ],
   "source": [
    "# find the peak time of the customers visit as supermarket\n",
    "df['Time'].mode()"
   ]
  },
  {
   "cell_type": "code",
   "execution_count": 83,
   "metadata": {
    "execution": {
     "iopub.execute_input": "2022-12-07T06:32:47.885986Z",
     "iopub.status.busy": "2022-12-07T06:32:47.885629Z",
     "iopub.status.idle": "2022-12-07T06:32:47.898597Z",
     "shell.execute_reply": "2022-12-07T06:32:47.897640Z",
     "shell.execute_reply.started": "2022-12-07T06:32:47.885956Z"
    }
   },
   "outputs": [
    {
     "data": {
      "text/plain": [
       "Branch  Time               \n",
       "A       2022-12-09 11:51:00    3\n",
       "        2022-12-09 12:43:00    3\n",
       "        2022-12-09 13:34:00    3\n",
       "        2022-12-09 15:48:00    3\n",
       "        2022-12-09 19:44:00    3\n",
       "                              ..\n",
       "C       2022-12-09 20:47:00    1\n",
       "        2022-12-09 20:50:00    1\n",
       "        2022-12-09 20:51:00    1\n",
       "        2022-12-09 20:54:00    1\n",
       "        2022-12-09 20:59:00    1\n",
       "Name: Time, Length: 788, dtype: int64"
      ]
     },
     "execution_count": 83,
     "metadata": {},
     "output_type": "execute_result"
    }
   ],
   "source": [
    "df.groupby([\"Branch\"])['Time'].value_counts()"
   ]
  },
  {
   "cell_type": "code",
   "execution_count": 84,
   "metadata": {
    "execution": {
     "iopub.execute_input": "2022-12-07T06:34:57.645057Z",
     "iopub.status.busy": "2022-12-07T06:34:57.644644Z",
     "iopub.status.idle": "2022-12-07T06:34:57.675096Z",
     "shell.execute_reply": "2022-12-07T06:34:57.674079Z",
     "shell.execute_reply.started": "2022-12-07T06:34:57.645025Z"
    }
   },
   "outputs": [
    {
     "data": {
      "text/html": [
       "<div>\n",
       "<style scoped>\n",
       "    .dataframe tbody tr th:only-of-type {\n",
       "        vertical-align: middle;\n",
       "    }\n",
       "\n",
       "    .dataframe tbody tr th {\n",
       "        vertical-align: top;\n",
       "    }\n",
       "\n",
       "    .dataframe thead th {\n",
       "        text-align: right;\n",
       "    }\n",
       "</style>\n",
       "<table border=\"1\" class=\"dataframe\">\n",
       "  <thead>\n",
       "    <tr style=\"text-align: right;\">\n",
       "      <th></th>\n",
       "      <th>Branch</th>\n",
       "      <th>Customer type</th>\n",
       "      <th>Gender</th>\n",
       "      <th>Product line</th>\n",
       "      <th>Unit price</th>\n",
       "      <th>Quantity</th>\n",
       "      <th>Tax 5%</th>\n",
       "      <th>Total</th>\n",
       "      <th>Date</th>\n",
       "      <th>Time</th>\n",
       "      <th>Payment</th>\n",
       "      <th>cogs</th>\n",
       "      <th>gross margin percentage</th>\n",
       "      <th>gross income</th>\n",
       "      <th>Rating</th>\n",
       "      <th>Days</th>\n",
       "      <th>Month</th>\n",
       "      <th>weekday</th>\n",
       "      <th>Hour</th>\n",
       "    </tr>\n",
       "  </thead>\n",
       "  <tbody>\n",
       "    <tr>\n",
       "      <th>0</th>\n",
       "      <td>A</td>\n",
       "      <td>Member</td>\n",
       "      <td>Female</td>\n",
       "      <td>Health and beauty</td>\n",
       "      <td>74.69</td>\n",
       "      <td>7</td>\n",
       "      <td>26.1415</td>\n",
       "      <td>548.9715</td>\n",
       "      <td>2019-01-05</td>\n",
       "      <td>2022-12-09 13:08:00</td>\n",
       "      <td>Ewallet</td>\n",
       "      <td>522.83</td>\n",
       "      <td>4.761905</td>\n",
       "      <td>26.1415</td>\n",
       "      <td>9.1</td>\n",
       "      <td>Saturday</td>\n",
       "      <td>January</td>\n",
       "      <td>5</td>\n",
       "      <td>13</td>\n",
       "    </tr>\n",
       "    <tr>\n",
       "      <th>1</th>\n",
       "      <td>C</td>\n",
       "      <td>Normal</td>\n",
       "      <td>Female</td>\n",
       "      <td>Electronic accessories</td>\n",
       "      <td>15.28</td>\n",
       "      <td>5</td>\n",
       "      <td>3.8200</td>\n",
       "      <td>80.2200</td>\n",
       "      <td>2019-03-08</td>\n",
       "      <td>2022-12-09 10:29:00</td>\n",
       "      <td>Cash</td>\n",
       "      <td>76.40</td>\n",
       "      <td>4.761905</td>\n",
       "      <td>3.8200</td>\n",
       "      <td>9.6</td>\n",
       "      <td>Friday</td>\n",
       "      <td>March</td>\n",
       "      <td>4</td>\n",
       "      <td>10</td>\n",
       "    </tr>\n",
       "    <tr>\n",
       "      <th>2</th>\n",
       "      <td>A</td>\n",
       "      <td>Normal</td>\n",
       "      <td>Male</td>\n",
       "      <td>Home and lifestyle</td>\n",
       "      <td>46.33</td>\n",
       "      <td>7</td>\n",
       "      <td>16.2155</td>\n",
       "      <td>340.5255</td>\n",
       "      <td>2019-03-03</td>\n",
       "      <td>2022-12-09 13:23:00</td>\n",
       "      <td>Credit card</td>\n",
       "      <td>324.31</td>\n",
       "      <td>4.761905</td>\n",
       "      <td>16.2155</td>\n",
       "      <td>7.4</td>\n",
       "      <td>Sunday</td>\n",
       "      <td>March</td>\n",
       "      <td>6</td>\n",
       "      <td>13</td>\n",
       "    </tr>\n",
       "    <tr>\n",
       "      <th>3</th>\n",
       "      <td>A</td>\n",
       "      <td>Member</td>\n",
       "      <td>Male</td>\n",
       "      <td>Health and beauty</td>\n",
       "      <td>58.22</td>\n",
       "      <td>8</td>\n",
       "      <td>23.2880</td>\n",
       "      <td>489.0480</td>\n",
       "      <td>2019-01-27</td>\n",
       "      <td>2022-12-09 20:33:00</td>\n",
       "      <td>Ewallet</td>\n",
       "      <td>465.76</td>\n",
       "      <td>4.761905</td>\n",
       "      <td>23.2880</td>\n",
       "      <td>8.4</td>\n",
       "      <td>Sunday</td>\n",
       "      <td>January</td>\n",
       "      <td>6</td>\n",
       "      <td>20</td>\n",
       "    </tr>\n",
       "    <tr>\n",
       "      <th>4</th>\n",
       "      <td>A</td>\n",
       "      <td>Normal</td>\n",
       "      <td>Male</td>\n",
       "      <td>Sports and travel</td>\n",
       "      <td>86.31</td>\n",
       "      <td>7</td>\n",
       "      <td>30.2085</td>\n",
       "      <td>634.3785</td>\n",
       "      <td>2019-02-08</td>\n",
       "      <td>2022-12-09 10:37:00</td>\n",
       "      <td>Ewallet</td>\n",
       "      <td>604.17</td>\n",
       "      <td>4.761905</td>\n",
       "      <td>30.2085</td>\n",
       "      <td>5.3</td>\n",
       "      <td>Friday</td>\n",
       "      <td>February</td>\n",
       "      <td>4</td>\n",
       "      <td>10</td>\n",
       "    </tr>\n",
       "    <tr>\n",
       "      <th>...</th>\n",
       "      <td>...</td>\n",
       "      <td>...</td>\n",
       "      <td>...</td>\n",
       "      <td>...</td>\n",
       "      <td>...</td>\n",
       "      <td>...</td>\n",
       "      <td>...</td>\n",
       "      <td>...</td>\n",
       "      <td>...</td>\n",
       "      <td>...</td>\n",
       "      <td>...</td>\n",
       "      <td>...</td>\n",
       "      <td>...</td>\n",
       "      <td>...</td>\n",
       "      <td>...</td>\n",
       "      <td>...</td>\n",
       "      <td>...</td>\n",
       "      <td>...</td>\n",
       "      <td>...</td>\n",
       "    </tr>\n",
       "    <tr>\n",
       "      <th>995</th>\n",
       "      <td>C</td>\n",
       "      <td>Normal</td>\n",
       "      <td>Male</td>\n",
       "      <td>Health and beauty</td>\n",
       "      <td>40.35</td>\n",
       "      <td>1</td>\n",
       "      <td>2.0175</td>\n",
       "      <td>42.3675</td>\n",
       "      <td>2019-01-29</td>\n",
       "      <td>2022-12-09 13:46:00</td>\n",
       "      <td>Ewallet</td>\n",
       "      <td>40.35</td>\n",
       "      <td>4.761905</td>\n",
       "      <td>2.0175</td>\n",
       "      <td>6.2</td>\n",
       "      <td>Tuesday</td>\n",
       "      <td>January</td>\n",
       "      <td>1</td>\n",
       "      <td>13</td>\n",
       "    </tr>\n",
       "    <tr>\n",
       "      <th>996</th>\n",
       "      <td>B</td>\n",
       "      <td>Normal</td>\n",
       "      <td>Female</td>\n",
       "      <td>Home and lifestyle</td>\n",
       "      <td>97.38</td>\n",
       "      <td>10</td>\n",
       "      <td>48.6900</td>\n",
       "      <td>1022.4900</td>\n",
       "      <td>2019-03-02</td>\n",
       "      <td>2022-12-09 17:16:00</td>\n",
       "      <td>Ewallet</td>\n",
       "      <td>973.80</td>\n",
       "      <td>4.761905</td>\n",
       "      <td>48.6900</td>\n",
       "      <td>4.4</td>\n",
       "      <td>Saturday</td>\n",
       "      <td>March</td>\n",
       "      <td>5</td>\n",
       "      <td>17</td>\n",
       "    </tr>\n",
       "    <tr>\n",
       "      <th>997</th>\n",
       "      <td>A</td>\n",
       "      <td>Member</td>\n",
       "      <td>Male</td>\n",
       "      <td>Food and beverages</td>\n",
       "      <td>31.84</td>\n",
       "      <td>1</td>\n",
       "      <td>1.5920</td>\n",
       "      <td>33.4320</td>\n",
       "      <td>2019-02-09</td>\n",
       "      <td>2022-12-09 13:22:00</td>\n",
       "      <td>Cash</td>\n",
       "      <td>31.84</td>\n",
       "      <td>4.761905</td>\n",
       "      <td>1.5920</td>\n",
       "      <td>7.7</td>\n",
       "      <td>Saturday</td>\n",
       "      <td>February</td>\n",
       "      <td>5</td>\n",
       "      <td>13</td>\n",
       "    </tr>\n",
       "    <tr>\n",
       "      <th>998</th>\n",
       "      <td>A</td>\n",
       "      <td>Normal</td>\n",
       "      <td>Male</td>\n",
       "      <td>Home and lifestyle</td>\n",
       "      <td>65.82</td>\n",
       "      <td>1</td>\n",
       "      <td>3.2910</td>\n",
       "      <td>69.1110</td>\n",
       "      <td>2019-02-22</td>\n",
       "      <td>2022-12-09 15:33:00</td>\n",
       "      <td>Cash</td>\n",
       "      <td>65.82</td>\n",
       "      <td>4.761905</td>\n",
       "      <td>3.2910</td>\n",
       "      <td>4.1</td>\n",
       "      <td>Friday</td>\n",
       "      <td>February</td>\n",
       "      <td>4</td>\n",
       "      <td>15</td>\n",
       "    </tr>\n",
       "    <tr>\n",
       "      <th>999</th>\n",
       "      <td>A</td>\n",
       "      <td>Member</td>\n",
       "      <td>Female</td>\n",
       "      <td>Fashion accessories</td>\n",
       "      <td>88.34</td>\n",
       "      <td>7</td>\n",
       "      <td>30.9190</td>\n",
       "      <td>649.2990</td>\n",
       "      <td>2019-02-18</td>\n",
       "      <td>2022-12-09 13:28:00</td>\n",
       "      <td>Cash</td>\n",
       "      <td>618.38</td>\n",
       "      <td>4.761905</td>\n",
       "      <td>30.9190</td>\n",
       "      <td>6.6</td>\n",
       "      <td>Monday</td>\n",
       "      <td>February</td>\n",
       "      <td>0</td>\n",
       "      <td>13</td>\n",
       "    </tr>\n",
       "  </tbody>\n",
       "</table>\n",
       "<p>1000 rows × 19 columns</p>\n",
       "</div>"
      ],
      "text/plain": [
       "    Branch Customer type  Gender            Product line  Unit price  \\\n",
       "0        A        Member  Female       Health and beauty       74.69   \n",
       "1        C        Normal  Female  Electronic accessories       15.28   \n",
       "2        A        Normal    Male      Home and lifestyle       46.33   \n",
       "3        A        Member    Male       Health and beauty       58.22   \n",
       "4        A        Normal    Male       Sports and travel       86.31   \n",
       "..     ...           ...     ...                     ...         ...   \n",
       "995      C        Normal    Male       Health and beauty       40.35   \n",
       "996      B        Normal  Female      Home and lifestyle       97.38   \n",
       "997      A        Member    Male      Food and beverages       31.84   \n",
       "998      A        Normal    Male      Home and lifestyle       65.82   \n",
       "999      A        Member  Female     Fashion accessories       88.34   \n",
       "\n",
       "     Quantity   Tax 5%      Total       Date                Time      Payment  \\\n",
       "0           7  26.1415   548.9715 2019-01-05 2022-12-09 13:08:00      Ewallet   \n",
       "1           5   3.8200    80.2200 2019-03-08 2022-12-09 10:29:00         Cash   \n",
       "2           7  16.2155   340.5255 2019-03-03 2022-12-09 13:23:00  Credit card   \n",
       "3           8  23.2880   489.0480 2019-01-27 2022-12-09 20:33:00      Ewallet   \n",
       "4           7  30.2085   634.3785 2019-02-08 2022-12-09 10:37:00      Ewallet   \n",
       "..        ...      ...        ...        ...                 ...          ...   \n",
       "995         1   2.0175    42.3675 2019-01-29 2022-12-09 13:46:00      Ewallet   \n",
       "996        10  48.6900  1022.4900 2019-03-02 2022-12-09 17:16:00      Ewallet   \n",
       "997         1   1.5920    33.4320 2019-02-09 2022-12-09 13:22:00         Cash   \n",
       "998         1   3.2910    69.1110 2019-02-22 2022-12-09 15:33:00         Cash   \n",
       "999         7  30.9190   649.2990 2019-02-18 2022-12-09 13:28:00         Cash   \n",
       "\n",
       "       cogs  gross margin percentage  gross income  Rating      Days  \\\n",
       "0    522.83                 4.761905       26.1415     9.1  Saturday   \n",
       "1     76.40                 4.761905        3.8200     9.6    Friday   \n",
       "2    324.31                 4.761905       16.2155     7.4    Sunday   \n",
       "3    465.76                 4.761905       23.2880     8.4    Sunday   \n",
       "4    604.17                 4.761905       30.2085     5.3    Friday   \n",
       "..      ...                      ...           ...     ...       ...   \n",
       "995   40.35                 4.761905        2.0175     6.2   Tuesday   \n",
       "996  973.80                 4.761905       48.6900     4.4  Saturday   \n",
       "997   31.84                 4.761905        1.5920     7.7  Saturday   \n",
       "998   65.82                 4.761905        3.2910     4.1    Friday   \n",
       "999  618.38                 4.761905       30.9190     6.6    Monday   \n",
       "\n",
       "        Month  weekday  Hour  \n",
       "0     January        5    13  \n",
       "1       March        4    10  \n",
       "2       March        6    13  \n",
       "3     January        6    20  \n",
       "4    February        4    10  \n",
       "..        ...      ...   ...  \n",
       "995   January        1    13  \n",
       "996     March        5    17  \n",
       "997  February        5    13  \n",
       "998  February        4    15  \n",
       "999  February        0    13  \n",
       "\n",
       "[1000 rows x 19 columns]"
      ]
     },
     "execution_count": 84,
     "metadata": {},
     "output_type": "execute_result"
    }
   ],
   "source": [
    "df['Hour']=df['Time'].dt.hour\n",
    "df"
   ]
  },
  {
   "cell_type": "code",
   "execution_count": 85,
   "metadata": {
    "execution": {
     "iopub.execute_input": "2022-12-07T06:35:54.286402Z",
     "iopub.status.busy": "2022-12-07T06:35:54.285949Z",
     "iopub.status.idle": "2022-12-07T06:35:54.464245Z",
     "shell.execute_reply": "2022-12-07T06:35:54.462347Z",
     "shell.execute_reply.started": "2022-12-07T06:35:54.286365Z"
    }
   },
   "outputs": [
    {
     "data": {
      "text/plain": [
       "<AxesSubplot:xlabel='Hour', ylabel='count'>"
      ]
     },
     "execution_count": 85,
     "metadata": {},
     "output_type": "execute_result"
    },
    {
     "data": {
      "image/png": "[encoded data removed]",
      "text/plain": [
       "<Figure size 640x480 with 1 Axes>"
      ]
     },
     "metadata": {},
     "output_type": "display_data"
    }
   ],
   "source": [
    "sns.countplot(x='Hour',data=df)"
   ]
  },
  {
   "cell_type": "code",
   "execution_count": 86,
   "metadata": {
    "execution": {
     "iopub.execute_input": "2022-12-07T06:37:16.493304Z",
     "iopub.status.busy": "2022-12-07T06:37:16.492876Z",
     "iopub.status.idle": "2022-12-07T06:37:16.698878Z",
     "shell.execute_reply": "2022-12-07T06:37:16.697941Z",
     "shell.execute_reply.started": "2022-12-07T06:37:16.493272Z"
    }
   },
   "outputs": [
    {
     "name": "stderr",
     "output_type": "stream",
     "text": [
      "C:\\Users\\md kaif\\AppData\\Local\\Temp\\ipykernel_9732\\1970442205.py:2: FutureWarning: \n",
      "\n",
      "The `ci` parameter is deprecated. Use `errorbar=None` for the same effect.\n",
      "\n",
      "  sns.lineplot(x='Hour',y='Quantity',data=df,ci=None)\n"
     ]
    },
    {
     "data": {
      "text/plain": [
       "Text(0, 0.5, 'Quantity')"
      ]
     },
     "execution_count": 86,
     "metadata": {},
     "output_type": "execute_result"
    },
    {
     "data": {
      "image/png": "[encoded data removed]",
      "text/plain": [
       "<Figure size 1200x800 with 1 Axes>"
      ]
     },
     "metadata": {},
     "output_type": "display_data"
    }
   ],
   "source": [
    "plt.figure(figsize=(12,8))\n",
    "sns.lineplot(x='Hour',y='Quantity',data=df,ci=None)\n",
    "plt.title('Product sales per hour', fontsize=20)\n",
    "plt.xlabel('Time of the day', fontsize=15)\n",
    "plt.xticks(df['Hour'].unique())\n",
    "# plt.yticks(df['Quantity'].unique())\n",
    "plt.ylabel('Quantity', fontsize=15)\n",
    "\n"
   ]
  },
  {
   "cell_type": "code",
   "execution_count": null,
   "metadata": {},
   "outputs": [],
   "source": []
  }
 ],
 "metadata": {
  "kernelspec": {
   "display_name": "Python 3 (ipykernel)",
   "language": "python",
   "name": "python3"
  },
  "language_info": {
   "codemirror_mode": {
    "name": "ipython",
    "version": 3
   },
   "file_extension": ".py",
   "mimetype": "text/x-python",
   "name": "python",
   "nbconvert_exporter": "python",
   "pygments_lexer": "ipython3",
   "version": "3.9.15"
  }
 },
 "nbformat": 4,
 "nbformat_minor": 4
}
